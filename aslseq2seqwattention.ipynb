{
  "nbformat": 4,
  "nbformat_minor": 0,
  "metadata": {
    "colab": {
      "provenance": [],
      "gpuType": "T4"
    },
    "kernelspec": {
      "name": "python3",
      "display_name": "Python 3"
    },
    "language_info": {
      "name": "python"
    },
    "accelerator": "GPU"
  },
  "cells": [
    {
      "cell_type": "code",
      "execution_count": 1,
      "metadata": {
        "colab": {
          "base_uri": "https://localhost:8080/"
        },
        "id": "Xm55popSY1aL",
        "outputId": "e30827d5-24ad-443a-fc49-393057f1cabc"
      },
      "outputs": [
        {
          "output_type": "stream",
          "name": "stdout",
          "text": [
            "Looking in indexes: https://pypi.org/simple, https://us-python.pkg.dev/colab-wheels/public/simple/\n",
            "Collecting tensorflow-text>=2.11\n",
            "  Downloading tensorflow_text-2.12.1-cp310-cp310-manylinux_2_17_x86_64.manylinux2014_x86_64.whl (6.0 MB)\n",
            "\u001b[2K     \u001b[90m━━━━━━━━━━━━━━━━━━━━━━━━━━━━━━━━━━━━━━━━\u001b[0m \u001b[32m6.0/6.0 MB\u001b[0m \u001b[31m37.7 MB/s\u001b[0m eta \u001b[36m0:00:00\u001b[0m\n",
            "\u001b[?25hRequirement already satisfied: tensorflow-hub>=0.8.0 in /usr/local/lib/python3.10/dist-packages (from tensorflow-text>=2.11) (0.13.0)\n",
            "Requirement already satisfied: tensorflow<2.13,>=2.12.0 in /usr/local/lib/python3.10/dist-packages (from tensorflow-text>=2.11) (2.12.0)\n",
            "Requirement already satisfied: absl-py>=1.0.0 in /usr/local/lib/python3.10/dist-packages (from tensorflow<2.13,>=2.12.0->tensorflow-text>=2.11) (1.4.0)\n",
            "Requirement already satisfied: astunparse>=1.6.0 in /usr/local/lib/python3.10/dist-packages (from tensorflow<2.13,>=2.12.0->tensorflow-text>=2.11) (1.6.3)\n",
            "Requirement already satisfied: flatbuffers>=2.0 in /usr/local/lib/python3.10/dist-packages (from tensorflow<2.13,>=2.12.0->tensorflow-text>=2.11) (23.3.3)\n",
            "Requirement already satisfied: gast<=0.4.0,>=0.2.1 in /usr/local/lib/python3.10/dist-packages (from tensorflow<2.13,>=2.12.0->tensorflow-text>=2.11) (0.4.0)\n",
            "Requirement already satisfied: google-pasta>=0.1.1 in /usr/local/lib/python3.10/dist-packages (from tensorflow<2.13,>=2.12.0->tensorflow-text>=2.11) (0.2.0)\n",
            "Requirement already satisfied: grpcio<2.0,>=1.24.3 in /usr/local/lib/python3.10/dist-packages (from tensorflow<2.13,>=2.12.0->tensorflow-text>=2.11) (1.54.0)\n",
            "Requirement already satisfied: h5py>=2.9.0 in /usr/local/lib/python3.10/dist-packages (from tensorflow<2.13,>=2.12.0->tensorflow-text>=2.11) (3.8.0)\n",
            "Requirement already satisfied: jax>=0.3.15 in /usr/local/lib/python3.10/dist-packages (from tensorflow<2.13,>=2.12.0->tensorflow-text>=2.11) (0.4.10)\n",
            "Requirement already satisfied: keras<2.13,>=2.12.0 in /usr/local/lib/python3.10/dist-packages (from tensorflow<2.13,>=2.12.0->tensorflow-text>=2.11) (2.12.0)\n",
            "Requirement already satisfied: libclang>=13.0.0 in /usr/local/lib/python3.10/dist-packages (from tensorflow<2.13,>=2.12.0->tensorflow-text>=2.11) (16.0.0)\n",
            "Requirement already satisfied: numpy<1.24,>=1.22 in /usr/local/lib/python3.10/dist-packages (from tensorflow<2.13,>=2.12.0->tensorflow-text>=2.11) (1.22.4)\n",
            "Requirement already satisfied: opt-einsum>=2.3.2 in /usr/local/lib/python3.10/dist-packages (from tensorflow<2.13,>=2.12.0->tensorflow-text>=2.11) (3.3.0)\n",
            "Requirement already satisfied: packaging in /usr/local/lib/python3.10/dist-packages (from tensorflow<2.13,>=2.12.0->tensorflow-text>=2.11) (23.1)\n",
            "Requirement already satisfied: protobuf!=4.21.0,!=4.21.1,!=4.21.2,!=4.21.3,!=4.21.4,!=4.21.5,<5.0.0dev,>=3.20.3 in /usr/local/lib/python3.10/dist-packages (from tensorflow<2.13,>=2.12.0->tensorflow-text>=2.11) (3.20.3)\n",
            "Requirement already satisfied: setuptools in /usr/local/lib/python3.10/dist-packages (from tensorflow<2.13,>=2.12.0->tensorflow-text>=2.11) (67.7.2)\n",
            "Requirement already satisfied: six>=1.12.0 in /usr/local/lib/python3.10/dist-packages (from tensorflow<2.13,>=2.12.0->tensorflow-text>=2.11) (1.16.0)\n",
            "Requirement already satisfied: tensorboard<2.13,>=2.12 in /usr/local/lib/python3.10/dist-packages (from tensorflow<2.13,>=2.12.0->tensorflow-text>=2.11) (2.12.2)\n",
            "Requirement already satisfied: tensorflow-estimator<2.13,>=2.12.0 in /usr/local/lib/python3.10/dist-packages (from tensorflow<2.13,>=2.12.0->tensorflow-text>=2.11) (2.12.0)\n",
            "Requirement already satisfied: termcolor>=1.1.0 in /usr/local/lib/python3.10/dist-packages (from tensorflow<2.13,>=2.12.0->tensorflow-text>=2.11) (2.3.0)\n",
            "Requirement already satisfied: typing-extensions>=3.6.6 in /usr/local/lib/python3.10/dist-packages (from tensorflow<2.13,>=2.12.0->tensorflow-text>=2.11) (4.5.0)\n",
            "Requirement already satisfied: wrapt<1.15,>=1.11.0 in /usr/local/lib/python3.10/dist-packages (from tensorflow<2.13,>=2.12.0->tensorflow-text>=2.11) (1.14.1)\n",
            "Requirement already satisfied: tensorflow-io-gcs-filesystem>=0.23.1 in /usr/local/lib/python3.10/dist-packages (from tensorflow<2.13,>=2.12.0->tensorflow-text>=2.11) (0.32.0)\n",
            "Requirement already satisfied: wheel<1.0,>=0.23.0 in /usr/local/lib/python3.10/dist-packages (from astunparse>=1.6.0->tensorflow<2.13,>=2.12.0->tensorflow-text>=2.11) (0.40.0)\n",
            "Requirement already satisfied: ml-dtypes>=0.1.0 in /usr/local/lib/python3.10/dist-packages (from jax>=0.3.15->tensorflow<2.13,>=2.12.0->tensorflow-text>=2.11) (0.1.0)\n",
            "Requirement already satisfied: scipy>=1.7 in /usr/local/lib/python3.10/dist-packages (from jax>=0.3.15->tensorflow<2.13,>=2.12.0->tensorflow-text>=2.11) (1.10.1)\n",
            "Requirement already satisfied: google-auth<3,>=1.6.3 in /usr/local/lib/python3.10/dist-packages (from tensorboard<2.13,>=2.12->tensorflow<2.13,>=2.12.0->tensorflow-text>=2.11) (2.17.3)\n",
            "Requirement already satisfied: google-auth-oauthlib<1.1,>=0.5 in /usr/local/lib/python3.10/dist-packages (from tensorboard<2.13,>=2.12->tensorflow<2.13,>=2.12.0->tensorflow-text>=2.11) (1.0.0)\n",
            "Requirement already satisfied: markdown>=2.6.8 in /usr/local/lib/python3.10/dist-packages (from tensorboard<2.13,>=2.12->tensorflow<2.13,>=2.12.0->tensorflow-text>=2.11) (3.4.3)\n",
            "Requirement already satisfied: requests<3,>=2.21.0 in /usr/local/lib/python3.10/dist-packages (from tensorboard<2.13,>=2.12->tensorflow<2.13,>=2.12.0->tensorflow-text>=2.11) (2.27.1)\n",
            "Requirement already satisfied: tensorboard-data-server<0.8.0,>=0.7.0 in /usr/local/lib/python3.10/dist-packages (from tensorboard<2.13,>=2.12->tensorflow<2.13,>=2.12.0->tensorflow-text>=2.11) (0.7.0)\n",
            "Requirement already satisfied: tensorboard-plugin-wit>=1.6.0 in /usr/local/lib/python3.10/dist-packages (from tensorboard<2.13,>=2.12->tensorflow<2.13,>=2.12.0->tensorflow-text>=2.11) (1.8.1)\n",
            "Requirement already satisfied: werkzeug>=1.0.1 in /usr/local/lib/python3.10/dist-packages (from tensorboard<2.13,>=2.12->tensorflow<2.13,>=2.12.0->tensorflow-text>=2.11) (2.3.0)\n",
            "Requirement already satisfied: cachetools<6.0,>=2.0.0 in /usr/local/lib/python3.10/dist-packages (from google-auth<3,>=1.6.3->tensorboard<2.13,>=2.12->tensorflow<2.13,>=2.12.0->tensorflow-text>=2.11) (5.3.0)\n",
            "Requirement already satisfied: pyasn1-modules>=0.2.1 in /usr/local/lib/python3.10/dist-packages (from google-auth<3,>=1.6.3->tensorboard<2.13,>=2.12->tensorflow<2.13,>=2.12.0->tensorflow-text>=2.11) (0.3.0)\n",
            "Requirement already satisfied: rsa<5,>=3.1.4 in /usr/local/lib/python3.10/dist-packages (from google-auth<3,>=1.6.3->tensorboard<2.13,>=2.12->tensorflow<2.13,>=2.12.0->tensorflow-text>=2.11) (4.9)\n",
            "Requirement already satisfied: requests-oauthlib>=0.7.0 in /usr/local/lib/python3.10/dist-packages (from google-auth-oauthlib<1.1,>=0.5->tensorboard<2.13,>=2.12->tensorflow<2.13,>=2.12.0->tensorflow-text>=2.11) (1.3.1)\n",
            "Requirement already satisfied: urllib3<1.27,>=1.21.1 in /usr/local/lib/python3.10/dist-packages (from requests<3,>=2.21.0->tensorboard<2.13,>=2.12->tensorflow<2.13,>=2.12.0->tensorflow-text>=2.11) (1.26.15)\n",
            "Requirement already satisfied: certifi>=2017.4.17 in /usr/local/lib/python3.10/dist-packages (from requests<3,>=2.21.0->tensorboard<2.13,>=2.12->tensorflow<2.13,>=2.12.0->tensorflow-text>=2.11) (2022.12.7)\n",
            "Requirement already satisfied: charset-normalizer~=2.0.0 in /usr/local/lib/python3.10/dist-packages (from requests<3,>=2.21.0->tensorboard<2.13,>=2.12->tensorflow<2.13,>=2.12.0->tensorflow-text>=2.11) (2.0.12)\n",
            "Requirement already satisfied: idna<4,>=2.5 in /usr/local/lib/python3.10/dist-packages (from requests<3,>=2.21.0->tensorboard<2.13,>=2.12->tensorflow<2.13,>=2.12.0->tensorflow-text>=2.11) (3.4)\n",
            "Requirement already satisfied: MarkupSafe>=2.1.1 in /usr/local/lib/python3.10/dist-packages (from werkzeug>=1.0.1->tensorboard<2.13,>=2.12->tensorflow<2.13,>=2.12.0->tensorflow-text>=2.11) (2.1.2)\n",
            "Requirement already satisfied: pyasn1<0.6.0,>=0.4.6 in /usr/local/lib/python3.10/dist-packages (from pyasn1-modules>=0.2.1->google-auth<3,>=1.6.3->tensorboard<2.13,>=2.12->tensorflow<2.13,>=2.12.0->tensorflow-text>=2.11) (0.5.0)\n",
            "Requirement already satisfied: oauthlib>=3.0.0 in /usr/local/lib/python3.10/dist-packages (from requests-oauthlib>=0.7.0->google-auth-oauthlib<1.1,>=0.5->tensorboard<2.13,>=2.12->tensorflow<2.13,>=2.12.0->tensorflow-text>=2.11) (3.2.2)\n",
            "Installing collected packages: tensorflow-text\n",
            "Successfully installed tensorflow-text-2.12.1\n"
          ]
        }
      ],
      "source": [
        "!pip install \"tensorflow-text>=2.11\""
      ]
    },
    {
      "cell_type": "code",
      "source": [
        "!pip install einops"
      ],
      "metadata": {
        "colab": {
          "base_uri": "https://localhost:8080/"
        },
        "id": "qgSaJhIpaAk8",
        "outputId": "e467ef1c-60f2-427e-a8c2-38bf723ad585"
      },
      "execution_count": 2,
      "outputs": [
        {
          "output_type": "stream",
          "name": "stdout",
          "text": [
            "Looking in indexes: https://pypi.org/simple, https://us-python.pkg.dev/colab-wheels/public/simple/\n",
            "Collecting einops\n",
            "  Downloading einops-0.6.1-py3-none-any.whl (42 kB)\n",
            "\u001b[2K     \u001b[90m━━━━━━━━━━━━━━━━━━━━━━━━━━━━━━━━━━━━━━━━\u001b[0m \u001b[32m42.2/42.2 kB\u001b[0m \u001b[31m2.6 MB/s\u001b[0m eta \u001b[36m0:00:00\u001b[0m\n",
            "\u001b[?25hInstalling collected packages: einops\n",
            "Successfully installed einops-0.6.1\n"
          ]
        }
      ]
    },
    {
      "cell_type": "code",
      "source": [
        "import numpy as np"
      ],
      "metadata": {
        "id": "93kh9uzgaE7g"
      },
      "execution_count": 3,
      "outputs": []
    },
    {
      "cell_type": "code",
      "source": [
        "import typing\n",
        "from typing import Any, Tuple\n",
        "\n",
        "import einops\n",
        "import matplotlib.pyplot as plt\n",
        "import matplotlib.ticker as ticker\n",
        "\n",
        "import tensorflow as tf\n",
        "import tensorflow_text as tf_text"
      ],
      "metadata": {
        "id": "W3QM_PW8aUeT"
      },
      "execution_count": 4,
      "outputs": []
    },
    {
      "cell_type": "code",
      "source": [
        "from google.colab import files\n",
        "import io"
      ],
      "metadata": {
        "id": "rpf-RqmQasOD"
      },
      "execution_count": 5,
      "outputs": []
    },
    {
      "cell_type": "code",
      "source": [
        "english_text = files.upload()"
      ],
      "metadata": {
        "colab": {
          "base_uri": "https://localhost:8080/",
          "height": 73
        },
        "id": "x1mjLc5mbNVo",
        "outputId": "7e0f5821-7276-4e6e-857c-d7a31be26286"
      },
      "execution_count": 6,
      "outputs": [
        {
          "output_type": "display_data",
          "data": {
            "text/plain": [
              "<IPython.core.display.HTML object>"
            ],
            "text/html": [
              "\n",
              "     <input type=\"file\" id=\"files-a4a38e6f-56f0-45a7-944e-34a156bcf10e\" name=\"files[]\" multiple disabled\n",
              "        style=\"border:none\" />\n",
              "     <output id=\"result-a4a38e6f-56f0-45a7-944e-34a156bcf10e\">\n",
              "      Upload widget is only available when the cell has been executed in the\n",
              "      current browser session. Please rerun this cell to enable.\n",
              "      </output>\n",
              "      <script>// Copyright 2017 Google LLC\n",
              "//\n",
              "// Licensed under the Apache License, Version 2.0 (the \"License\");\n",
              "// you may not use this file except in compliance with the License.\n",
              "// You may obtain a copy of the License at\n",
              "//\n",
              "//      http://www.apache.org/licenses/LICENSE-2.0\n",
              "//\n",
              "// Unless required by applicable law or agreed to in writing, software\n",
              "// distributed under the License is distributed on an \"AS IS\" BASIS,\n",
              "// WITHOUT WARRANTIES OR CONDITIONS OF ANY KIND, either express or implied.\n",
              "// See the License for the specific language governing permissions and\n",
              "// limitations under the License.\n",
              "\n",
              "/**\n",
              " * @fileoverview Helpers for google.colab Python module.\n",
              " */\n",
              "(function(scope) {\n",
              "function span(text, styleAttributes = {}) {\n",
              "  const element = document.createElement('span');\n",
              "  element.textContent = text;\n",
              "  for (const key of Object.keys(styleAttributes)) {\n",
              "    element.style[key] = styleAttributes[key];\n",
              "  }\n",
              "  return element;\n",
              "}\n",
              "\n",
              "// Max number of bytes which will be uploaded at a time.\n",
              "const MAX_PAYLOAD_SIZE = 100 * 1024;\n",
              "\n",
              "function _uploadFiles(inputId, outputId) {\n",
              "  const steps = uploadFilesStep(inputId, outputId);\n",
              "  const outputElement = document.getElementById(outputId);\n",
              "  // Cache steps on the outputElement to make it available for the next call\n",
              "  // to uploadFilesContinue from Python.\n",
              "  outputElement.steps = steps;\n",
              "\n",
              "  return _uploadFilesContinue(outputId);\n",
              "}\n",
              "\n",
              "// This is roughly an async generator (not supported in the browser yet),\n",
              "// where there are multiple asynchronous steps and the Python side is going\n",
              "// to poll for completion of each step.\n",
              "// This uses a Promise to block the python side on completion of each step,\n",
              "// then passes the result of the previous step as the input to the next step.\n",
              "function _uploadFilesContinue(outputId) {\n",
              "  const outputElement = document.getElementById(outputId);\n",
              "  const steps = outputElement.steps;\n",
              "\n",
              "  const next = steps.next(outputElement.lastPromiseValue);\n",
              "  return Promise.resolve(next.value.promise).then((value) => {\n",
              "    // Cache the last promise value to make it available to the next\n",
              "    // step of the generator.\n",
              "    outputElement.lastPromiseValue = value;\n",
              "    return next.value.response;\n",
              "  });\n",
              "}\n",
              "\n",
              "/**\n",
              " * Generator function which is called between each async step of the upload\n",
              " * process.\n",
              " * @param {string} inputId Element ID of the input file picker element.\n",
              " * @param {string} outputId Element ID of the output display.\n",
              " * @return {!Iterable<!Object>} Iterable of next steps.\n",
              " */\n",
              "function* uploadFilesStep(inputId, outputId) {\n",
              "  const inputElement = document.getElementById(inputId);\n",
              "  inputElement.disabled = false;\n",
              "\n",
              "  const outputElement = document.getElementById(outputId);\n",
              "  outputElement.innerHTML = '';\n",
              "\n",
              "  const pickedPromise = new Promise((resolve) => {\n",
              "    inputElement.addEventListener('change', (e) => {\n",
              "      resolve(e.target.files);\n",
              "    });\n",
              "  });\n",
              "\n",
              "  const cancel = document.createElement('button');\n",
              "  inputElement.parentElement.appendChild(cancel);\n",
              "  cancel.textContent = 'Cancel upload';\n",
              "  const cancelPromise = new Promise((resolve) => {\n",
              "    cancel.onclick = () => {\n",
              "      resolve(null);\n",
              "    };\n",
              "  });\n",
              "\n",
              "  // Wait for the user to pick the files.\n",
              "  const files = yield {\n",
              "    promise: Promise.race([pickedPromise, cancelPromise]),\n",
              "    response: {\n",
              "      action: 'starting',\n",
              "    }\n",
              "  };\n",
              "\n",
              "  cancel.remove();\n",
              "\n",
              "  // Disable the input element since further picks are not allowed.\n",
              "  inputElement.disabled = true;\n",
              "\n",
              "  if (!files) {\n",
              "    return {\n",
              "      response: {\n",
              "        action: 'complete',\n",
              "      }\n",
              "    };\n",
              "  }\n",
              "\n",
              "  for (const file of files) {\n",
              "    const li = document.createElement('li');\n",
              "    li.append(span(file.name, {fontWeight: 'bold'}));\n",
              "    li.append(span(\n",
              "        `(${file.type || 'n/a'}) - ${file.size} bytes, ` +\n",
              "        `last modified: ${\n",
              "            file.lastModifiedDate ? file.lastModifiedDate.toLocaleDateString() :\n",
              "                                    'n/a'} - `));\n",
              "    const percent = span('0% done');\n",
              "    li.appendChild(percent);\n",
              "\n",
              "    outputElement.appendChild(li);\n",
              "\n",
              "    const fileDataPromise = new Promise((resolve) => {\n",
              "      const reader = new FileReader();\n",
              "      reader.onload = (e) => {\n",
              "        resolve(e.target.result);\n",
              "      };\n",
              "      reader.readAsArrayBuffer(file);\n",
              "    });\n",
              "    // Wait for the data to be ready.\n",
              "    let fileData = yield {\n",
              "      promise: fileDataPromise,\n",
              "      response: {\n",
              "        action: 'continue',\n",
              "      }\n",
              "    };\n",
              "\n",
              "    // Use a chunked sending to avoid message size limits. See b/62115660.\n",
              "    let position = 0;\n",
              "    do {\n",
              "      const length = Math.min(fileData.byteLength - position, MAX_PAYLOAD_SIZE);\n",
              "      const chunk = new Uint8Array(fileData, position, length);\n",
              "      position += length;\n",
              "\n",
              "      const base64 = btoa(String.fromCharCode.apply(null, chunk));\n",
              "      yield {\n",
              "        response: {\n",
              "          action: 'append',\n",
              "          file: file.name,\n",
              "          data: base64,\n",
              "        },\n",
              "      };\n",
              "\n",
              "      let percentDone = fileData.byteLength === 0 ?\n",
              "          100 :\n",
              "          Math.round((position / fileData.byteLength) * 100);\n",
              "      percent.textContent = `${percentDone}% done`;\n",
              "\n",
              "    } while (position < fileData.byteLength);\n",
              "  }\n",
              "\n",
              "  // All done.\n",
              "  yield {\n",
              "    response: {\n",
              "      action: 'complete',\n",
              "    }\n",
              "  };\n",
              "}\n",
              "\n",
              "scope.google = scope.google || {};\n",
              "scope.google.colab = scope.google.colab || {};\n",
              "scope.google.colab._files = {\n",
              "  _uploadFiles,\n",
              "  _uploadFilesContinue,\n",
              "};\n",
              "})(self);\n",
              "</script> "
            ]
          },
          "metadata": {}
        },
        {
          "output_type": "stream",
          "name": "stdout",
          "text": [
            "Saving aslg.test.en to aslg.test.en\n"
          ]
        }
      ]
    },
    {
      "cell_type": "code",
      "source": [
        "processed_asl_gloss = files.upload()"
      ],
      "metadata": {
        "colab": {
          "base_uri": "https://localhost:8080/",
          "height": 73
        },
        "id": "BqfJtyStbSk-",
        "outputId": "58527af7-88c6-460a-fb19-4538ca31204d"
      },
      "execution_count": 7,
      "outputs": [
        {
          "output_type": "display_data",
          "data": {
            "text/plain": [
              "<IPython.core.display.HTML object>"
            ],
            "text/html": [
              "\n",
              "     <input type=\"file\" id=\"files-9e8a99e8-1501-4074-a066-6f49b0a8c86c\" name=\"files[]\" multiple disabled\n",
              "        style=\"border:none\" />\n",
              "     <output id=\"result-9e8a99e8-1501-4074-a066-6f49b0a8c86c\">\n",
              "      Upload widget is only available when the cell has been executed in the\n",
              "      current browser session. Please rerun this cell to enable.\n",
              "      </output>\n",
              "      <script>// Copyright 2017 Google LLC\n",
              "//\n",
              "// Licensed under the Apache License, Version 2.0 (the \"License\");\n",
              "// you may not use this file except in compliance with the License.\n",
              "// You may obtain a copy of the License at\n",
              "//\n",
              "//      http://www.apache.org/licenses/LICENSE-2.0\n",
              "//\n",
              "// Unless required by applicable law or agreed to in writing, software\n",
              "// distributed under the License is distributed on an \"AS IS\" BASIS,\n",
              "// WITHOUT WARRANTIES OR CONDITIONS OF ANY KIND, either express or implied.\n",
              "// See the License for the specific language governing permissions and\n",
              "// limitations under the License.\n",
              "\n",
              "/**\n",
              " * @fileoverview Helpers for google.colab Python module.\n",
              " */\n",
              "(function(scope) {\n",
              "function span(text, styleAttributes = {}) {\n",
              "  const element = document.createElement('span');\n",
              "  element.textContent = text;\n",
              "  for (const key of Object.keys(styleAttributes)) {\n",
              "    element.style[key] = styleAttributes[key];\n",
              "  }\n",
              "  return element;\n",
              "}\n",
              "\n",
              "// Max number of bytes which will be uploaded at a time.\n",
              "const MAX_PAYLOAD_SIZE = 100 * 1024;\n",
              "\n",
              "function _uploadFiles(inputId, outputId) {\n",
              "  const steps = uploadFilesStep(inputId, outputId);\n",
              "  const outputElement = document.getElementById(outputId);\n",
              "  // Cache steps on the outputElement to make it available for the next call\n",
              "  // to uploadFilesContinue from Python.\n",
              "  outputElement.steps = steps;\n",
              "\n",
              "  return _uploadFilesContinue(outputId);\n",
              "}\n",
              "\n",
              "// This is roughly an async generator (not supported in the browser yet),\n",
              "// where there are multiple asynchronous steps and the Python side is going\n",
              "// to poll for completion of each step.\n",
              "// This uses a Promise to block the python side on completion of each step,\n",
              "// then passes the result of the previous step as the input to the next step.\n",
              "function _uploadFilesContinue(outputId) {\n",
              "  const outputElement = document.getElementById(outputId);\n",
              "  const steps = outputElement.steps;\n",
              "\n",
              "  const next = steps.next(outputElement.lastPromiseValue);\n",
              "  return Promise.resolve(next.value.promise).then((value) => {\n",
              "    // Cache the last promise value to make it available to the next\n",
              "    // step of the generator.\n",
              "    outputElement.lastPromiseValue = value;\n",
              "    return next.value.response;\n",
              "  });\n",
              "}\n",
              "\n",
              "/**\n",
              " * Generator function which is called between each async step of the upload\n",
              " * process.\n",
              " * @param {string} inputId Element ID of the input file picker element.\n",
              " * @param {string} outputId Element ID of the output display.\n",
              " * @return {!Iterable<!Object>} Iterable of next steps.\n",
              " */\n",
              "function* uploadFilesStep(inputId, outputId) {\n",
              "  const inputElement = document.getElementById(inputId);\n",
              "  inputElement.disabled = false;\n",
              "\n",
              "  const outputElement = document.getElementById(outputId);\n",
              "  outputElement.innerHTML = '';\n",
              "\n",
              "  const pickedPromise = new Promise((resolve) => {\n",
              "    inputElement.addEventListener('change', (e) => {\n",
              "      resolve(e.target.files);\n",
              "    });\n",
              "  });\n",
              "\n",
              "  const cancel = document.createElement('button');\n",
              "  inputElement.parentElement.appendChild(cancel);\n",
              "  cancel.textContent = 'Cancel upload';\n",
              "  const cancelPromise = new Promise((resolve) => {\n",
              "    cancel.onclick = () => {\n",
              "      resolve(null);\n",
              "    };\n",
              "  });\n",
              "\n",
              "  // Wait for the user to pick the files.\n",
              "  const files = yield {\n",
              "    promise: Promise.race([pickedPromise, cancelPromise]),\n",
              "    response: {\n",
              "      action: 'starting',\n",
              "    }\n",
              "  };\n",
              "\n",
              "  cancel.remove();\n",
              "\n",
              "  // Disable the input element since further picks are not allowed.\n",
              "  inputElement.disabled = true;\n",
              "\n",
              "  if (!files) {\n",
              "    return {\n",
              "      response: {\n",
              "        action: 'complete',\n",
              "      }\n",
              "    };\n",
              "  }\n",
              "\n",
              "  for (const file of files) {\n",
              "    const li = document.createElement('li');\n",
              "    li.append(span(file.name, {fontWeight: 'bold'}));\n",
              "    li.append(span(\n",
              "        `(${file.type || 'n/a'}) - ${file.size} bytes, ` +\n",
              "        `last modified: ${\n",
              "            file.lastModifiedDate ? file.lastModifiedDate.toLocaleDateString() :\n",
              "                                    'n/a'} - `));\n",
              "    const percent = span('0% done');\n",
              "    li.appendChild(percent);\n",
              "\n",
              "    outputElement.appendChild(li);\n",
              "\n",
              "    const fileDataPromise = new Promise((resolve) => {\n",
              "      const reader = new FileReader();\n",
              "      reader.onload = (e) => {\n",
              "        resolve(e.target.result);\n",
              "      };\n",
              "      reader.readAsArrayBuffer(file);\n",
              "    });\n",
              "    // Wait for the data to be ready.\n",
              "    let fileData = yield {\n",
              "      promise: fileDataPromise,\n",
              "      response: {\n",
              "        action: 'continue',\n",
              "      }\n",
              "    };\n",
              "\n",
              "    // Use a chunked sending to avoid message size limits. See b/62115660.\n",
              "    let position = 0;\n",
              "    do {\n",
              "      const length = Math.min(fileData.byteLength - position, MAX_PAYLOAD_SIZE);\n",
              "      const chunk = new Uint8Array(fileData, position, length);\n",
              "      position += length;\n",
              "\n",
              "      const base64 = btoa(String.fromCharCode.apply(null, chunk));\n",
              "      yield {\n",
              "        response: {\n",
              "          action: 'append',\n",
              "          file: file.name,\n",
              "          data: base64,\n",
              "        },\n",
              "      };\n",
              "\n",
              "      let percentDone = fileData.byteLength === 0 ?\n",
              "          100 :\n",
              "          Math.round((position / fileData.byteLength) * 100);\n",
              "      percent.textContent = `${percentDone}% done`;\n",
              "\n",
              "    } while (position < fileData.byteLength);\n",
              "  }\n",
              "\n",
              "  // All done.\n",
              "  yield {\n",
              "    response: {\n",
              "      action: 'complete',\n",
              "    }\n",
              "  };\n",
              "}\n",
              "\n",
              "scope.google = scope.google || {};\n",
              "scope.google.colab = scope.google.colab || {};\n",
              "scope.google.colab._files = {\n",
              "  _uploadFiles,\n",
              "  _uploadFilesContinue,\n",
              "};\n",
              "})(self);\n",
              "</script> "
            ]
          },
          "metadata": {}
        },
        {
          "output_type": "stream",
          "name": "stdout",
          "text": [
            "Saving aslg.test_processed.gloss.asl to aslg.test_processed.gloss.asl\n"
          ]
        }
      ]
    },
    {
      "cell_type": "code",
      "source": [
        "english_raw = english_text['aslg.test.en'].decode('utf-8').split('\\n')"
      ],
      "metadata": {
        "id": "cudL5LQ4bY6T"
      },
      "execution_count": 8,
      "outputs": []
    },
    {
      "cell_type": "code",
      "source": [
        "processed_asl_raw = processed_asl_gloss['aslg.test_processed.gloss.asl'].decode('utf-8').split('\\n')"
      ],
      "metadata": {
        "id": "4pY259yEbhp6"
      },
      "execution_count": 9,
      "outputs": []
    },
    {
      "cell_type": "code",
      "source": [
        "data_raw = dict(zip(english_raw, processed_asl_raw))"
      ],
      "metadata": {
        "id": "_kpp8ZXncLT3"
      },
      "execution_count": 10,
      "outputs": []
    },
    {
      "cell_type": "code",
      "source": [
        "list(data_raw.items())[:10]"
      ],
      "metadata": {
        "colab": {
          "base_uri": "https://localhost:8080/"
        },
        "id": "8GpbCcZ1cZXi",
        "outputId": "bf2e056a-d460-43de-fb81-1175ade21209"
      },
      "execution_count": 11,
      "outputs": [
        {
          "output_type": "execute_result",
          "data": {
            "text/plain": [
              "[('the date is not a fetish .', 'date be not fetish .'),\n",
              " ('the results speak for themselves .', 'result speak for mselves .'),\n",
              " ('it should mean that everyone is given an equal opportunity .',\n",
              "  'it should mean that everyone be give equal opportunity .'),\n",
              " ('europe has done a very great deal of work in this field , which is to be welcomed .',\n",
              "  'europe have do very great deal work in this field , which be to be welcome .'),\n",
              " ('we simply have to build it stage by stage .',\n",
              "  'we simply have to build it stage by stage .'),\n",
              " ('it is an issue of proportionality .', 'it be issue proportionality .'),\n",
              " ('we are talking about rights , plurality and freedom .',\n",
              "  'we be talk about rights , plurality and freedom .'),\n",
              " ('that attempt did not succeed , but it does represent a precedent for that kind of gathering .',\n",
              "  'that attempt do not succeed , but it do represent precedent for that kind garing .'),\n",
              " ('this green paper is important , seeing as it concerns a matter that needs to be dealt with .',\n",
              "  'this green paper be important , see as it concern matter that need to be deal with .'),\n",
              " ('mr audy asked the following question are your samples of sufficient size ?',\n",
              "  'mr audy ask follow question be you sample sufficient size ?')]"
            ]
          },
          "metadata": {},
          "execution_count": 11
        }
      ]
    },
    {
      "cell_type": "code",
      "source": [
        "len(data_raw)"
      ],
      "metadata": {
        "colab": {
          "base_uri": "https://localhost:8080/"
        },
        "id": "4mXpFg82csxz",
        "outputId": "a48dbb0e-8c45-4aa3-8821-283dc0bae198"
      },
      "execution_count": 17,
      "outputs": [
        {
          "output_type": "execute_result",
          "data": {
            "text/plain": [
              "976"
            ]
          },
          "metadata": {},
          "execution_count": 17
        }
      ]
    },
    {
      "cell_type": "code",
      "source": [
        "#@title\n",
        "class ShapeChecker():\n",
        "  def __init__(self):\n",
        "    # Keep a cache of every axis-name seen\n",
        "    self.shapes = {}\n",
        "\n",
        "  def __call__(self, tensor, names, broadcast=False):\n",
        "    if not tf.executing_eagerly():\n",
        "      return\n",
        "\n",
        "    parsed = einops.parse_shape(tensor, names)\n",
        "\n",
        "    for name, new_dim in parsed.items():\n",
        "      old_dim = self.shapes.get(name, None)\n",
        "      \n",
        "      if (broadcast and new_dim == 1):\n",
        "        continue\n",
        "\n",
        "      if old_dim is None:\n",
        "        # If the axis name is new, add its length to the cache.\n",
        "        self.shapes[name] = new_dim\n",
        "        continue\n",
        "\n",
        "      if new_dim != old_dim:\n",
        "        raise ValueError(f\"Shape mismatch for dimension: '{name}'\\n\"\n",
        "                         f\"    found: {new_dim}\\n\"\n",
        "                         f\"    expected: {old_dim}\\n\")"
      ],
      "metadata": {
        "id": "spE4ajrldL6j"
      },
      "execution_count": 13,
      "outputs": []
    },
    {
      "cell_type": "code",
      "source": [
        "processed_asl_raw = np.array(processed_asl_raw)\n",
        "english_raw = np.array(english_raw)"
      ],
      "metadata": {
        "id": "USt2Wv7Xf84T"
      },
      "execution_count": 14,
      "outputs": []
    },
    {
      "cell_type": "code",
      "source": [
        "processed_asl_raw "
      ],
      "metadata": {
        "colab": {
          "base_uri": "https://localhost:8080/"
        },
        "id": "Qe16T3y4gMAt",
        "outputId": "8c003257-8418-49ea-b170-16b6c5c07dad"
      },
      "execution_count": 15,
      "outputs": [
        {
          "output_type": "execute_result",
          "data": {
            "text/plain": [
              "array(['date be not fetish .', 'result speak for mselves .',\n",
              "       'it should mean that everyone be give equal opportunity .', ...,\n",
              "       'that be vile misrepresentation .',\n",
              "       'that be mostly in this part europe , where re be no emergency situation .',\n",
              "       ''], dtype='<U163')"
            ]
          },
          "metadata": {},
          "execution_count": 15
        }
      ]
    },
    {
      "cell_type": "code",
      "source": [
        "english_raw"
      ],
      "metadata": {
        "colab": {
          "base_uri": "https://localhost:8080/"
        },
        "id": "hckQ-0dXgPFY",
        "outputId": "62108c56-b650-4cd1-849b-95c621344fd9"
      },
      "execution_count": 16,
      "outputs": [
        {
          "output_type": "execute_result",
          "data": {
            "text/plain": [
              "array(['the date is not a fetish .', 'the results speak for themselves .',\n",
              "       'it should mean that everyone is given an equal opportunity .',\n",
              "       ..., 'that is a vile misrepresentation .',\n",
              "       'that is mostly in this part of europe , where there is no emergency situation .',\n",
              "       ''], dtype='<U179')"
            ]
          },
          "metadata": {},
          "execution_count": 16
        }
      ]
    },
    {
      "cell_type": "code",
      "source": [
        "BUFFER_SIZE = len(english_raw)"
      ],
      "metadata": {
        "id": "mbbv_bpYgRUL"
      },
      "execution_count": 18,
      "outputs": []
    },
    {
      "cell_type": "code",
      "source": [
        "BATCH_SIZE = 64"
      ],
      "metadata": {
        "id": "voN4ZKMguz9i"
      },
      "execution_count": 19,
      "outputs": []
    },
    {
      "cell_type": "code",
      "source": [
        "is_train = np.random.uniform(size=(len(processed_asl_raw),)) < 0.8"
      ],
      "metadata": {
        "id": "GP4ePWMgu6pN"
      },
      "execution_count": 20,
      "outputs": []
    },
    {
      "cell_type": "code",
      "source": [
        "train_raw = (\n",
        "    tf.data.Dataset\n",
        "    .from_tensor_slices((english_raw[is_train], processed_asl_raw[is_train]))\n",
        "    .shuffle(BUFFER_SIZE)\n",
        "    .batch(BATCH_SIZE))\n",
        "val_raw = (\n",
        "    tf.data.Dataset\n",
        "    .from_tensor_slices((english_raw[~is_train], processed_asl_raw[~is_train]))\n",
        "    .shuffle(BUFFER_SIZE)\n",
        "    .batch(BATCH_SIZE))"
      ],
      "metadata": {
        "id": "3l19UgbgvAp_"
      },
      "execution_count": 21,
      "outputs": []
    },
    {
      "cell_type": "code",
      "source": [
        "for example_context_strings, example_target_strings in train_raw.take(1):\n",
        "  print(example_context_strings[:5])\n",
        "  print()\n",
        "  print(example_target_strings[:5])\n",
        "  break"
      ],
      "metadata": {
        "colab": {
          "base_uri": "https://localhost:8080/"
        },
        "id": "9wHyQseQvJGW",
        "outputId": "659b0e96-e853-4c06-adec-f17188467f46"
      },
      "execution_count": 22,
      "outputs": [
        {
          "output_type": "stream",
          "name": "stdout",
          "text": [
            "tf.Tensor(\n",
            "[b'however , we must not forget kosovo .'\n",
            " b'the commission has proposed the exemption of micro businesses from the european regulations on financial statements .'\n",
            " b'colleagues have spoken about the unprecedented flooding that took place in ireland at the weekend .'\n",
            " b'the present report is a typical example of the meddlesomeness and zeal for regulation that characterise the european parliament .'\n",
            " b'if europe does not restore its growth path , it will decline economically and will therefore also decline politically .'], shape=(5,), dtype=string)\n",
            "\n",
            "tf.Tensor(\n",
            "[b'however , we must not forget kosovo .'\n",
            " b'commission have propose exemption micro business from european regulation on financial statement .'\n",
            " b'colleague have speak about unprecedented flooding that take place in ireland at weekend .'\n",
            " b'present report be typical example meddlesomeness and zeal for regulation that characterise european parliament .'\n",
            " b'if europe do not restore its growth path , it will decline economically and will refore also decline politically .'], shape=(5,), dtype=string)\n"
          ]
        }
      ]
    },
    {
      "cell_type": "code",
      "source": [
        "example_text = tf.constant('if europe do not restore its growth path , it will decline economically and will refore also decline politically .')\n",
        "\n",
        "print(example_text.numpy())\n",
        "print(tf_text.normalize_utf8(example_text, 'NFKD').numpy())"
      ],
      "metadata": {
        "colab": {
          "base_uri": "https://localhost:8080/"
        },
        "id": "JKFtHJMyvPS-",
        "outputId": "fe8ccb88-d300-4426-87a9-ad46f91baa23"
      },
      "execution_count": 23,
      "outputs": [
        {
          "output_type": "stream",
          "name": "stdout",
          "text": [
            "b'if europe do not restore its growth path , it will decline economically and will refore also decline politically .'\n",
            "b'if europe do not restore its growth path , it will decline economically and will refore also decline politically .'\n"
          ]
        }
      ]
    },
    {
      "cell_type": "code",
      "source": [
        "def tf_add_tokens(text):\n",
        "\n",
        "  # text = tf.strings.lower(text)\n",
        "  # Keep space, a to z, and select punctuation.\n",
        "  # text = tf.strings.regex_replace(text, '[^ a-z.?!,¿]', '')\n",
        "  # Add spaces around punctuation.\n",
        "  # text = tf.strings.regex_replace(text, '[.?!,¿]', r' \\0 ')\n",
        "  # Strip whitespace.\n",
        "  # text = tf.strings.strip(text)\n",
        "\n",
        "  text = tf.strings.join(['[START]', text, '[END]'], separator=' ')\n",
        "  return text"
      ],
      "metadata": {
        "id": "OgGNV2CGvg73"
      },
      "execution_count": 33,
      "outputs": []
    },
    {
      "cell_type": "code",
      "source": [
        "tf_add_tokens('if europe do not restore its growth path , it will decline economically and will refore also decline politically .')\n"
      ],
      "metadata": {
        "colab": {
          "base_uri": "https://localhost:8080/"
        },
        "id": "3kNYAnypvzoc",
        "outputId": "71c094e7-0318-4315-e5d3-06e55ba0d936"
      },
      "execution_count": 34,
      "outputs": [
        {
          "output_type": "execute_result",
          "data": {
            "text/plain": [
              "<tf.Tensor: shape=(), dtype=string, numpy=b'[START] if europe do not restore its growth path , it will decline economically and will refore also decline politically . [END]'>"
            ]
          },
          "metadata": {},
          "execution_count": 34
        }
      ]
    },
    {
      "cell_type": "code",
      "source": [
        "unique_words = set(' '.join(english_raw).split(' '))"
      ],
      "metadata": {
        "id": "uTSSEhEwv4CT"
      },
      "execution_count": 39,
      "outputs": []
    },
    {
      "cell_type": "code",
      "source": [
        "len(unique_words)"
      ],
      "metadata": {
        "colab": {
          "base_uri": "https://localhost:8080/"
        },
        "id": "pQ8eNI_ewavT",
        "outputId": "6be9f06f-bd25-438f-cd01-a2426199f298"
      },
      "execution_count": 40,
      "outputs": [
        {
          "output_type": "execute_result",
          "data": {
            "text/plain": [
              "2614"
            ]
          },
          "metadata": {},
          "execution_count": 40
        }
      ]
    },
    {
      "cell_type": "code",
      "source": [
        "max_vocab_size = 2614"
      ],
      "metadata": {
        "id": "b_O5utMQxFNd"
      },
      "execution_count": 41,
      "outputs": []
    },
    {
      "cell_type": "code",
      "source": [
        "context_text_processor = tf.keras.layers.TextVectorization(\n",
        "    standardize=tf_add_tokens,\n",
        "    max_tokens=max_vocab_size,\n",
        "    ragged=True)"
      ],
      "metadata": {
        "id": "0Fcp8qQHxJF0"
      },
      "execution_count": 42,
      "outputs": []
    },
    {
      "cell_type": "code",
      "source": [
        "context_text_processor.adapt(train_raw.map(lambda context, target: context))"
      ],
      "metadata": {
        "id": "B-QngZihxOlC"
      },
      "execution_count": 43,
      "outputs": []
    },
    {
      "cell_type": "code",
      "source": [
        "context_text_processor.get_vocabulary()[40:60]"
      ],
      "metadata": {
        "colab": {
          "base_uri": "https://localhost:8080/"
        },
        "id": "pB-ltgFdxS91",
        "outputId": "f1e26c0a-a2cf-4d0e-8caf-a012fd83f8bc"
      },
      "execution_count": 47,
      "outputs": [
        {
          "output_type": "execute_result",
          "data": {
            "text/plain": [
              "['very',\n",
              " 'should',\n",
              " 'see',\n",
              " 'president',\n",
              " 'minutes',\n",
              " 'important',\n",
              " 'about',\n",
              " 'can',\n",
              " 'commission',\n",
              " 'report',\n",
              " 'at',\n",
              " 'these',\n",
              " 'mr',\n",
              " 'do',\n",
              " 'they',\n",
              " 'from',\n",
              " 'all',\n",
              " 'what',\n",
              " 'europe',\n",
              " 'was']"
            ]
          },
          "metadata": {},
          "execution_count": 47
        }
      ]
    },
    {
      "cell_type": "code",
      "source": [
        "target_text_processor = tf.keras.layers.TextVectorization(\n",
        "    standardize=tf_add_tokens,\n",
        "    max_tokens=max_vocab_size,\n",
        "    ragged=True)\n",
        "\n",
        "target_text_processor.adapt(train_raw.map(lambda context, target: target))\n",
        "target_text_processor.get_vocabulary()[40:50]"
      ],
      "metadata": {
        "colab": {
          "base_uri": "https://localhost:8080/"
        },
        "id": "L8OWIDxtxWkk",
        "outputId": "3adf6e22-dacb-4713-cc94-2eb63bbb3ab8"
      },
      "execution_count": 49,
      "outputs": [
        {
          "output_type": "execute_result",
          "data": {
            "text/plain": [
              "['should',\n",
              " 'report',\n",
              " 'important',\n",
              " 'about',\n",
              " 'president',\n",
              " 'commission',\n",
              " 'at',\n",
              " 'se',\n",
              " 'or',\n",
              " 'need']"
            ]
          },
          "metadata": {},
          "execution_count": 49
        }
      ]
    },
    {
      "cell_type": "code",
      "source": [
        "example_tokens = context_text_processor(example_context_strings)\n",
        "example_tokens[:3, :]"
      ],
      "metadata": {
        "colab": {
          "base_uri": "https://localhost:8080/"
        },
        "id": "q7V7EsEixoZx",
        "outputId": "a410dd36-044e-4a08-fe35-6c8b4431ef3b"
      },
      "execution_count": 50,
      "outputs": [
        {
          "output_type": "execute_result",
          "data": {
            "text/plain": [
              "<tf.RaggedTensor [[2, 62, 6, 15, 29, 21, 779, 287, 4, 3],\n",
              " [2, 5, 48, 26, 665, 5, 1812, 7, 1521, 529, 55, 5, 25, 641, 23, 98, 212, 4,\n",
              "  3]                                                                       ,\n",
              " [2, 2054, 22, 1118, 46, 5, 990, 1768, 13, 577, 227, 11, 354, 50, 5, 949, 4,\n",
              "  3]                                                                        ]>"
            ]
          },
          "metadata": {},
          "execution_count": 50
        }
      ]
    },
    {
      "cell_type": "code",
      "source": [
        "context_vocab = np.array(context_text_processor.get_vocabulary())\n",
        "tokens = context_vocab[example_tokens[0].numpy()]\n",
        "' '.join(tokens)"
      ],
      "metadata": {
        "colab": {
          "base_uri": "https://localhost:8080/",
          "height": 36
        },
        "id": "vVQ9oG7oxwd6",
        "outputId": "d18f7fc7-50be-4fe2-f321-0e05cb50e43f"
      },
      "execution_count": 51,
      "outputs": [
        {
          "output_type": "execute_result",
          "data": {
            "text/plain": [
              "'[START] however , we must not forget kosovo . [END]'"
            ],
            "application/vnd.google.colaboratory.intrinsic+json": {
              "type": "string"
            }
          },
          "metadata": {},
          "execution_count": 51
        }
      ]
    },
    {
      "cell_type": "code",
      "source": [
        "plt.subplot(1, 2, 1)\n",
        "plt.pcolormesh(example_tokens.to_tensor())\n",
        "plt.title('Token IDs')\n",
        "\n",
        "plt.subplot(1, 2, 2)\n",
        "plt.pcolormesh(example_tokens.to_tensor() != 0)\n",
        "plt.title('Mask')"
      ],
      "metadata": {
        "colab": {
          "base_uri": "https://localhost:8080/",
          "height": 469
        },
        "id": "EtWBRaK1x4Ky",
        "outputId": "fe1f8377-c579-4f29-edc5-eda641933628"
      },
      "execution_count": 52,
      "outputs": [
        {
          "output_type": "execute_result",
          "data": {
            "text/plain": [
              "Text(0.5, 1.0, 'Mask')"
            ]
          },
          "metadata": {},
          "execution_count": 52
        },
        {
          "output_type": "display_data",
          "data": {
            "text/plain": [
              "<Figure size 640x480 with 2 Axes>"
            ],
            "image/png": "[encoded data removed]"
          },
          "metadata": {}
        }
      ]
    },
    {
      "cell_type": "code",
      "source": [
        "def process_text(context, target):\n",
        "  context = context_text_processor(context).to_tensor()\n",
        "  target = target_text_processor(target)\n",
        "  targ_in = target[:,:-1].to_tensor()\n",
        "  targ_out = target[:,1:].to_tensor()\n",
        "  return (context, targ_in), targ_out\n",
        "\n",
        "\n",
        "train_ds = train_raw.map(process_text, tf.data.AUTOTUNE)\n",
        "val_ds = val_raw.map(process_text, tf.data.AUTOTUNE)"
      ],
      "metadata": {
        "id": "5bOXPsCox-Zq"
      },
      "execution_count": 53,
      "outputs": []
    },
    {
      "cell_type": "code",
      "source": [
        "for (ex_context_tok, ex_tar_in), ex_tar_out in train_ds.take(1):\n",
        "  print(ex_context_tok[0, :10].numpy()) \n",
        "  print()\n",
        "  print(ex_tar_in[0, :10].numpy()) \n",
        "  print(ex_tar_out[0, :10].numpy())"
      ],
      "metadata": {
        "colab": {
          "base_uri": "https://localhost:8080/"
        },
        "id": "smXnHnHmyITq",
        "outputId": "a772f048-526b-4145-a275-026d4e3ccdc4"
      },
      "execution_count": 54,
      "outputs": [
        {
          "output_type": "stream",
          "name": "stdout",
          "text": [
            "[  2  18  37  67   8 124  12 193 203  23]\n",
            "\n",
            "[  2  13  34  65   7  68 201 176  18 287]\n",
            "[ 13  34  65   7  68 201 176  18 287   8]\n"
          ]
        }
      ]
    },
    {
      "cell_type": "code",
      "source": [
        "UNITS = 256"
      ],
      "metadata": {
        "id": "0b0Hng-tyLM-"
      },
      "execution_count": 55,
      "outputs": []
    },
    {
      "cell_type": "code",
      "source": [
        "class Encoder(tf.keras.layers.Layer):\n",
        "  def __init__(self, text_processor, units):\n",
        "    super(Encoder, self).__init__()\n",
        "    self.text_processor = text_processor\n",
        "    self.vocab_size = text_processor.vocabulary_size()\n",
        "    self.units = units\n",
        "\n",
        "    # The embedding layer converts tokens to vectors\n",
        "    self.embedding = tf.keras.layers.Embedding(self.vocab_size, units,\n",
        "                                               mask_zero=True)\n",
        "\n",
        "    # The RNN layer processes those vectors sequentially.\n",
        "    self.rnn = tf.keras.layers.Bidirectional(\n",
        "        merge_mode='sum',\n",
        "        layer=tf.keras.layers.GRU(self.units,\n",
        "                            # Return the sequence and state\n",
        "                            return_sequences=True,\n",
        "                            recurrent_initializer='glorot_uniform'))\n",
        "\n",
        "  def call(self, x):\n",
        "    shape_checker = ShapeChecker()\n",
        "    shape_checker(x, 'batch s')\n",
        "\n",
        "    # 2. The embedding layer looks up the embedding vector for each token.\n",
        "    x = self.embedding(x)\n",
        "    shape_checker(x, 'batch s units')\n",
        "\n",
        "    # 3. The GRU processes the sequence of embeddings.\n",
        "    x = self.rnn(x)\n",
        "    shape_checker(x, 'batch s units')\n",
        "\n",
        "    # 4. Returns the new sequence of embeddings.\n",
        "    return x\n",
        "\n",
        "  def convert_input(self, texts):\n",
        "    texts = tf.convert_to_tensor(texts)\n",
        "    if len(texts.shape) == 0:\n",
        "      texts = tf.convert_to_tensor(texts)[tf.newaxis]\n",
        "    context = self.text_processor(texts).to_tensor()\n",
        "    context = self(context)\n",
        "    return context"
      ],
      "metadata": {
        "id": "mrxugdsY_jT_"
      },
      "execution_count": 57,
      "outputs": []
    },
    {
      "cell_type": "code",
      "source": [
        "# Encode the input sequence.\n",
        "encoder = Encoder(context_text_processor, UNITS)\n",
        "ex_context = encoder(ex_context_tok)\n",
        "\n",
        "print(f'Context tokens, shape (batch, s): {ex_context_tok.shape}')\n",
        "print(f'Encoder output, shape (batch, s, units): {ex_context.shape}')"
      ],
      "metadata": {
        "colab": {
          "base_uri": "https://localhost:8080/"
        },
        "id": "dpLdLPhTyXKc",
        "outputId": "1a7a145c-8c44-496f-8f2b-c2858980b54c"
      },
      "execution_count": 58,
      "outputs": [
        {
          "output_type": "stream",
          "name": "stdout",
          "text": [
            "Context tokens, shape (batch, s): (64, 22)\n",
            "Encoder output, shape (batch, s, units): (64, 22, 256)\n"
          ]
        }
      ]
    },
    {
      "cell_type": "code",
      "source": [
        "class CrossAttention(tf.keras.layers.Layer):\n",
        "  def __init__(self, units, **kwargs):\n",
        "    super().__init__()\n",
        "    self.mha = tf.keras.layers.MultiHeadAttention(key_dim=units, num_heads=1, **kwargs)\n",
        "    self.layernorm = tf.keras.layers.LayerNormalization()\n",
        "    self.add = tf.keras.layers.Add()\n",
        "\n",
        "  def call(self, x, context):\n",
        "    shape_checker = ShapeChecker()\n",
        "\n",
        "    shape_checker(x, 'batch t units')\n",
        "    shape_checker(context, 'batch s units')\n",
        "\n",
        "    attn_output, attn_scores = self.mha(\n",
        "        query=x,\n",
        "        value=context,\n",
        "        return_attention_scores=True)\n",
        "\n",
        "    shape_checker(x, 'batch t units')\n",
        "    shape_checker(attn_scores, 'batch heads t s')\n",
        "\n",
        "    # Cache the attention scores for plotting later.\n",
        "    attn_scores = tf.reduce_mean(attn_scores, axis=1)\n",
        "    shape_checker(attn_scores, 'batch t s')\n",
        "    self.last_attention_weights = attn_scores\n",
        "\n",
        "    x = self.add([x, attn_output])\n",
        "    x = self.layernorm(x)\n",
        "\n",
        "    return x"
      ],
      "metadata": {
        "id": "8JGpyfZUCenp"
      },
      "execution_count": 59,
      "outputs": []
    },
    {
      "cell_type": "code",
      "source": [
        "attention_layer = CrossAttention(UNITS)\n",
        "\n",
        "# Attend to the encoded tokens\n",
        "embed = tf.keras.layers.Embedding(target_text_processor.vocabulary_size(),\n",
        "                                  output_dim=UNITS, mask_zero=True)\n",
        "ex_tar_embed = embed(ex_tar_in)\n",
        "\n",
        "result = attention_layer(ex_tar_embed, ex_context)\n",
        "\n",
        "print(f'Context sequence, shape (batch, s, units): {ex_context.shape}')\n",
        "print(f'Target sequence, shape (batch, t, units): {ex_tar_embed.shape}')\n",
        "print(f'Attention result, shape (batch, t, units): {result.shape}')\n",
        "print(f'Attention weights, shape (batch, t, s):    {attention_layer.last_attention_weights.shape}')"
      ],
      "metadata": {
        "colab": {
          "base_uri": "https://localhost:8080/"
        },
        "id": "Ap5JpekGyl8j",
        "outputId": "ada03dd2-6d92-4d0c-bce1-77827907baff"
      },
      "execution_count": 60,
      "outputs": [
        {
          "output_type": "stream",
          "name": "stdout",
          "text": [
            "Context sequence, shape (batch, s, units): (64, 22, 256)\n",
            "Target sequence, shape (batch, t, units): (64, 20, 256)\n",
            "Attention result, shape (batch, t, units): (64, 20, 256)\n",
            "Attention weights, shape (batch, t, s):    (64, 20, 22)\n"
          ]
        }
      ]
    },
    {
      "cell_type": "code",
      "source": [
        "attention_layer.last_attention_weights[0].numpy().sum(axis=-1)"
      ],
      "metadata": {
        "colab": {
          "base_uri": "https://localhost:8080/"
        },
        "id": "yjf-_ej8yqsz",
        "outputId": "60a468bf-2f18-4991-c174-e672d6366dbf"
      },
      "execution_count": 61,
      "outputs": [
        {
          "output_type": "execute_result",
          "data": {
            "text/plain": [
              "array([1.        , 1.        , 1.        , 1.        , 1.        ,\n",
              "       0.99999994, 1.        , 1.        , 0.9999999 , 1.        ,\n",
              "       1.        , 1.        , 0.99999994, 1.        , 1.        ,\n",
              "       1.0000001 , 1.        , 1.0000001 , 1.0000001 , 1.0000001 ],\n",
              "      dtype=float32)"
            ]
          },
          "metadata": {},
          "execution_count": 61
        }
      ]
    },
    {
      "cell_type": "code",
      "source": [
        "attention_weights = attention_layer.last_attention_weights\n",
        "mask=(ex_context_tok != 0).numpy()\n",
        "\n",
        "plt.subplot(1, 2, 1)\n",
        "plt.pcolormesh(mask*attention_weights[:, 0, :])\n",
        "plt.title('Attention weights')\n",
        "\n",
        "plt.subplot(1, 2, 2)\n",
        "plt.pcolormesh(mask)\n",
        "plt.title('Mask')"
      ],
      "metadata": {
        "colab": {
          "base_uri": "https://localhost:8080/",
          "height": 469
        },
        "id": "zNMqal8uytuN",
        "outputId": "dc8cb138-e316-4af4-e398-050f6197bc8e"
      },
      "execution_count": 62,
      "outputs": [
        {
          "output_type": "execute_result",
          "data": {
            "text/plain": [
              "Text(0.5, 1.0, 'Mask')"
            ]
          },
          "metadata": {},
          "execution_count": 62
        },
        {
          "output_type": "display_data",
          "data": {
            "text/plain": [
              "<Figure size 640x480 with 2 Axes>"
            ],
            "image/png": "[encoded data removed]"
          },
          "metadata": {}
        }
      ]
    },
    {
      "cell_type": "code",
      "source": [
        "class Decoder(tf.keras.layers.Layer):\n",
        "  @classmethod\n",
        "  def add_method(cls, fun):\n",
        "    setattr(cls, fun.__name__, fun)\n",
        "    return fun\n",
        "\n",
        "  def __init__(self, text_processor, units):\n",
        "    super(Decoder, self).__init__()\n",
        "    self.text_processor = text_processor\n",
        "    self.vocab_size = text_processor.vocabulary_size()\n",
        "    self.word_to_id = tf.keras.layers.StringLookup(\n",
        "        vocabulary=text_processor.get_vocabulary(),\n",
        "        mask_token='', oov_token='[UNK]')\n",
        "    self.id_to_word = tf.keras.layers.StringLookup(\n",
        "        vocabulary=text_processor.get_vocabulary(),\n",
        "        mask_token='', oov_token='[UNK]',\n",
        "        invert=True)\n",
        "    self.start_token = self.word_to_id('[START]')\n",
        "    self.end_token = self.word_to_id('[END]')\n",
        "\n",
        "    self.units = units\n",
        "\n",
        "\n",
        "    # 1. The embedding layer converts token IDs to vectors\n",
        "    self.embedding = tf.keras.layers.Embedding(self.vocab_size,\n",
        "                                               units, mask_zero=True)\n",
        "\n",
        "    # 2. The RNN keeps track of what's been generated so far.\n",
        "    self.rnn = tf.keras.layers.GRU(units,\n",
        "                                   return_sequences=True,\n",
        "                                   return_state=True,\n",
        "                                   recurrent_initializer='glorot_uniform')\n",
        "\n",
        "    # 3. The RNN output will be the query for the attention layer.\n",
        "    self.attention = CrossAttention(units)\n",
        "\n",
        "    # 4. This fully connected layer produces the logits for each\n",
        "    # output token.\n",
        "    self.output_layer = tf.keras.layers.Dense(self.vocab_size)"
      ],
      "metadata": {
        "id": "dZbth01WEeZg"
      },
      "execution_count": 63,
      "outputs": []
    },
    {
      "cell_type": "code",
      "source": [],
      "metadata": {
        "id": "r5Y_DRYfy10e"
      },
      "execution_count": null,
      "outputs": []
    },
    {
      "cell_type": "code",
      "source": [
        "@Decoder.add_method\n",
        "def call(self,\n",
        "         context, x,\n",
        "         state=None,\n",
        "         return_state=False):  \n",
        "  shape_checker = ShapeChecker()\n",
        "  shape_checker(x, 'batch t')\n",
        "  shape_checker(context, 'batch s units')\n",
        "\n",
        "  # 1. Lookup the embeddings\n",
        "  x = self.embedding(x)\n",
        "  shape_checker(x, 'batch t units')\n",
        "\n",
        "  # 2. Process the target sequence.\n",
        "  x, state = self.rnn(x, initial_state=state)\n",
        "  shape_checker(x, 'batch t units')\n",
        "\n",
        "  # 3. Use the RNN output as the query for the attention over the context.\n",
        "  x = self.attention(x, context)\n",
        "  self.last_attention_weights = self.attention.last_attention_weights\n",
        "  shape_checker(x, 'batch t units')\n",
        "  shape_checker(self.last_attention_weights, 'batch t s')\n",
        "\n",
        "  # Step 4. Generate logit predictions for the next token.\n",
        "  logits = self.output_layer(x)\n",
        "  shape_checker(logits, 'batch t target_vocab_size')\n",
        "\n",
        "  if return_state:\n",
        "    return logits, state\n",
        "  else:\n",
        "    return logits"
      ],
      "metadata": {
        "id": "wgPwFFYdFSCt"
      },
      "execution_count": 64,
      "outputs": []
    },
    {
      "cell_type": "code",
      "source": [
        "decoder = Decoder(target_text_processor, UNITS)"
      ],
      "metadata": {
        "id": "Tm3Ho8pZzCAy"
      },
      "execution_count": 65,
      "outputs": []
    },
    {
      "cell_type": "code",
      "source": [
        "logits = decoder(ex_context, ex_tar_in)\n",
        "\n",
        "print(f'encoder output shape: (batch, s, units) {ex_context.shape}')\n",
        "print(f'input target tokens shape: (batch, t) {ex_tar_in.shape}')\n",
        "print(f'logits shape shape: (batch, target_vocabulary_size) {logits.shape}')"
      ],
      "metadata": {
        "colab": {
          "base_uri": "https://localhost:8080/"
        },
        "id": "3MGs-3QPzE_3",
        "outputId": "5bc00bc1-1681-4ab9-b202-250ac383c4f1"
      },
      "execution_count": 66,
      "outputs": [
        {
          "output_type": "stream",
          "name": "stdout",
          "text": [
            "encoder output shape: (batch, s, units) (64, 22, 256)\n",
            "input target tokens shape: (batch, t) (64, 20)\n",
            "logits shape shape: (batch, target_vocabulary_size) (64, 20, 1909)\n"
          ]
        }
      ]
    },
    {
      "cell_type": "code",
      "source": [
        "@Decoder.add_method\n",
        "def get_initial_state(self, context):\n",
        "  batch_size = tf.shape(context)[0]\n",
        "  start_tokens = tf.fill([batch_size, 1], self.start_token)\n",
        "  done = tf.zeros([batch_size, 1], dtype=tf.bool)\n",
        "  embedded = self.embedding(start_tokens)\n",
        "  return start_tokens, done, self.rnn.get_initial_state(embedded)[0]"
      ],
      "metadata": {
        "id": "RWW_7WEezHon"
      },
      "execution_count": 67,
      "outputs": []
    },
    {
      "cell_type": "code",
      "source": [
        "@Decoder.add_method\n",
        "def tokens_to_text(self, tokens):\n",
        "  words = self.id_to_word(tokens)\n",
        "  result = tf.strings.reduce_join(words, axis=-1, separator=' ')\n",
        "  result = tf.strings.regex_replace(result, '^ *\\[START\\] *', '')\n",
        "  result = tf.strings.regex_replace(result, ' *\\[END\\] *$', '')\n",
        "  return result"
      ],
      "metadata": {
        "id": "IK1qsKPLzL-U"
      },
      "execution_count": 68,
      "outputs": []
    },
    {
      "cell_type": "code",
      "source": [
        "@Decoder.add_method\n",
        "def get_next_token(self, context, next_token, done, state, temperature = 0.0):\n",
        "  logits, state = self(\n",
        "    context, next_token,\n",
        "    state = state,\n",
        "    return_state=True) \n",
        "\n",
        "  if temperature == 0.0:\n",
        "    next_token = tf.argmax(logits, axis=-1)\n",
        "  else:\n",
        "    logits = logits[:, -1, :]/temperature\n",
        "    next_token = tf.random.categorical(logits, num_samples=1)\n",
        "\n",
        "  # If a sequence produces an `end_token`, set it `done`\n",
        "  done = done | (next_token == self.end_token)\n",
        "  # Once a sequence is done it only produces 0-padding.\n",
        "  next_token = tf.where(done, tf.constant(0, dtype=tf.int64), next_token)\n",
        "\n",
        "  return next_token, done, state"
      ],
      "metadata": {
        "id": "wRKxUCDFzN_h"
      },
      "execution_count": 69,
      "outputs": []
    },
    {
      "cell_type": "code",
      "source": [
        "# Setup the loop variables.\n",
        "next_token, done, state = decoder.get_initial_state(ex_context)\n",
        "tokens = []\n",
        "\n",
        "for n in range(10):\n",
        "  # Run one step.\n",
        "  next_token, done, state = decoder.get_next_token(\n",
        "      ex_context, next_token, done, state, temperature=1.0)\n",
        "  # Add the token to the output.\n",
        "  tokens.append(next_token)\n",
        "\n",
        "# Stack all the tokens together.\n",
        "tokens = tf.concat(tokens, axis=-1) # (batch, t)\n",
        "\n",
        "# Convert the tokens back to a a string\n",
        "result = decoder.tokens_to_text(tokens)\n",
        "result[:3].numpy()"
      ],
      "metadata": {
        "colab": {
          "base_uri": "https://localhost:8080/"
        },
        "id": "n0kbKkiVzQnj",
        "outputId": "9da1f46c-f9f1-44df-b023-e7f61539302f"
      },
      "execution_count": 70,
      "outputs": [
        {
          "output_type": "execute_result",
          "data": {
            "text/plain": [
              "array([b'have kelly constantly highly car priority meantime middle dalium win',\n",
              "       b'sme maintain under common pick essential from current fifth middle',\n",
              "       b'october dialogue ratify binding practice well defend organise again network'],\n",
              "      dtype=object)"
            ]
          },
          "metadata": {},
          "execution_count": 70
        }
      ]
    },
    {
      "cell_type": "code",
      "source": [
        "class Translator(tf.keras.Model):\n",
        "  @classmethod\n",
        "  def add_method(cls, fun):\n",
        "    setattr(cls, fun.__name__, fun)\n",
        "    return fun\n",
        "\n",
        "  def __init__(self, units,\n",
        "               context_text_processor,\n",
        "               target_text_processor):\n",
        "    super().__init__()\n",
        "    # Build the encoder and decoder\n",
        "    encoder = Encoder(context_text_processor, units)\n",
        "    decoder = Decoder(target_text_processor, units)\n",
        "\n",
        "    self.encoder = encoder\n",
        "    self.decoder = decoder\n",
        "\n",
        "  def call(self, inputs):\n",
        "    context, x = inputs\n",
        "    context = self.encoder(context)\n",
        "    logits = self.decoder(context, x)\n",
        "\n",
        "    #TODO(b/250038731): remove this\n",
        "    try:\n",
        "      # Delete the keras mask, so keras doesn't scale the loss+accuracy. \n",
        "      del logits._keras_mask\n",
        "    except AttributeError:\n",
        "      pass\n",
        "\n",
        "    return logits"
      ],
      "metadata": {
        "id": "xfN86tKFGwG8"
      },
      "execution_count": 71,
      "outputs": []
    },
    {
      "cell_type": "code",
      "source": [
        "model = Translator(UNITS, context_text_processor, target_text_processor)\n",
        "\n",
        "logits = model((ex_context_tok, ex_tar_in))\n",
        "\n",
        "print(f'Context tokens, shape: (batch, s, units) {ex_context_tok.shape}')\n",
        "print(f'Target tokens, shape: (batch, t) {ex_tar_in.shape}')\n",
        "print(f'logits, shape: (batch, t, target_vocabulary_size) {logits.shape}')"
      ],
      "metadata": {
        "colab": {
          "base_uri": "https://localhost:8080/"
        },
        "id": "l62QlnX5zacw",
        "outputId": "9725e8be-d609-491c-b201-8bbf603eb742"
      },
      "execution_count": 72,
      "outputs": [
        {
          "output_type": "stream",
          "name": "stdout",
          "text": [
            "Context tokens, shape: (batch, s, units) (64, 22)\n",
            "Target tokens, shape: (batch, t) (64, 20)\n",
            "logits, shape: (batch, t, target_vocabulary_size) (64, 20, 1909)\n"
          ]
        }
      ]
    },
    {
      "cell_type": "code",
      "source": [
        "def masked_loss(y_true, y_pred):\n",
        "    # Calculate the loss for each item in the batch.\n",
        "    loss_fn = tf.keras.losses.SparseCategoricalCrossentropy(\n",
        "        from_logits=True, reduction='none')\n",
        "    loss = loss_fn(y_true, y_pred)\n",
        "\n",
        "    # Mask off the losses on padding.\n",
        "    mask = tf.cast(y_true != 0, loss.dtype)\n",
        "    loss *= mask\n",
        "\n",
        "    # Return the total.\n",
        "    return tf.reduce_sum(loss)/tf.reduce_sum(mask)"
      ],
      "metadata": {
        "id": "FMnui3vAzc8u"
      },
      "execution_count": 73,
      "outputs": []
    },
    {
      "cell_type": "code",
      "source": [
        "def masked_acc(y_true, y_pred):\n",
        "    # Calculate the loss for each item in the batch.\n",
        "    y_pred = tf.argmax(y_pred, axis=-1)\n",
        "    y_pred = tf.cast(y_pred, y_true.dtype)\n",
        "\n",
        "    match = tf.cast(y_true == y_pred, tf.float32)\n",
        "    mask = tf.cast(y_true != 0, tf.float32)\n",
        "\n",
        "    return tf.reduce_sum(match)/tf.reduce_sum(mask)"
      ],
      "metadata": {
        "id": "a2a_onneze0T"
      },
      "execution_count": 74,
      "outputs": []
    },
    {
      "cell_type": "code",
      "source": [
        "model.compile(optimizer='adam',\n",
        "              loss=masked_loss, \n",
        "              metrics=[masked_acc, masked_loss])"
      ],
      "metadata": {
        "id": "1qa-Vn56zgSD"
      },
      "execution_count": 75,
      "outputs": []
    },
    {
      "cell_type": "code",
      "source": [
        "vocab_size = 1.0 * target_text_processor.vocabulary_size()\n",
        "\n",
        "{\"expected_loss\": tf.math.log(vocab_size).numpy(),\n",
        " \"expected_acc\": 1/vocab_size}"
      ],
      "metadata": {
        "colab": {
          "base_uri": "https://localhost:8080/"
        },
        "id": "RJ3JB4vBziAe",
        "outputId": "9de122c3-5edf-445f-86e5-6ad1bb85f9c7"
      },
      "execution_count": 76,
      "outputs": [
        {
          "output_type": "execute_result",
          "data": {
            "text/plain": [
              "{'expected_loss': 7.5543346, 'expected_acc': 0.0005238344683080147}"
            ]
          },
          "metadata": {},
          "execution_count": 76
        }
      ]
    },
    {
      "cell_type": "code",
      "source": [
        "model.evaluate(val_ds, steps=20, return_dict=True)"
      ],
      "metadata": {
        "colab": {
          "base_uri": "https://localhost:8080/"
        },
        "id": "dQVZNyeCzjtX",
        "outputId": "b5a5f997-4786-4199-a5d8-74efec21f137"
      },
      "execution_count": 77,
      "outputs": [
        {
          "output_type": "stream",
          "name": "stdout",
          "text": [
            "\r 1/20 [>.............................] - ETA: 2:54 - loss: 7.5684 - masked_acc: 0.0000e+00 - masked_loss: 7.5684"
          ]
        },
        {
          "output_type": "stream",
          "name": "stderr",
          "text": [
            "WARNING:tensorflow:Your input ran out of data; interrupting training. Make sure that your dataset or generator can generate at least `steps_per_epoch * epochs` batches (in this case, 20 batches). You may need to use the repeat() function when building your dataset.\n"
          ]
        },
        {
          "output_type": "stream",
          "name": "stdout",
          "text": [
            "\b\b\b\b\b\b\b\b\b\b\b\b\b\b\b\b\b\b\b\b\b\b\b\b\b\b\b\b\b\b\b\b\b\b\b\b\b\b\b\b\b\b\b\b\b\b\b\b\b\b\b\b\b\b\b\b\b\b\b\b\b\b\b\b\b\b\b\b\b\b\b\b\b\b\b\b\b\b\b\b\b\b\b\b\b\b\b\b\b\b\b\b\b\b\b\b\b\b\b\b\b\b\b\b\b\b\b\b\b\b\b\b\r20/20 [==============================] - 9s 6ms/step - loss: 7.5693 - masked_acc: 0.0000e+00 - masked_loss: 7.5688\n"
          ]
        },
        {
          "output_type": "execute_result",
          "data": {
            "text/plain": [
              "{'loss': 7.569260120391846,\n",
              " 'masked_acc': 0.0,\n",
              " 'masked_loss': 7.568828105926514}"
            ]
          },
          "metadata": {},
          "execution_count": 77
        }
      ]
    },
    {
      "cell_type": "code",
      "source": [
        "history = model.fit(\n",
        "    train_ds.repeat(), \n",
        "    epochs=100,\n",
        "    steps_per_epoch = 80,\n",
        "    validation_data=val_ds,\n",
        "    validation_steps = 20,\n",
        "    callbacks=[\n",
        "        tf.keras.callbacks.EarlyStopping(patience=3)])"
      ],
      "metadata": {
        "colab": {
          "base_uri": "https://localhost:8080/"
        },
        "id": "WnVF5BcNzlTQ",
        "outputId": "7f1fad65-dc20-41f6-de7a-81149d85bedb"
      },
      "execution_count": 78,
      "outputs": [
        {
          "output_type": "stream",
          "name": "stdout",
          "text": [
            "Epoch 1/100\n",
            "80/80 [==============================] - ETA: 0s - loss: 4.8608 - masked_acc: 0.2494 - masked_loss: 4.8543"
          ]
        },
        {
          "output_type": "stream",
          "name": "stderr",
          "text": [
            "WARNING:tensorflow:Your input ran out of data; interrupting training. Make sure that your dataset or generator can generate at least `steps_per_epoch * epochs` batches (in this case, 20 batches). You may need to use the repeat() function when building your dataset.\n"
          ]
        },
        {
          "output_type": "stream",
          "name": "stdout",
          "text": [
            "\b\b\b\b\b\b\b\b\b\b\b\b\b\b\b\b\b\b\b\b\b\b\b\b\b\b\b\b\b\b\b\b\b\b\b\b\b\b\b\b\b\b\b\b\b\b\b\b\b\b\b\b\b\b\b\b\b\b\b\b\b\b\b\b\b\b\b\b\b\b\b\b\b\b\b\b\b\b\b\b\b\b\b\b\b\b\b\b\b\b\b\b\b\b\b\b\b\b\b\b\b\b\b\b\b\b\r80/80 [==============================] - 42s 308ms/step - loss: 4.8608 - masked_acc: 0.2494 - masked_loss: 4.8543 - val_loss: 4.9135 - val_masked_acc: 0.2998 - val_masked_loss: 4.9199\n",
            "Epoch 2/100\n",
            "79/80 [============================>.] - ETA: 0s - loss: 2.0249 - masked_acc: 0.6391 - masked_loss: 2.0247"
          ]
        },
        {
          "output_type": "stream",
          "name": "stderr",
          "text": [
            "WARNING:tensorflow:Early stopping conditioned on metric `val_loss` which is not available. Available metrics are: loss,masked_acc,masked_loss\n"
          ]
        },
        {
          "output_type": "stream",
          "name": "stdout",
          "text": [
            "\b\b\b\b\b\b\b\b\b\b\b\b\b\b\b\b\b\b\b\b\b\b\b\b\b\b\b\b\b\b\b\b\b\b\b\b\b\b\b\b\b\b\b\b\b\b\b\b\b\b\b\b\b\b\b\b\b\b\b\b\b\b\b\b\b\b\b\b\b\b\b\b\b\b\b\b\b\b\b\b\b\b\b\b\b\b\b\b\b\b\b\b\b\b\b\b\b\b\b\b\b\b\b\b\b\b\r80/80 [==============================] - 12s 149ms/step - loss: 2.0094 - masked_acc: 0.6419 - masked_loss: 2.0100\n",
            "Epoch 3/100\n",
            "80/80 [==============================] - ETA: 0s - loss: 0.3655 - masked_acc: 0.9685 - masked_loss: 0.3681"
          ]
        },
        {
          "output_type": "stream",
          "name": "stderr",
          "text": [
            "WARNING:tensorflow:Early stopping conditioned on metric `val_loss` which is not available. Available metrics are: loss,masked_acc,masked_loss\n"
          ]
        },
        {
          "output_type": "stream",
          "name": "stdout",
          "text": [
            "\b\b\b\b\b\b\b\b\b\b\b\b\b\b\b\b\b\b\b\b\b\b\b\b\b\b\b\b\b\b\b\b\b\b\b\b\b\b\b\b\b\b\b\b\b\b\b\b\b\b\b\b\b\b\b\b\b\b\b\b\b\b\b\b\b\b\b\b\b\b\b\b\b\b\b\b\b\b\b\b\b\b\b\b\b\b\b\b\b\b\b\b\b\b\b\b\b\b\b\b\b\b\b\b\b\b\r80/80 [==============================] - 8s 95ms/step - loss: 0.3655 - masked_acc: 0.9685 - masked_loss: 0.3681\n",
            "Epoch 4/100\n",
            "79/80 [============================>.] - ETA: 0s - loss: 0.0587 - masked_acc: 0.9993 - masked_loss: 0.0588"
          ]
        },
        {
          "output_type": "stream",
          "name": "stderr",
          "text": [
            "WARNING:tensorflow:Early stopping conditioned on metric `val_loss` which is not available. Available metrics are: loss,masked_acc,masked_loss\n"
          ]
        },
        {
          "output_type": "stream",
          "name": "stdout",
          "text": [
            "\b\b\b\b\b\b\b\b\b\b\b\b\b\b\b\b\b\b\b\b\b\b\b\b\b\b\b\b\b\b\b\b\b\b\b\b\b\b\b\b\b\b\b\b\b\b\b\b\b\b\b\b\b\b\b\b\b\b\b\b\b\b\b\b\b\b\b\b\b\b\b\b\b\b\b\b\b\b\b\b\b\b\b\b\b\b\b\b\b\b\b\b\b\b\b\b\b\b\b\b\b\b\b\b\b\b\r80/80 [==============================] - 8s 106ms/step - loss: 0.0583 - masked_acc: 0.9993 - masked_loss: 0.0584\n",
            "Epoch 5/100\n",
            "79/80 [============================>.] - ETA: 0s - loss: 0.0208 - masked_acc: 1.0000 - masked_loss: 0.0207"
          ]
        },
        {
          "output_type": "stream",
          "name": "stderr",
          "text": [
            "WARNING:tensorflow:Early stopping conditioned on metric `val_loss` which is not available. Available metrics are: loss,masked_acc,masked_loss\n"
          ]
        },
        {
          "output_type": "stream",
          "name": "stdout",
          "text": [
            "\b\b\b\b\b\b\b\b\b\b\b\b\b\b\b\b\b\b\b\b\b\b\b\b\b\b\b\b\b\b\b\b\b\b\b\b\b\b\b\b\b\b\b\b\b\b\b\b\b\b\b\b\b\b\b\b\b\b\b\b\b\b\b\b\b\b\b\b\b\b\b\b\b\b\b\b\b\b\b\b\b\b\b\b\b\b\b\b\b\b\b\b\b\b\b\b\b\b\b\b\b\b\b\b\b\b\r80/80 [==============================] - 5s 69ms/step - loss: 0.0207 - masked_acc: 1.0000 - masked_loss: 0.0207\n",
            "Epoch 6/100\n",
            "79/80 [============================>.] - ETA: 0s - loss: 0.0121 - masked_acc: 1.0000 - masked_loss: 0.0121"
          ]
        },
        {
          "output_type": "stream",
          "name": "stderr",
          "text": [
            "WARNING:tensorflow:Early stopping conditioned on metric `val_loss` which is not available. Available metrics are: loss,masked_acc,masked_loss\n"
          ]
        },
        {
          "output_type": "stream",
          "name": "stdout",
          "text": [
            "\b\b\b\b\b\b\b\b\b\b\b\b\b\b\b\b\b\b\b\b\b\b\b\b\b\b\b\b\b\b\b\b\b\b\b\b\b\b\b\b\b\b\b\b\b\b\b\b\b\b\b\b\b\b\b\b\b\b\b\b\b\b\b\b\b\b\b\b\b\b\b\b\b\b\b\b\b\b\b\b\b\b\b\b\b\b\b\b\b\b\b\b\b\b\b\b\b\b\b\b\b\b\b\b\b\b\r80/80 [==============================] - 4s 51ms/step - loss: 0.0121 - masked_acc: 1.0000 - masked_loss: 0.0121\n",
            "Epoch 7/100\n",
            "79/80 [============================>.] - ETA: 0s - loss: 0.2007 - masked_acc: 0.9626 - masked_loss: 0.2014"
          ]
        },
        {
          "output_type": "stream",
          "name": "stderr",
          "text": [
            "WARNING:tensorflow:Early stopping conditioned on metric `val_loss` which is not available. Available metrics are: loss,masked_acc,masked_loss\n"
          ]
        },
        {
          "output_type": "stream",
          "name": "stdout",
          "text": [
            "\b\b\b\b\b\b\b\b\b\b\b\b\b\b\b\b\b\b\b\b\b\b\b\b\b\b\b\b\b\b\b\b\b\b\b\b\b\b\b\b\b\b\b\b\b\b\b\b\b\b\b\b\b\b\b\b\b\b\b\b\b\b\b\b\b\b\b\b\b\b\b\b\b\b\b\b\b\b\b\b\b\b\b\b\b\b\b\b\b\b\b\b\b\b\b\b\b\b\b\b\b\b\b\b\b\b\r80/80 [==============================] - 5s 64ms/step - loss: 0.1984 - masked_acc: 0.9631 - masked_loss: 0.1992\n",
            "Epoch 8/100\n",
            "79/80 [============================>.] - ETA: 0s - loss: 0.0167 - masked_acc: 0.9999 - masked_loss: 0.0166"
          ]
        },
        {
          "output_type": "stream",
          "name": "stderr",
          "text": [
            "WARNING:tensorflow:Early stopping conditioned on metric `val_loss` which is not available. Available metrics are: loss,masked_acc,masked_loss\n"
          ]
        },
        {
          "output_type": "stream",
          "name": "stdout",
          "text": [
            "\b\b\b\b\b\b\b\b\b\b\b\b\b\b\b\b\b\b\b\b\b\b\b\b\b\b\b\b\b\b\b\b\b\b\b\b\b\b\b\b\b\b\b\b\b\b\b\b\b\b\b\b\b\b\b\b\b\b\b\b\b\b\b\b\b\b\b\b\b\b\b\b\b\b\b\b\b\b\b\b\b\b\b\b\b\b\b\b\b\b\b\b\b\b\b\b\b\b\b\b\b\b\b\b\b\b\r80/80 [==============================] - 4s 46ms/step - loss: 0.0166 - masked_acc: 0.9999 - masked_loss: 0.0165\n",
            "Epoch 9/100\n",
            "80/80 [==============================] - ETA: 0s - loss: 0.0086 - masked_acc: 1.0000 - masked_loss: 0.0087"
          ]
        },
        {
          "output_type": "stream",
          "name": "stderr",
          "text": [
            "WARNING:tensorflow:Early stopping conditioned on metric `val_loss` which is not available. Available metrics are: loss,masked_acc,masked_loss\n"
          ]
        },
        {
          "output_type": "stream",
          "name": "stdout",
          "text": [
            "\b\b\b\b\b\b\b\b\b\b\b\b\b\b\b\b\b\b\b\b\b\b\b\b\b\b\b\b\b\b\b\b\b\b\b\b\b\b\b\b\b\b\b\b\b\b\b\b\b\b\b\b\b\b\b\b\b\b\b\b\b\b\b\b\b\b\b\b\b\b\b\b\b\b\b\b\b\b\b\b\b\b\b\b\b\b\b\b\b\b\b\b\b\b\b\b\b\b\b\b\b\b\b\b\b\b\r80/80 [==============================] - 4s 46ms/step - loss: 0.0086 - masked_acc: 1.0000 - masked_loss: 0.0087\n",
            "Epoch 10/100\n",
            "79/80 [============================>.] - ETA: 0s - loss: 0.0061 - masked_acc: 1.0000 - masked_loss: 0.0061"
          ]
        },
        {
          "output_type": "stream",
          "name": "stderr",
          "text": [
            "WARNING:tensorflow:Early stopping conditioned on metric `val_loss` which is not available. Available metrics are: loss,masked_acc,masked_loss\n"
          ]
        },
        {
          "output_type": "stream",
          "name": "stdout",
          "text": [
            "\b\b\b\b\b\b\b\b\b\b\b\b\b\b\b\b\b\b\b\b\b\b\b\b\b\b\b\b\b\b\b\b\b\b\b\b\b\b\b\b\b\b\b\b\b\b\b\b\b\b\b\b\b\b\b\b\b\b\b\b\b\b\b\b\b\b\b\b\b\b\b\b\b\b\b\b\b\b\b\b\b\b\b\b\b\b\b\b\b\b\b\b\b\b\b\b\b\b\b\b\b\b\b\b\b\b\r80/80 [==============================] - 4s 51ms/step - loss: 0.0061 - masked_acc: 1.0000 - masked_loss: 0.0061\n",
            "Epoch 11/100\n",
            "79/80 [============================>.] - ETA: 0s - loss: 0.0046 - masked_acc: 1.0000 - masked_loss: 0.0046"
          ]
        },
        {
          "output_type": "stream",
          "name": "stderr",
          "text": [
            "WARNING:tensorflow:Early stopping conditioned on metric `val_loss` which is not available. Available metrics are: loss,masked_acc,masked_loss\n"
          ]
        },
        {
          "output_type": "stream",
          "name": "stdout",
          "text": [
            "\b\b\b\b\b\b\b\b\b\b\b\b\b\b\b\b\b\b\b\b\b\b\b\b\b\b\b\b\b\b\b\b\b\b\b\b\b\b\b\b\b\b\b\b\b\b\b\b\b\b\b\b\b\b\b\b\b\b\b\b\b\b\b\b\b\b\b\b\b\b\b\b\b\b\b\b\b\b\b\b\b\b\b\b\b\b\b\b\b\b\b\b\b\b\b\b\b\b\b\b\b\b\b\b\b\b\r80/80 [==============================] - 3s 43ms/step - loss: 0.0046 - masked_acc: 1.0000 - masked_loss: 0.0046\n",
            "Epoch 12/100\n",
            "79/80 [============================>.] - ETA: 0s - loss: 0.0037 - masked_acc: 1.0000 - masked_loss: 0.0037"
          ]
        },
        {
          "output_type": "stream",
          "name": "stderr",
          "text": [
            "WARNING:tensorflow:Early stopping conditioned on metric `val_loss` which is not available. Available metrics are: loss,masked_acc,masked_loss\n"
          ]
        },
        {
          "output_type": "stream",
          "name": "stdout",
          "text": [
            "\b\b\b\b\b\b\b\b\b\b\b\b\b\b\b\b\b\b\b\b\b\b\b\b\b\b\b\b\b\b\b\b\b\b\b\b\b\b\b\b\b\b\b\b\b\b\b\b\b\b\b\b\b\b\b\b\b\b\b\b\b\b\b\b\b\b\b\b\b\b\b\b\b\b\b\b\b\b\b\b\b\b\b\b\b\b\b\b\b\b\b\b\b\b\b\b\b\b\b\b\b\b\b\b\b\b\r80/80 [==============================] - 3s 38ms/step - loss: 0.0036 - masked_acc: 1.0000 - masked_loss: 0.0037\n",
            "Epoch 13/100\n",
            "79/80 [============================>.] - ETA: 0s - loss: 0.0030 - masked_acc: 1.0000 - masked_loss: 0.0030"
          ]
        },
        {
          "output_type": "stream",
          "name": "stderr",
          "text": [
            "WARNING:tensorflow:Early stopping conditioned on metric `val_loss` which is not available. Available metrics are: loss,masked_acc,masked_loss\n"
          ]
        },
        {
          "output_type": "stream",
          "name": "stdout",
          "text": [
            "\b\b\b\b\b\b\b\b\b\b\b\b\b\b\b\b\b\b\b\b\b\b\b\b\b\b\b\b\b\b\b\b\b\b\b\b\b\b\b\b\b\b\b\b\b\b\b\b\b\b\b\b\b\b\b\b\b\b\b\b\b\b\b\b\b\b\b\b\b\b\b\b\b\b\b\b\b\b\b\b\b\b\b\b\b\b\b\b\b\b\b\b\b\b\b\b\b\b\b\b\b\b\b\b\b\b\r80/80 [==============================] - 4s 55ms/step - loss: 0.0030 - masked_acc: 1.0000 - masked_loss: 0.0030\n",
            "Epoch 14/100\n",
            "78/80 [============================>.] - ETA: 0s - loss: 0.0025 - masked_acc: 1.0000 - masked_loss: 0.0025"
          ]
        },
        {
          "output_type": "stream",
          "name": "stderr",
          "text": [
            "WARNING:tensorflow:Early stopping conditioned on metric `val_loss` which is not available. Available metrics are: loss,masked_acc,masked_loss\n"
          ]
        },
        {
          "output_type": "stream",
          "name": "stdout",
          "text": [
            "\b\b\b\b\b\b\b\b\b\b\b\b\b\b\b\b\b\b\b\b\b\b\b\b\b\b\b\b\b\b\b\b\b\b\b\b\b\b\b\b\b\b\b\b\b\b\b\b\b\b\b\b\b\b\b\b\b\b\b\b\b\b\b\b\b\b\b\b\b\b\b\b\b\b\b\b\b\b\b\b\b\b\b\b\b\b\b\b\b\b\b\b\b\b\b\b\b\b\b\b\b\b\b\b\b\b\r80/80 [==============================] - 4s 47ms/step - loss: 0.0025 - masked_acc: 1.0000 - masked_loss: 0.0025\n",
            "Epoch 15/100\n",
            "78/80 [============================>.] - ETA: 0s - loss: 0.0021 - masked_acc: 1.0000 - masked_loss: 0.0021"
          ]
        },
        {
          "output_type": "stream",
          "name": "stderr",
          "text": [
            "WARNING:tensorflow:Early stopping conditioned on metric `val_loss` which is not available. Available metrics are: loss,masked_acc,masked_loss\n"
          ]
        },
        {
          "output_type": "stream",
          "name": "stdout",
          "text": [
            "\b\b\b\b\b\b\b\b\b\b\b\b\b\b\b\b\b\b\b\b\b\b\b\b\b\b\b\b\b\b\b\b\b\b\b\b\b\b\b\b\b\b\b\b\b\b\b\b\b\b\b\b\b\b\b\b\b\b\b\b\b\b\b\b\b\b\b\b\b\b\b\b\b\b\b\b\b\b\b\b\b\b\b\b\b\b\b\b\b\b\b\b\b\b\b\b\b\b\b\b\b\b\b\b\b\b\r80/80 [==============================] - 3s 33ms/step - loss: 0.0021 - masked_acc: 1.0000 - masked_loss: 0.0021\n",
            "Epoch 16/100\n",
            "79/80 [============================>.] - ETA: 0s - loss: 0.0018 - masked_acc: 1.0000 - masked_loss: 0.0018"
          ]
        },
        {
          "output_type": "stream",
          "name": "stderr",
          "text": [
            "WARNING:tensorflow:Early stopping conditioned on metric `val_loss` which is not available. Available metrics are: loss,masked_acc,masked_loss\n"
          ]
        },
        {
          "output_type": "stream",
          "name": "stdout",
          "text": [
            "\b\b\b\b\b\b\b\b\b\b\b\b\b\b\b\b\b\b\b\b\b\b\b\b\b\b\b\b\b\b\b\b\b\b\b\b\b\b\b\b\b\b\b\b\b\b\b\b\b\b\b\b\b\b\b\b\b\b\b\b\b\b\b\b\b\b\b\b\b\b\b\b\b\b\b\b\b\b\b\b\b\b\b\b\b\b\b\b\b\b\b\b\b\b\b\b\b\b\b\b\b\b\b\b\b\b\r80/80 [==============================] - 3s 32ms/step - loss: 0.0018 - masked_acc: 1.0000 - masked_loss: 0.0018\n",
            "Epoch 17/100\n",
            "80/80 [==============================] - ETA: 0s - loss: 0.0016 - masked_acc: 1.0000 - masked_loss: 0.0016"
          ]
        },
        {
          "output_type": "stream",
          "name": "stderr",
          "text": [
            "WARNING:tensorflow:Early stopping conditioned on metric `val_loss` which is not available. Available metrics are: loss,masked_acc,masked_loss\n"
          ]
        },
        {
          "output_type": "stream",
          "name": "stdout",
          "text": [
            "\b\b\b\b\b\b\b\b\b\b\b\b\b\b\b\b\b\b\b\b\b\b\b\b\b\b\b\b\b\b\b\b\b\b\b\b\b\b\b\b\b\b\b\b\b\b\b\b\b\b\b\b\b\b\b\b\b\b\b\b\b\b\b\b\b\b\b\b\b\b\b\b\b\b\b\b\b\b\b\b\b\b\b\b\b\b\b\b\b\b\b\b\b\b\b\b\b\b\b\b\b\b\b\b\b\b\r80/80 [==============================] - 4s 45ms/step - loss: 0.0016 - masked_acc: 1.0000 - masked_loss: 0.0016\n",
            "Epoch 18/100\n",
            "80/80 [==============================] - ETA: 0s - loss: 0.0014 - masked_acc: 1.0000 - masked_loss: 0.0014"
          ]
        },
        {
          "output_type": "stream",
          "name": "stderr",
          "text": [
            "WARNING:tensorflow:Early stopping conditioned on metric `val_loss` which is not available. Available metrics are: loss,masked_acc,masked_loss\n"
          ]
        },
        {
          "output_type": "stream",
          "name": "stdout",
          "text": [
            "\b\b\b\b\b\b\b\b\b\b\b\b\b\b\b\b\b\b\b\b\b\b\b\b\b\b\b\b\b\b\b\b\b\b\b\b\b\b\b\b\b\b\b\b\b\b\b\b\b\b\b\b\b\b\b\b\b\b\b\b\b\b\b\b\b\b\b\b\b\b\b\b\b\b\b\b\b\b\b\b\b\b\b\b\b\b\b\b\b\b\b\b\b\b\b\b\b\b\b\b\b\b\b\b\b\b\r80/80 [==============================] - 3s 41ms/step - loss: 0.0014 - masked_acc: 1.0000 - masked_loss: 0.0014\n",
            "Epoch 19/100\n",
            "80/80 [==============================] - ETA: 0s - loss: 0.0012 - masked_acc: 1.0000 - masked_loss: 0.0012"
          ]
        },
        {
          "output_type": "stream",
          "name": "stderr",
          "text": [
            "WARNING:tensorflow:Early stopping conditioned on metric `val_loss` which is not available. Available metrics are: loss,masked_acc,masked_loss\n"
          ]
        },
        {
          "output_type": "stream",
          "name": "stdout",
          "text": [
            "\b\b\b\b\b\b\b\b\b\b\b\b\b\b\b\b\b\b\b\b\b\b\b\b\b\b\b\b\b\b\b\b\b\b\b\b\b\b\b\b\b\b\b\b\b\b\b\b\b\b\b\b\b\b\b\b\b\b\b\b\b\b\b\b\b\b\b\b\b\b\b\b\b\b\b\b\b\b\b\b\b\b\b\b\b\b\b\b\b\b\b\b\b\b\b\b\b\b\b\b\b\b\b\b\b\b\r80/80 [==============================] - 3s 34ms/step - loss: 0.0012 - masked_acc: 1.0000 - masked_loss: 0.0012\n",
            "Epoch 20/100\n",
            "78/80 [============================>.] - ETA: 0s - loss: 0.0011 - masked_acc: 1.0000 - masked_loss: 0.0011"
          ]
        },
        {
          "output_type": "stream",
          "name": "stderr",
          "text": [
            "WARNING:tensorflow:Early stopping conditioned on metric `val_loss` which is not available. Available metrics are: loss,masked_acc,masked_loss\n"
          ]
        },
        {
          "output_type": "stream",
          "name": "stdout",
          "text": [
            "\b\b\b\b\b\b\b\b\b\b\b\b\b\b\b\b\b\b\b\b\b\b\b\b\b\b\b\b\b\b\b\b\b\b\b\b\b\b\b\b\b\b\b\b\b\b\b\b\b\b\b\b\b\b\b\b\b\b\b\b\b\b\b\b\b\b\b\b\b\b\b\b\b\b\b\b\b\b\b\b\b\b\b\b\b\b\b\b\b\b\b\b\b\b\b\b\b\b\b\b\b\b\b\b\b\b\r80/80 [==============================] - 3s 35ms/step - loss: 0.0011 - masked_acc: 1.0000 - masked_loss: 0.0011\n",
            "Epoch 21/100\n",
            "79/80 [============================>.] - ETA: 0s - loss: 0.0010 - masked_acc: 1.0000 - masked_loss: 9.9897e-04"
          ]
        },
        {
          "output_type": "stream",
          "name": "stderr",
          "text": [
            "WARNING:tensorflow:Early stopping conditioned on metric `val_loss` which is not available. Available metrics are: loss,masked_acc,masked_loss\n"
          ]
        },
        {
          "output_type": "stream",
          "name": "stdout",
          "text": [
            "\b\b\b\b\b\b\b\b\b\b\b\b\b\b\b\b\b\b\b\b\b\b\b\b\b\b\b\b\b\b\b\b\b\b\b\b\b\b\b\b\b\b\b\b\b\b\b\b\b\b\b\b\b\b\b\b\b\b\b\b\b\b\b\b\b\b\b\b\b\b\b\b\b\b\b\b\b\b\b\b\b\b\b\b\b\b\b\b\b\b\b\b\b\b\b\b\b\b\b\b\b\b\b\b\b\b\b\b\b\b\r80/80 [==============================] - 5s 69ms/step - loss: 9.9954e-04 - masked_acc: 1.0000 - masked_loss: 9.9767e-04\n",
            "Epoch 22/100\n",
            "80/80 [==============================] - ETA: 0s - loss: 9.0334e-04 - masked_acc: 1.0000 - masked_loss: 9.0477e-04"
          ]
        },
        {
          "output_type": "stream",
          "name": "stderr",
          "text": [
            "WARNING:tensorflow:Early stopping conditioned on metric `val_loss` which is not available. Available metrics are: loss,masked_acc,masked_loss\n"
          ]
        },
        {
          "output_type": "stream",
          "name": "stdout",
          "text": [
            "\b\b\b\b\b\b\b\b\b\b\b\b\b\b\b\b\b\b\b\b\b\b\b\b\b\b\b\b\b\b\b\b\b\b\b\b\b\b\b\b\b\b\b\b\b\b\b\b\b\b\b\b\b\b\b\b\b\b\b\b\b\b\b\b\b\b\b\b\b\b\b\b\b\b\b\b\b\b\b\b\b\b\b\b\b\b\b\b\b\b\b\b\b\b\b\b\b\b\b\b\b\b\b\b\b\b\b\b\b\b\b\b\b\b\r80/80 [==============================] - 6s 72ms/step - loss: 9.0334e-04 - masked_acc: 1.0000 - masked_loss: 9.0477e-04\n",
            "Epoch 23/100\n",
            "79/80 [============================>.] - ETA: 0s - loss: 8.1619e-04 - masked_acc: 1.0000 - masked_loss: 8.1566e-04"
          ]
        },
        {
          "output_type": "stream",
          "name": "stderr",
          "text": [
            "WARNING:tensorflow:Early stopping conditioned on metric `val_loss` which is not available. Available metrics are: loss,masked_acc,masked_loss\n"
          ]
        },
        {
          "output_type": "stream",
          "name": "stdout",
          "text": [
            "\b\b\b\b\b\b\b\b\b\b\b\b\b\b\b\b\b\b\b\b\b\b\b\b\b\b\b\b\b\b\b\b\b\b\b\b\b\b\b\b\b\b\b\b\b\b\b\b\b\b\b\b\b\b\b\b\b\b\b\b\b\b\b\b\b\b\b\b\b\b\b\b\b\b\b\b\b\b\b\b\b\b\b\b\b\b\b\b\b\b\b\b\b\b\b\b\b\b\b\b\b\b\b\b\b\b\b\b\b\b\b\b\b\b\r80/80 [==============================] - 3s 37ms/step - loss: 8.1593e-04 - masked_acc: 1.0000 - masked_loss: 8.1543e-04\n",
            "Epoch 24/100\n",
            "79/80 [============================>.] - ETA: 0s - loss: 7.4222e-04 - masked_acc: 1.0000 - masked_loss: 7.4154e-04"
          ]
        },
        {
          "output_type": "stream",
          "name": "stderr",
          "text": [
            "WARNING:tensorflow:Early stopping conditioned on metric `val_loss` which is not available. Available metrics are: loss,masked_acc,masked_loss\n"
          ]
        },
        {
          "output_type": "stream",
          "name": "stdout",
          "text": [
            "\b\b\b\b\b\b\b\b\b\b\b\b\b\b\b\b\b\b\b\b\b\b\b\b\b\b\b\b\b\b\b\b\b\b\b\b\b\b\b\b\b\b\b\b\b\b\b\b\b\b\b\b\b\b\b\b\b\b\b\b\b\b\b\b\b\b\b\b\b\b\b\b\b\b\b\b\b\b\b\b\b\b\b\b\b\b\b\b\b\b\b\b\b\b\b\b\b\b\b\b\b\b\b\b\b\b\b\b\b\b\b\b\b\b\r80/80 [==============================] - 5s 57ms/step - loss: 7.4211e-04 - masked_acc: 1.0000 - masked_loss: 7.4144e-04\n",
            "Epoch 25/100\n",
            "80/80 [==============================] - ETA: 0s - loss: 6.7672e-04 - masked_acc: 1.0000 - masked_loss: 6.7774e-04"
          ]
        },
        {
          "output_type": "stream",
          "name": "stderr",
          "text": [
            "WARNING:tensorflow:Early stopping conditioned on metric `val_loss` which is not available. Available metrics are: loss,masked_acc,masked_loss\n"
          ]
        },
        {
          "output_type": "stream",
          "name": "stdout",
          "text": [
            "\b\b\b\b\b\b\b\b\b\b\b\b\b\b\b\b\b\b\b\b\b\b\b\b\b\b\b\b\b\b\b\b\b\b\b\b\b\b\b\b\b\b\b\b\b\b\b\b\b\b\b\b\b\b\b\b\b\b\b\b\b\b\b\b\b\b\b\b\b\b\b\b\b\b\b\b\b\b\b\b\b\b\b\b\b\b\b\b\b\b\b\b\b\b\b\b\b\b\b\b\b\b\b\b\b\b\b\b\b\b\b\b\b\b\r80/80 [==============================] - 3s 32ms/step - loss: 6.7672e-04 - masked_acc: 1.0000 - masked_loss: 6.7774e-04\n",
            "Epoch 26/100\n",
            "79/80 [============================>.] - ETA: 0s - loss: 6.1953e-04 - masked_acc: 1.0000 - masked_loss: 6.1885e-04"
          ]
        },
        {
          "output_type": "stream",
          "name": "stderr",
          "text": [
            "WARNING:tensorflow:Early stopping conditioned on metric `val_loss` which is not available. Available metrics are: loss,masked_acc,masked_loss\n"
          ]
        },
        {
          "output_type": "stream",
          "name": "stdout",
          "text": [
            "\b\b\b\b\b\b\b\b\b\b\b\b\b\b\b\b\b\b\b\b\b\b\b\b\b\b\b\b\b\b\b\b\b\b\b\b\b\b\b\b\b\b\b\b\b\b\b\b\b\b\b\b\b\b\b\b\b\b\b\b\b\b\b\b\b\b\b\b\b\b\b\b\b\b\b\b\b\b\b\b\b\b\b\b\b\b\b\b\b\b\b\b\b\b\b\b\b\b\b\b\b\b\b\b\b\b\b\b\b\b\b\b\b\b\r80/80 [==============================] - 2s 27ms/step - loss: 6.1950e-04 - masked_acc: 1.0000 - masked_loss: 6.1877e-04\n",
            "Epoch 27/100\n",
            "79/80 [============================>.] - ETA: 0s - loss: 5.6899e-04 - masked_acc: 1.0000 - masked_loss: 5.6993e-04"
          ]
        },
        {
          "output_type": "stream",
          "name": "stderr",
          "text": [
            "WARNING:tensorflow:Early stopping conditioned on metric `val_loss` which is not available. Available metrics are: loss,masked_acc,masked_loss\n"
          ]
        },
        {
          "output_type": "stream",
          "name": "stdout",
          "text": [
            "\b\b\b\b\b\b\b\b\b\b\b\b\b\b\b\b\b\b\b\b\b\b\b\b\b\b\b\b\b\b\b\b\b\b\b\b\b\b\b\b\b\b\b\b\b\b\b\b\b\b\b\b\b\b\b\b\b\b\b\b\b\b\b\b\b\b\b\b\b\b\b\b\b\b\b\b\b\b\b\b\b\b\b\b\b\b\b\b\b\b\b\b\b\b\b\b\b\b\b\b\b\b\b\b\b\b\b\b\b\b\b\b\b\b\r80/80 [==============================] - 3s 32ms/step - loss: 5.6885e-04 - masked_acc: 1.0000 - masked_loss: 5.6978e-04\n",
            "Epoch 28/100\n",
            "80/80 [==============================] - ETA: 0s - loss: 5.2227e-04 - masked_acc: 1.0000 - masked_loss: 5.2124e-04"
          ]
        },
        {
          "output_type": "stream",
          "name": "stderr",
          "text": [
            "WARNING:tensorflow:Early stopping conditioned on metric `val_loss` which is not available. Available metrics are: loss,masked_acc,masked_loss\n"
          ]
        },
        {
          "output_type": "stream",
          "name": "stdout",
          "text": [
            "\b\b\b\b\b\b\b\b\b\b\b\b\b\b\b\b\b\b\b\b\b\b\b\b\b\b\b\b\b\b\b\b\b\b\b\b\b\b\b\b\b\b\b\b\b\b\b\b\b\b\b\b\b\b\b\b\b\b\b\b\b\b\b\b\b\b\b\b\b\b\b\b\b\b\b\b\b\b\b\b\b\b\b\b\b\b\b\b\b\b\b\b\b\b\b\b\b\b\b\b\b\b\b\b\b\b\b\b\b\b\b\b\b\b\r80/80 [==============================] - 3s 43ms/step - loss: 5.2227e-04 - masked_acc: 1.0000 - masked_loss: 5.2124e-04\n",
            "Epoch 29/100\n",
            "80/80 [==============================] - ETA: 0s - loss: 4.8250e-04 - masked_acc: 1.0000 - masked_loss: 4.8311e-04"
          ]
        },
        {
          "output_type": "stream",
          "name": "stderr",
          "text": [
            "WARNING:tensorflow:Early stopping conditioned on metric `val_loss` which is not available. Available metrics are: loss,masked_acc,masked_loss\n"
          ]
        },
        {
          "output_type": "stream",
          "name": "stdout",
          "text": [
            "\b\b\b\b\b\b\b\b\b\b\b\b\b\b\b\b\b\b\b\b\b\b\b\b\b\b\b\b\b\b\b\b\b\b\b\b\b\b\b\b\b\b\b\b\b\b\b\b\b\b\b\b\b\b\b\b\b\b\b\b\b\b\b\b\b\b\b\b\b\b\b\b\b\b\b\b\b\b\b\b\b\b\b\b\b\b\b\b\b\b\b\b\b\b\b\b\b\b\b\b\b\b\b\b\b\b\b\b\b\b\b\b\b\b\r80/80 [==============================] - 3s 32ms/step - loss: 4.8250e-04 - masked_acc: 1.0000 - masked_loss: 4.8311e-04\n",
            "Epoch 30/100\n",
            "80/80 [==============================] - ETA: 0s - loss: 4.4534e-04 - masked_acc: 1.0000 - masked_loss: 4.4511e-04"
          ]
        },
        {
          "output_type": "stream",
          "name": "stderr",
          "text": [
            "WARNING:tensorflow:Early stopping conditioned on metric `val_loss` which is not available. Available metrics are: loss,masked_acc,masked_loss\n"
          ]
        },
        {
          "output_type": "stream",
          "name": "stdout",
          "text": [
            "\b\b\b\b\b\b\b\b\b\b\b\b\b\b\b\b\b\b\b\b\b\b\b\b\b\b\b\b\b\b\b\b\b\b\b\b\b\b\b\b\b\b\b\b\b\b\b\b\b\b\b\b\b\b\b\b\b\b\b\b\b\b\b\b\b\b\b\b\b\b\b\b\b\b\b\b\b\b\b\b\b\b\b\b\b\b\b\b\b\b\b\b\b\b\b\b\b\b\b\b\b\b\b\b\b\b\b\b\b\b\b\b\b\b\r80/80 [==============================] - 2s 26ms/step - loss: 4.4534e-04 - masked_acc: 1.0000 - masked_loss: 4.4511e-04\n",
            "Epoch 31/100\n",
            "79/80 [============================>.] - ETA: 0s - loss: 4.1375e-04 - masked_acc: 1.0000 - masked_loss: 4.1270e-04"
          ]
        },
        {
          "output_type": "stream",
          "name": "stderr",
          "text": [
            "WARNING:tensorflow:Early stopping conditioned on metric `val_loss` which is not available. Available metrics are: loss,masked_acc,masked_loss\n"
          ]
        },
        {
          "output_type": "stream",
          "name": "stdout",
          "text": [
            "\b\b\b\b\b\b\b\b\b\b\b\b\b\b\b\b\b\b\b\b\b\b\b\b\b\b\b\b\b\b\b\b\b\b\b\b\b\b\b\b\b\b\b\b\b\b\b\b\b\b\b\b\b\b\b\b\b\b\b\b\b\b\b\b\b\b\b\b\b\b\b\b\b\b\b\b\b\b\b\b\b\b\b\b\b\b\b\b\b\b\b\b\b\b\b\b\b\b\b\b\b\b\b\b\b\b\b\b\b\b\b\b\b\b\r80/80 [==============================] - 2s 26ms/step - loss: 4.1378e-04 - masked_acc: 1.0000 - masked_loss: 4.1274e-04\n",
            "Epoch 32/100\n",
            "78/80 [============================>.] - ETA: 0s - loss: 3.8369e-04 - masked_acc: 1.0000 - masked_loss: 3.8252e-04"
          ]
        },
        {
          "output_type": "stream",
          "name": "stderr",
          "text": [
            "WARNING:tensorflow:Early stopping conditioned on metric `val_loss` which is not available. Available metrics are: loss,masked_acc,masked_loss\n"
          ]
        },
        {
          "output_type": "stream",
          "name": "stdout",
          "text": [
            "\b\b\b\b\b\b\b\b\b\b\b\b\b\b\b\b\b\b\b\b\b\b\b\b\b\b\b\b\b\b\b\b\b\b\b\b\b\b\b\b\b\b\b\b\b\b\b\b\b\b\b\b\b\b\b\b\b\b\b\b\b\b\b\b\b\b\b\b\b\b\b\b\b\b\b\b\b\b\b\b\b\b\b\b\b\b\b\b\b\b\b\b\b\b\b\b\b\b\b\b\b\b\b\b\b\b\b\b\b\b\b\b\b\b\r80/80 [==============================] - 2s 30ms/step - loss: 3.8322e-04 - masked_acc: 1.0000 - masked_loss: 3.8210e-04\n",
            "Epoch 33/100\n",
            "80/80 [==============================] - ETA: 0s - loss: 3.5606e-04 - masked_acc: 1.0000 - masked_loss: 3.5627e-04"
          ]
        },
        {
          "output_type": "stream",
          "name": "stderr",
          "text": [
            "WARNING:tensorflow:Early stopping conditioned on metric `val_loss` which is not available. Available metrics are: loss,masked_acc,masked_loss\n"
          ]
        },
        {
          "output_type": "stream",
          "name": "stdout",
          "text": [
            "\b\b\b\b\b\b\b\b\b\b\b\b\b\b\b\b\b\b\b\b\b\b\b\b\b\b\b\b\b\b\b\b\b\b\b\b\b\b\b\b\b\b\b\b\b\b\b\b\b\b\b\b\b\b\b\b\b\b\b\b\b\b\b\b\b\b\b\b\b\b\b\b\b\b\b\b\b\b\b\b\b\b\b\b\b\b\b\b\b\b\b\b\b\b\b\b\b\b\b\b\b\b\b\b\b\b\b\b\b\b\b\b\b\b\r80/80 [==============================] - 3s 35ms/step - loss: 3.5606e-04 - masked_acc: 1.0000 - masked_loss: 3.5627e-04\n",
            "Epoch 34/100\n",
            "80/80 [==============================] - ETA: 0s - loss: 3.3226e-04 - masked_acc: 1.0000 - masked_loss: 3.3072e-04"
          ]
        },
        {
          "output_type": "stream",
          "name": "stderr",
          "text": [
            "WARNING:tensorflow:Early stopping conditioned on metric `val_loss` which is not available. Available metrics are: loss,masked_acc,masked_loss\n"
          ]
        },
        {
          "output_type": "stream",
          "name": "stdout",
          "text": [
            "\b\b\b\b\b\b\b\b\b\b\b\b\b\b\b\b\b\b\b\b\b\b\b\b\b\b\b\b\b\b\b\b\b\b\b\b\b\b\b\b\b\b\b\b\b\b\b\b\b\b\b\b\b\b\b\b\b\b\b\b\b\b\b\b\b\b\b\b\b\b\b\b\b\b\b\b\b\b\b\b\b\b\b\b\b\b\b\b\b\b\b\b\b\b\b\b\b\b\b\b\b\b\b\b\b\b\b\b\b\b\b\b\b\b\r80/80 [==============================] - 4s 47ms/step - loss: 3.3226e-04 - masked_acc: 1.0000 - masked_loss: 3.3072e-04\n",
            "Epoch 35/100\n",
            "80/80 [==============================] - ETA: 0s - loss: 3.0858e-04 - masked_acc: 1.0000 - masked_loss: 3.0924e-04"
          ]
        },
        {
          "output_type": "stream",
          "name": "stderr",
          "text": [
            "WARNING:tensorflow:Early stopping conditioned on metric `val_loss` which is not available. Available metrics are: loss,masked_acc,masked_loss\n"
          ]
        },
        {
          "output_type": "stream",
          "name": "stdout",
          "text": [
            "\b\b\b\b\b\b\b\b\b\b\b\b\b\b\b\b\b\b\b\b\b\b\b\b\b\b\b\b\b\b\b\b\b\b\b\b\b\b\b\b\b\b\b\b\b\b\b\b\b\b\b\b\b\b\b\b\b\b\b\b\b\b\b\b\b\b\b\b\b\b\b\b\b\b\b\b\b\b\b\b\b\b\b\b\b\b\b\b\b\b\b\b\b\b\b\b\b\b\b\b\b\b\b\b\b\b\b\b\b\b\b\b\b\b\r80/80 [==============================] - 2s 26ms/step - loss: 3.0858e-04 - masked_acc: 1.0000 - masked_loss: 3.0924e-04\n",
            "Epoch 36/100\n",
            "80/80 [==============================] - ETA: 0s - loss: 2.8897e-04 - masked_acc: 1.0000 - masked_loss: 2.8937e-04"
          ]
        },
        {
          "output_type": "stream",
          "name": "stderr",
          "text": [
            "WARNING:tensorflow:Early stopping conditioned on metric `val_loss` which is not available. Available metrics are: loss,masked_acc,masked_loss\n"
          ]
        },
        {
          "output_type": "stream",
          "name": "stdout",
          "text": [
            "\b\b\b\b\b\b\b\b\b\b\b\b\b\b\b\b\b\b\b\b\b\b\b\b\b\b\b\b\b\b\b\b\b\b\b\b\b\b\b\b\b\b\b\b\b\b\b\b\b\b\b\b\b\b\b\b\b\b\b\b\b\b\b\b\b\b\b\b\b\b\b\b\b\b\b\b\b\b\b\b\b\b\b\b\b\b\b\b\b\b\b\b\b\b\b\b\b\b\b\b\b\b\b\b\b\b\b\b\b\b\b\b\b\b\r80/80 [==============================] - 2s 28ms/step - loss: 2.8897e-04 - masked_acc: 1.0000 - masked_loss: 2.8937e-04\n",
            "Epoch 37/100\n",
            "80/80 [==============================] - ETA: 0s - loss: 2.6993e-04 - masked_acc: 1.0000 - masked_loss: 2.7130e-04"
          ]
        },
        {
          "output_type": "stream",
          "name": "stderr",
          "text": [
            "WARNING:tensorflow:Early stopping conditioned on metric `val_loss` which is not available. Available metrics are: loss,masked_acc,masked_loss\n"
          ]
        },
        {
          "output_type": "stream",
          "name": "stdout",
          "text": [
            "\b\b\b\b\b\b\b\b\b\b\b\b\b\b\b\b\b\b\b\b\b\b\b\b\b\b\b\b\b\b\b\b\b\b\b\b\b\b\b\b\b\b\b\b\b\b\b\b\b\b\b\b\b\b\b\b\b\b\b\b\b\b\b\b\b\b\b\b\b\b\b\b\b\b\b\b\b\b\b\b\b\b\b\b\b\b\b\b\b\b\b\b\b\b\b\b\b\b\b\b\b\b\b\b\b\b\b\b\b\b\b\b\b\b\r80/80 [==============================] - 3s 32ms/step - loss: 2.6993e-04 - masked_acc: 1.0000 - masked_loss: 2.7130e-04\n",
            "Epoch 38/100\n",
            "79/80 [============================>.] - ETA: 0s - loss: 0.2130 - masked_acc: 0.9471 - masked_loss: 0.2115"
          ]
        },
        {
          "output_type": "stream",
          "name": "stderr",
          "text": [
            "WARNING:tensorflow:Early stopping conditioned on metric `val_loss` which is not available. Available metrics are: loss,masked_acc,masked_loss\n"
          ]
        },
        {
          "output_type": "stream",
          "name": "stdout",
          "text": [
            "\b\b\b\b\b\b\b\b\b\b\b\b\b\b\b\b\b\b\b\b\b\b\b\b\b\b\b\b\b\b\b\b\b\b\b\b\b\b\b\b\b\b\b\b\b\b\b\b\b\b\b\b\b\b\b\b\b\b\b\b\b\b\b\b\b\b\b\b\b\b\b\b\b\b\b\b\b\b\b\b\b\b\b\b\b\b\b\b\b\b\b\b\b\b\b\b\b\b\b\b\b\b\b\b\b\b\r80/80 [==============================] - 4s 48ms/step - loss: 0.2138 - masked_acc: 0.9469 - masked_loss: 0.2123\n",
            "Epoch 39/100\n",
            "80/80 [==============================] - ETA: 0s - loss: 0.0317 - masked_acc: 0.9933 - masked_loss: 0.0334"
          ]
        },
        {
          "output_type": "stream",
          "name": "stderr",
          "text": [
            "WARNING:tensorflow:Early stopping conditioned on metric `val_loss` which is not available. Available metrics are: loss,masked_acc,masked_loss\n"
          ]
        },
        {
          "output_type": "stream",
          "name": "stdout",
          "text": [
            "\b\b\b\b\b\b\b\b\b\b\b\b\b\b\b\b\b\b\b\b\b\b\b\b\b\b\b\b\b\b\b\b\b\b\b\b\b\b\b\b\b\b\b\b\b\b\b\b\b\b\b\b\b\b\b\b\b\b\b\b\b\b\b\b\b\b\b\b\b\b\b\b\b\b\b\b\b\b\b\b\b\b\b\b\b\b\b\b\b\b\b\b\b\b\b\b\b\b\b\b\b\b\b\b\b\b\r80/80 [==============================] - 2s 30ms/step - loss: 0.0317 - masked_acc: 0.9933 - masked_loss: 0.0334\n",
            "Epoch 40/100\n",
            "79/80 [============================>.] - ETA: 0s - loss: 0.0020 - masked_acc: 1.0000 - masked_loss: 0.0020"
          ]
        },
        {
          "output_type": "stream",
          "name": "stderr",
          "text": [
            "WARNING:tensorflow:Early stopping conditioned on metric `val_loss` which is not available. Available metrics are: loss,masked_acc,masked_loss\n"
          ]
        },
        {
          "output_type": "stream",
          "name": "stdout",
          "text": [
            "\b\b\b\b\b\b\b\b\b\b\b\b\b\b\b\b\b\b\b\b\b\b\b\b\b\b\b\b\b\b\b\b\b\b\b\b\b\b\b\b\b\b\b\b\b\b\b\b\b\b\b\b\b\b\b\b\b\b\b\b\b\b\b\b\b\b\b\b\b\b\b\b\b\b\b\b\b\b\b\b\b\b\b\b\b\b\b\b\b\b\b\b\b\b\b\b\b\b\b\b\b\b\b\b\b\b\r80/80 [==============================] - 3s 32ms/step - loss: 0.0020 - masked_acc: 1.0000 - masked_loss: 0.0020\n",
            "Epoch 41/100\n",
            "80/80 [==============================] - ETA: 0s - loss: 0.0013 - masked_acc: 1.0000 - masked_loss: 0.0013"
          ]
        },
        {
          "output_type": "stream",
          "name": "stderr",
          "text": [
            "WARNING:tensorflow:Early stopping conditioned on metric `val_loss` which is not available. Available metrics are: loss,masked_acc,masked_loss\n"
          ]
        },
        {
          "output_type": "stream",
          "name": "stdout",
          "text": [
            "\b\b\b\b\b\b\b\b\b\b\b\b\b\b\b\b\b\b\b\b\b\b\b\b\b\b\b\b\b\b\b\b\b\b\b\b\b\b\b\b\b\b\b\b\b\b\b\b\b\b\b\b\b\b\b\b\b\b\b\b\b\b\b\b\b\b\b\b\b\b\b\b\b\b\b\b\b\b\b\b\b\b\b\b\b\b\b\b\b\b\b\b\b\b\b\b\b\b\b\b\b\b\b\b\b\b\r80/80 [==============================] - 2s 27ms/step - loss: 0.0013 - masked_acc: 1.0000 - masked_loss: 0.0013\n",
            "Epoch 42/100\n",
            "79/80 [============================>.] - ETA: 0s - loss: 0.0010 - masked_acc: 1.0000 - masked_loss: 0.0010"
          ]
        },
        {
          "output_type": "stream",
          "name": "stderr",
          "text": [
            "WARNING:tensorflow:Early stopping conditioned on metric `val_loss` which is not available. Available metrics are: loss,masked_acc,masked_loss\n"
          ]
        },
        {
          "output_type": "stream",
          "name": "stdout",
          "text": [
            "\b\b\b\b\b\b\b\b\b\b\b\b\b\b\b\b\b\b\b\b\b\b\b\b\b\b\b\b\b\b\b\b\b\b\b\b\b\b\b\b\b\b\b\b\b\b\b\b\b\b\b\b\b\b\b\b\b\b\b\b\b\b\b\b\b\b\b\b\b\b\b\b\b\b\b\b\b\b\b\b\b\b\b\b\b\b\b\b\b\b\b\b\b\b\b\b\b\b\b\b\b\b\b\b\b\b\r80/80 [==============================] - 2s 31ms/step - loss: 0.0010 - masked_acc: 1.0000 - masked_loss: 0.0010\n",
            "Epoch 43/100\n",
            "79/80 [============================>.] - ETA: 0s - loss: 8.5268e-04 - masked_acc: 1.0000 - masked_loss: 8.5272e-04"
          ]
        },
        {
          "output_type": "stream",
          "name": "stderr",
          "text": [
            "WARNING:tensorflow:Early stopping conditioned on metric `val_loss` which is not available. Available metrics are: loss,masked_acc,masked_loss\n"
          ]
        },
        {
          "output_type": "stream",
          "name": "stdout",
          "text": [
            "\b\b\b\b\b\b\b\b\b\b\b\b\b\b\b\b\b\b\b\b\b\b\b\b\b\b\b\b\b\b\b\b\b\b\b\b\b\b\b\b\b\b\b\b\b\b\b\b\b\b\b\b\b\b\b\b\b\b\b\b\b\b\b\b\b\b\b\b\b\b\b\b\b\b\b\b\b\b\b\b\b\b\b\b\b\b\b\b\b\b\b\b\b\b\b\b\b\b\b\b\b\b\b\b\b\b\b\b\b\b\b\b\b\b\r80/80 [==============================] - 3s 42ms/step - loss: 8.5157e-04 - masked_acc: 1.0000 - masked_loss: 8.5167e-04\n",
            "Epoch 44/100\n",
            "79/80 [============================>.] - ETA: 0s - loss: 7.1921e-04 - masked_acc: 1.0000 - masked_loss: 7.1750e-04"
          ]
        },
        {
          "output_type": "stream",
          "name": "stderr",
          "text": [
            "WARNING:tensorflow:Early stopping conditioned on metric `val_loss` which is not available. Available metrics are: loss,masked_acc,masked_loss\n"
          ]
        },
        {
          "output_type": "stream",
          "name": "stdout",
          "text": [
            "\b\b\b\b\b\b\b\b\b\b\b\b\b\b\b\b\b\b\b\b\b\b\b\b\b\b\b\b\b\b\b\b\b\b\b\b\b\b\b\b\b\b\b\b\b\b\b\b\b\b\b\b\b\b\b\b\b\b\b\b\b\b\b\b\b\b\b\b\b\b\b\b\b\b\b\b\b\b\b\b\b\b\b\b\b\b\b\b\b\b\b\b\b\b\b\b\b\b\b\b\b\b\b\b\b\b\b\b\b\b\b\b\b\b\r80/80 [==============================] - 2s 29ms/step - loss: 7.1806e-04 - masked_acc: 1.0000 - masked_loss: 7.1643e-04\n",
            "Epoch 45/100\n",
            "78/80 [============================>.] - ETA: 0s - loss: 6.2341e-04 - masked_acc: 1.0000 - masked_loss: 6.2298e-04"
          ]
        },
        {
          "output_type": "stream",
          "name": "stderr",
          "text": [
            "WARNING:tensorflow:Early stopping conditioned on metric `val_loss` which is not available. Available metrics are: loss,masked_acc,masked_loss\n"
          ]
        },
        {
          "output_type": "stream",
          "name": "stdout",
          "text": [
            "\b\b\b\b\b\b\b\b\b\b\b\b\b\b\b\b\b\b\b\b\b\b\b\b\b\b\b\b\b\b\b\b\b\b\b\b\b\b\b\b\b\b\b\b\b\b\b\b\b\b\b\b\b\b\b\b\b\b\b\b\b\b\b\b\b\b\b\b\b\b\b\b\b\b\b\b\b\b\b\b\b\b\b\b\b\b\b\b\b\b\b\b\b\b\b\b\b\b\b\b\b\b\b\b\b\b\b\b\b\b\b\b\b\b\r80/80 [==============================] - 2s 30ms/step - loss: 6.2325e-04 - masked_acc: 1.0000 - masked_loss: 6.2284e-04\n",
            "Epoch 46/100\n",
            "78/80 [============================>.] - ETA: 0s - loss: 5.4635e-04 - masked_acc: 1.0000 - masked_loss: 5.4500e-04"
          ]
        },
        {
          "output_type": "stream",
          "name": "stderr",
          "text": [
            "WARNING:tensorflow:Early stopping conditioned on metric `val_loss` which is not available. Available metrics are: loss,masked_acc,masked_loss\n"
          ]
        },
        {
          "output_type": "stream",
          "name": "stdout",
          "text": [
            "\b\b\b\b\b\b\b\b\b\b\b\b\b\b\b\b\b\b\b\b\b\b\b\b\b\b\b\b\b\b\b\b\b\b\b\b\b\b\b\b\b\b\b\b\b\b\b\b\b\b\b\b\b\b\b\b\b\b\b\b\b\b\b\b\b\b\b\b\b\b\b\b\b\b\b\b\b\b\b\b\b\b\b\b\b\b\b\b\b\b\b\b\b\b\b\b\b\b\b\b\b\b\b\b\b\b\b\b\b\b\b\b\b\b\r80/80 [==============================] - 3s 35ms/step - loss: 5.4566e-04 - masked_acc: 1.0000 - masked_loss: 5.4480e-04\n",
            "Epoch 47/100\n",
            "78/80 [============================>.] - ETA: 0s - loss: 4.8662e-04 - masked_acc: 1.0000 - masked_loss: 4.8623e-04"
          ]
        },
        {
          "output_type": "stream",
          "name": "stderr",
          "text": [
            "WARNING:tensorflow:Early stopping conditioned on metric `val_loss` which is not available. Available metrics are: loss,masked_acc,masked_loss\n"
          ]
        },
        {
          "output_type": "stream",
          "name": "stdout",
          "text": [
            "\b\b\b\b\b\b\b\b\b\b\b\b\b\b\b\b\b\b\b\b\b\b\b\b\b\b\b\b\b\b\b\b\b\b\b\b\b\b\b\b\b\b\b\b\b\b\b\b\b\b\b\b\b\b\b\b\b\b\b\b\b\b\b\b\b\b\b\b\b\b\b\b\b\b\b\b\b\b\b\b\b\b\b\b\b\b\b\b\b\b\b\b\b\b\b\b\b\b\b\b\b\b\b\b\b\b\b\b\b\b\b\b\b\b\r80/80 [==============================] - 2s 27ms/step - loss: 4.8604e-04 - masked_acc: 1.0000 - masked_loss: 4.8569e-04\n",
            "Epoch 48/100\n",
            "79/80 [============================>.] - ETA: 0s - loss: 4.3507e-04 - masked_acc: 1.0000 - masked_loss: 4.3513e-04"
          ]
        },
        {
          "output_type": "stream",
          "name": "stderr",
          "text": [
            "WARNING:tensorflow:Early stopping conditioned on metric `val_loss` which is not available. Available metrics are: loss,masked_acc,masked_loss\n"
          ]
        },
        {
          "output_type": "stream",
          "name": "stdout",
          "text": [
            "\b\b\b\b\b\b\b\b\b\b\b\b\b\b\b\b\b\b\b\b\b\b\b\b\b\b\b\b\b\b\b\b\b\b\b\b\b\b\b\b\b\b\b\b\b\b\b\b\b\b\b\b\b\b\b\b\b\b\b\b\b\b\b\b\b\b\b\b\b\b\b\b\b\b\b\b\b\b\b\b\b\b\b\b\b\b\b\b\b\b\b\b\b\b\b\b\b\b\b\b\b\b\b\b\b\b\b\b\b\b\b\b\b\b\r80/80 [==============================] - 3s 42ms/step - loss: 4.3435e-04 - masked_acc: 1.0000 - masked_loss: 4.3444e-04\n",
            "Epoch 49/100\n",
            "79/80 [============================>.] - ETA: 0s - loss: 3.9384e-04 - masked_acc: 1.0000 - masked_loss: 3.9374e-04"
          ]
        },
        {
          "output_type": "stream",
          "name": "stderr",
          "text": [
            "WARNING:tensorflow:Early stopping conditioned on metric `val_loss` which is not available. Available metrics are: loss,masked_acc,masked_loss\n"
          ]
        },
        {
          "output_type": "stream",
          "name": "stdout",
          "text": [
            "\b\b\b\b\b\b\b\b\b\b\b\b\b\b\b\b\b\b\b\b\b\b\b\b\b\b\b\b\b\b\b\b\b\b\b\b\b\b\b\b\b\b\b\b\b\b\b\b\b\b\b\b\b\b\b\b\b\b\b\b\b\b\b\b\b\b\b\b\b\b\b\b\b\b\b\b\b\b\b\b\b\b\b\b\b\b\b\b\b\b\b\b\b\b\b\b\b\b\b\b\b\b\b\b\b\b\b\b\b\b\b\b\b\b\r80/80 [==============================] - 2s 27ms/step - loss: 3.9367e-04 - masked_acc: 1.0000 - masked_loss: 3.9358e-04\n",
            "Epoch 50/100\n",
            "79/80 [============================>.] - ETA: 0s - loss: 3.5638e-04 - masked_acc: 1.0000 - masked_loss: 3.5690e-04"
          ]
        },
        {
          "output_type": "stream",
          "name": "stderr",
          "text": [
            "WARNING:tensorflow:Early stopping conditioned on metric `val_loss` which is not available. Available metrics are: loss,masked_acc,masked_loss\n"
          ]
        },
        {
          "output_type": "stream",
          "name": "stdout",
          "text": [
            "\b\b\b\b\b\b\b\b\b\b\b\b\b\b\b\b\b\b\b\b\b\b\b\b\b\b\b\b\b\b\b\b\b\b\b\b\b\b\b\b\b\b\b\b\b\b\b\b\b\b\b\b\b\b\b\b\b\b\b\b\b\b\b\b\b\b\b\b\b\b\b\b\b\b\b\b\b\b\b\b\b\b\b\b\b\b\b\b\b\b\b\b\b\b\b\b\b\b\b\b\b\b\b\b\b\b\b\b\b\b\b\b\b\b\r80/80 [==============================] - 2s 28ms/step - loss: 3.5619e-04 - masked_acc: 1.0000 - masked_loss: 3.5672e-04\n",
            "Epoch 51/100\n",
            "79/80 [============================>.] - ETA: 0s - loss: 3.2628e-04 - masked_acc: 1.0000 - masked_loss: 3.2572e-04"
          ]
        },
        {
          "output_type": "stream",
          "name": "stderr",
          "text": [
            "WARNING:tensorflow:Early stopping conditioned on metric `val_loss` which is not available. Available metrics are: loss,masked_acc,masked_loss\n"
          ]
        },
        {
          "output_type": "stream",
          "name": "stdout",
          "text": [
            "\b\b\b\b\b\b\b\b\b\b\b\b\b\b\b\b\b\b\b\b\b\b\b\b\b\b\b\b\b\b\b\b\b\b\b\b\b\b\b\b\b\b\b\b\b\b\b\b\b\b\b\b\b\b\b\b\b\b\b\b\b\b\b\b\b\b\b\b\b\b\b\b\b\b\b\b\b\b\b\b\b\b\b\b\b\b\b\b\b\b\b\b\b\b\b\b\b\b\b\b\b\b\b\b\b\b\b\b\b\b\b\b\b\b\r80/80 [==============================] - 2s 28ms/step - loss: 3.2625e-04 - masked_acc: 1.0000 - masked_loss: 3.2571e-04\n",
            "Epoch 52/100\n",
            "79/80 [============================>.] - ETA: 0s - loss: 2.9962e-04 - masked_acc: 1.0000 - masked_loss: 2.9929e-04"
          ]
        },
        {
          "output_type": "stream",
          "name": "stderr",
          "text": [
            "WARNING:tensorflow:Early stopping conditioned on metric `val_loss` which is not available. Available metrics are: loss,masked_acc,masked_loss\n"
          ]
        },
        {
          "output_type": "stream",
          "name": "stdout",
          "text": [
            "\b\b\b\b\b\b\b\b\b\b\b\b\b\b\b\b\b\b\b\b\b\b\b\b\b\b\b\b\b\b\b\b\b\b\b\b\b\b\b\b\b\b\b\b\b\b\b\b\b\b\b\b\b\b\b\b\b\b\b\b\b\b\b\b\b\b\b\b\b\b\b\b\b\b\b\b\b\b\b\b\b\b\b\b\b\b\b\b\b\b\b\b\b\b\b\b\b\b\b\b\b\b\b\b\b\b\b\b\b\b\b\b\b\b\r80/80 [==============================] - 2s 26ms/step - loss: 2.9952e-04 - masked_acc: 1.0000 - masked_loss: 2.9894e-04\n",
            "Epoch 53/100\n",
            "80/80 [==============================] - ETA: 0s - loss: 2.7602e-04 - masked_acc: 1.0000 - masked_loss: 2.7606e-04"
          ]
        },
        {
          "output_type": "stream",
          "name": "stderr",
          "text": [
            "WARNING:tensorflow:Early stopping conditioned on metric `val_loss` which is not available. Available metrics are: loss,masked_acc,masked_loss\n"
          ]
        },
        {
          "output_type": "stream",
          "name": "stdout",
          "text": [
            "\b\b\b\b\b\b\b\b\b\b\b\b\b\b\b\b\b\b\b\b\b\b\b\b\b\b\b\b\b\b\b\b\b\b\b\b\b\b\b\b\b\b\b\b\b\b\b\b\b\b\b\b\b\b\b\b\b\b\b\b\b\b\b\b\b\b\b\b\b\b\b\b\b\b\b\b\b\b\b\b\b\b\b\b\b\b\b\b\b\b\b\b\b\b\b\b\b\b\b\b\b\b\b\b\b\b\b\b\b\b\b\b\b\b\r80/80 [==============================] - 4s 46ms/step - loss: 2.7602e-04 - masked_acc: 1.0000 - masked_loss: 2.7606e-04\n",
            "Epoch 54/100\n",
            "80/80 [==============================] - ETA: 0s - loss: 2.5447e-04 - masked_acc: 1.0000 - masked_loss: 2.5509e-04"
          ]
        },
        {
          "output_type": "stream",
          "name": "stderr",
          "text": [
            "WARNING:tensorflow:Early stopping conditioned on metric `val_loss` which is not available. Available metrics are: loss,masked_acc,masked_loss\n"
          ]
        },
        {
          "output_type": "stream",
          "name": "stdout",
          "text": [
            "\b\b\b\b\b\b\b\b\b\b\b\b\b\b\b\b\b\b\b\b\b\b\b\b\b\b\b\b\b\b\b\b\b\b\b\b\b\b\b\b\b\b\b\b\b\b\b\b\b\b\b\b\b\b\b\b\b\b\b\b\b\b\b\b\b\b\b\b\b\b\b\b\b\b\b\b\b\b\b\b\b\b\b\b\b\b\b\b\b\b\b\b\b\b\b\b\b\b\b\b\b\b\b\b\b\b\b\b\b\b\b\b\b\b\r80/80 [==============================] - 3s 35ms/step - loss: 2.5447e-04 - masked_acc: 1.0000 - masked_loss: 2.5509e-04\n",
            "Epoch 55/100\n",
            "80/80 [==============================] - ETA: 0s - loss: 2.3648e-04 - masked_acc: 1.0000 - masked_loss: 2.3648e-04"
          ]
        },
        {
          "output_type": "stream",
          "name": "stderr",
          "text": [
            "WARNING:tensorflow:Early stopping conditioned on metric `val_loss` which is not available. Available metrics are: loss,masked_acc,masked_loss\n"
          ]
        },
        {
          "output_type": "stream",
          "name": "stdout",
          "text": [
            "\b\b\b\b\b\b\b\b\b\b\b\b\b\b\b\b\b\b\b\b\b\b\b\b\b\b\b\b\b\b\b\b\b\b\b\b\b\b\b\b\b\b\b\b\b\b\b\b\b\b\b\b\b\b\b\b\b\b\b\b\b\b\b\b\b\b\b\b\b\b\b\b\b\b\b\b\b\b\b\b\b\b\b\b\b\b\b\b\b\b\b\b\b\b\b\b\b\b\b\b\b\b\b\b\b\b\b\b\b\b\b\b\b\b\r80/80 [==============================] - 3s 31ms/step - loss: 2.3648e-04 - masked_acc: 1.0000 - masked_loss: 2.3648e-04\n",
            "Epoch 56/100\n",
            "79/80 [============================>.] - ETA: 0s - loss: 2.1887e-04 - masked_acc: 1.0000 - masked_loss: 2.1898e-04"
          ]
        },
        {
          "output_type": "stream",
          "name": "stderr",
          "text": [
            "WARNING:tensorflow:Early stopping conditioned on metric `val_loss` which is not available. Available metrics are: loss,masked_acc,masked_loss\n"
          ]
        },
        {
          "output_type": "stream",
          "name": "stdout",
          "text": [
            "\b\b\b\b\b\b\b\b\b\b\b\b\b\b\b\b\b\b\b\b\b\b\b\b\b\b\b\b\b\b\b\b\b\b\b\b\b\b\b\b\b\b\b\b\b\b\b\b\b\b\b\b\b\b\b\b\b\b\b\b\b\b\b\b\b\b\b\b\b\b\b\b\b\b\b\b\b\b\b\b\b\b\b\b\b\b\b\b\b\b\b\b\b\b\b\b\b\b\b\b\b\b\b\b\b\b\b\b\b\b\b\b\b\b\r80/80 [==============================] - 2s 28ms/step - loss: 2.1872e-04 - masked_acc: 1.0000 - masked_loss: 2.1883e-04\n",
            "Epoch 57/100\n",
            "80/80 [==============================] - ETA: 0s - loss: 2.0437e-04 - masked_acc: 1.0000 - masked_loss: 2.0398e-04"
          ]
        },
        {
          "output_type": "stream",
          "name": "stderr",
          "text": [
            "WARNING:tensorflow:Early stopping conditioned on metric `val_loss` which is not available. Available metrics are: loss,masked_acc,masked_loss\n"
          ]
        },
        {
          "output_type": "stream",
          "name": "stdout",
          "text": [
            "\b\b\b\b\b\b\b\b\b\b\b\b\b\b\b\b\b\b\b\b\b\b\b\b\b\b\b\b\b\b\b\b\b\b\b\b\b\b\b\b\b\b\b\b\b\b\b\b\b\b\b\b\b\b\b\b\b\b\b\b\b\b\b\b\b\b\b\b\b\b\b\b\b\b\b\b\b\b\b\b\b\b\b\b\b\b\b\b\b\b\b\b\b\b\b\b\b\b\b\b\b\b\b\b\b\b\b\b\b\b\b\b\b\b\r80/80 [==============================] - 2s 27ms/step - loss: 2.0437e-04 - masked_acc: 1.0000 - masked_loss: 2.0398e-04\n",
            "Epoch 58/100\n",
            "80/80 [==============================] - ETA: 0s - loss: 1.9039e-04 - masked_acc: 1.0000 - masked_loss: 1.8986e-04"
          ]
        },
        {
          "output_type": "stream",
          "name": "stderr",
          "text": [
            "WARNING:tensorflow:Early stopping conditioned on metric `val_loss` which is not available. Available metrics are: loss,masked_acc,masked_loss\n"
          ]
        },
        {
          "output_type": "stream",
          "name": "stdout",
          "text": [
            "\b\b\b\b\b\b\b\b\b\b\b\b\b\b\b\b\b\b\b\b\b\b\b\b\b\b\b\b\b\b\b\b\b\b\b\b\b\b\b\b\b\b\b\b\b\b\b\b\b\b\b\b\b\b\b\b\b\b\b\b\b\b\b\b\b\b\b\b\b\b\b\b\b\b\b\b\b\b\b\b\b\b\b\b\b\b\b\b\b\b\b\b\b\b\b\b\b\b\b\b\b\b\b\b\b\b\b\b\b\b\b\b\b\b\r80/80 [==============================] - 3s 43ms/step - loss: 1.9039e-04 - masked_acc: 1.0000 - masked_loss: 1.8986e-04\n",
            "Epoch 59/100\n",
            "80/80 [==============================] - ETA: 0s - loss: 1.7796e-04 - masked_acc: 1.0000 - masked_loss: 1.7756e-04"
          ]
        },
        {
          "output_type": "stream",
          "name": "stderr",
          "text": [
            "WARNING:tensorflow:Early stopping conditioned on metric `val_loss` which is not available. Available metrics are: loss,masked_acc,masked_loss\n"
          ]
        },
        {
          "output_type": "stream",
          "name": "stdout",
          "text": [
            "\b\b\b\b\b\b\b\b\b\b\b\b\b\b\b\b\b\b\b\b\b\b\b\b\b\b\b\b\b\b\b\b\b\b\b\b\b\b\b\b\b\b\b\b\b\b\b\b\b\b\b\b\b\b\b\b\b\b\b\b\b\b\b\b\b\b\b\b\b\b\b\b\b\b\b\b\b\b\b\b\b\b\b\b\b\b\b\b\b\b\b\b\b\b\b\b\b\b\b\b\b\b\b\b\b\b\b\b\b\b\b\b\b\b\r80/80 [==============================] - 2s 30ms/step - loss: 1.7796e-04 - masked_acc: 1.0000 - masked_loss: 1.7756e-04\n",
            "Epoch 60/100\n",
            "80/80 [==============================] - ETA: 0s - loss: 1.6711e-04 - masked_acc: 1.0000 - masked_loss: 1.6600e-04"
          ]
        },
        {
          "output_type": "stream",
          "name": "stderr",
          "text": [
            "WARNING:tensorflow:Early stopping conditioned on metric `val_loss` which is not available. Available metrics are: loss,masked_acc,masked_loss\n"
          ]
        },
        {
          "output_type": "stream",
          "name": "stdout",
          "text": [
            "\b\b\b\b\b\b\b\b\b\b\b\b\b\b\b\b\b\b\b\b\b\b\b\b\b\b\b\b\b\b\b\b\b\b\b\b\b\b\b\b\b\b\b\b\b\b\b\b\b\b\b\b\b\b\b\b\b\b\b\b\b\b\b\b\b\b\b\b\b\b\b\b\b\b\b\b\b\b\b\b\b\b\b\b\b\b\b\b\b\b\b\b\b\b\b\b\b\b\b\b\b\b\b\b\b\b\b\b\b\b\b\b\b\b\r80/80 [==============================] - 2s 26ms/step - loss: 1.6711e-04 - masked_acc: 1.0000 - masked_loss: 1.6600e-04\n",
            "Epoch 61/100\n",
            "80/80 [==============================] - ETA: 0s - loss: 1.5634e-04 - masked_acc: 1.0000 - masked_loss: 1.5646e-04"
          ]
        },
        {
          "output_type": "stream",
          "name": "stderr",
          "text": [
            "WARNING:tensorflow:Early stopping conditioned on metric `val_loss` which is not available. Available metrics are: loss,masked_acc,masked_loss\n"
          ]
        },
        {
          "output_type": "stream",
          "name": "stdout",
          "text": [
            "\b\b\b\b\b\b\b\b\b\b\b\b\b\b\b\b\b\b\b\b\b\b\b\b\b\b\b\b\b\b\b\b\b\b\b\b\b\b\b\b\b\b\b\b\b\b\b\b\b\b\b\b\b\b\b\b\b\b\b\b\b\b\b\b\b\b\b\b\b\b\b\b\b\b\b\b\b\b\b\b\b\b\b\b\b\b\b\b\b\b\b\b\b\b\b\b\b\b\b\b\b\b\b\b\b\b\b\b\b\b\b\b\b\b\r80/80 [==============================] - 3s 37ms/step - loss: 1.5634e-04 - masked_acc: 1.0000 - masked_loss: 1.5646e-04\n",
            "Epoch 62/100\n",
            "79/80 [============================>.] - ETA: 0s - loss: 1.4719e-04 - masked_acc: 1.0000 - masked_loss: 1.4734e-04"
          ]
        },
        {
          "output_type": "stream",
          "name": "stderr",
          "text": [
            "WARNING:tensorflow:Early stopping conditioned on metric `val_loss` which is not available. Available metrics are: loss,masked_acc,masked_loss\n"
          ]
        },
        {
          "output_type": "stream",
          "name": "stdout",
          "text": [
            "\b\b\b\b\b\b\b\b\b\b\b\b\b\b\b\b\b\b\b\b\b\b\b\b\b\b\b\b\b\b\b\b\b\b\b\b\b\b\b\b\b\b\b\b\b\b\b\b\b\b\b\b\b\b\b\b\b\b\b\b\b\b\b\b\b\b\b\b\b\b\b\b\b\b\b\b\b\b\b\b\b\b\b\b\b\b\b\b\b\b\b\b\b\b\b\b\b\b\b\b\b\b\b\b\b\b\b\b\b\b\b\b\b\b\r80/80 [==============================] - 3s 43ms/step - loss: 1.4714e-04 - masked_acc: 1.0000 - masked_loss: 1.4729e-04\n",
            "Epoch 63/100\n",
            "79/80 [============================>.] - ETA: 0s - loss: 1.3839e-04 - masked_acc: 1.0000 - masked_loss: 1.3829e-04"
          ]
        },
        {
          "output_type": "stream",
          "name": "stderr",
          "text": [
            "WARNING:tensorflow:Early stopping conditioned on metric `val_loss` which is not available. Available metrics are: loss,masked_acc,masked_loss\n"
          ]
        },
        {
          "output_type": "stream",
          "name": "stdout",
          "text": [
            "\b\b\b\b\b\b\b\b\b\b\b\b\b\b\b\b\b\b\b\b\b\b\b\b\b\b\b\b\b\b\b\b\b\b\b\b\b\b\b\b\b\b\b\b\b\b\b\b\b\b\b\b\b\b\b\b\b\b\b\b\b\b\b\b\b\b\b\b\b\b\b\b\b\b\b\b\b\b\b\b\b\b\b\b\b\b\b\b\b\b\b\b\b\b\b\b\b\b\b\b\b\b\b\b\b\b\b\b\b\b\b\b\b\b\r80/80 [==============================] - 3s 33ms/step - loss: 1.3829e-04 - masked_acc: 1.0000 - masked_loss: 1.3820e-04\n",
            "Epoch 64/100\n",
            "80/80 [==============================] - ETA: 0s - loss: 1.3004e-04 - masked_acc: 1.0000 - masked_loss: 1.3064e-04"
          ]
        },
        {
          "output_type": "stream",
          "name": "stderr",
          "text": [
            "WARNING:tensorflow:Early stopping conditioned on metric `val_loss` which is not available. Available metrics are: loss,masked_acc,masked_loss\n"
          ]
        },
        {
          "output_type": "stream",
          "name": "stdout",
          "text": [
            "\b\b\b\b\b\b\b\b\b\b\b\b\b\b\b\b\b\b\b\b\b\b\b\b\b\b\b\b\b\b\b\b\b\b\b\b\b\b\b\b\b\b\b\b\b\b\b\b\b\b\b\b\b\b\b\b\b\b\b\b\b\b\b\b\b\b\b\b\b\b\b\b\b\b\b\b\b\b\b\b\b\b\b\b\b\b\b\b\b\b\b\b\b\b\b\b\b\b\b\b\b\b\b\b\b\b\b\b\b\b\b\b\b\b\r80/80 [==============================] - 2s 27ms/step - loss: 1.3004e-04 - masked_acc: 1.0000 - masked_loss: 1.3064e-04\n",
            "Epoch 65/100\n",
            "80/80 [==============================] - ETA: 0s - loss: 1.2267e-04 - masked_acc: 1.0000 - masked_loss: 1.2281e-04"
          ]
        },
        {
          "output_type": "stream",
          "name": "stderr",
          "text": [
            "WARNING:tensorflow:Early stopping conditioned on metric `val_loss` which is not available. Available metrics are: loss,masked_acc,masked_loss\n"
          ]
        },
        {
          "output_type": "stream",
          "name": "stdout",
          "text": [
            "\b\b\b\b\b\b\b\b\b\b\b\b\b\b\b\b\b\b\b\b\b\b\b\b\b\b\b\b\b\b\b\b\b\b\b\b\b\b\b\b\b\b\b\b\b\b\b\b\b\b\b\b\b\b\b\b\b\b\b\b\b\b\b\b\b\b\b\b\b\b\b\b\b\b\b\b\b\b\b\b\b\b\b\b\b\b\b\b\b\b\b\b\b\b\b\b\b\b\b\b\b\b\b\b\b\b\b\b\b\b\b\b\b\b\r80/80 [==============================] - 2s 26ms/step - loss: 1.2267e-04 - masked_acc: 1.0000 - masked_loss: 1.2281e-04\n",
            "Epoch 66/100\n",
            "79/80 [============================>.] - ETA: 0s - loss: 1.1578e-04 - masked_acc: 1.0000 - masked_loss: 1.1588e-04"
          ]
        },
        {
          "output_type": "stream",
          "name": "stderr",
          "text": [
            "WARNING:tensorflow:Early stopping conditioned on metric `val_loss` which is not available. Available metrics are: loss,masked_acc,masked_loss\n"
          ]
        },
        {
          "output_type": "stream",
          "name": "stdout",
          "text": [
            "\b\b\b\b\b\b\b\b\b\b\b\b\b\b\b\b\b\b\b\b\b\b\b\b\b\b\b\b\b\b\b\b\b\b\b\b\b\b\b\b\b\b\b\b\b\b\b\b\b\b\b\b\b\b\b\b\b\b\b\b\b\b\b\b\b\b\b\b\b\b\b\b\b\b\b\b\b\b\b\b\b\b\b\b\b\b\b\b\b\b\b\b\b\b\b\b\b\b\b\b\b\b\b\b\b\b\b\b\b\b\b\b\b\b\r80/80 [==============================] - 2s 26ms/step - loss: 1.1580e-04 - masked_acc: 1.0000 - masked_loss: 1.1589e-04\n",
            "Epoch 67/100\n",
            "80/80 [==============================] - ETA: 0s - loss: 1.0921e-04 - masked_acc: 1.0000 - masked_loss: 1.0934e-04"
          ]
        },
        {
          "output_type": "stream",
          "name": "stderr",
          "text": [
            "WARNING:tensorflow:Early stopping conditioned on metric `val_loss` which is not available. Available metrics are: loss,masked_acc,masked_loss\n"
          ]
        },
        {
          "output_type": "stream",
          "name": "stdout",
          "text": [
            "\b\b\b\b\b\b\b\b\b\b\b\b\b\b\b\b\b\b\b\b\b\b\b\b\b\b\b\b\b\b\b\b\b\b\b\b\b\b\b\b\b\b\b\b\b\b\b\b\b\b\b\b\b\b\b\b\b\b\b\b\b\b\b\b\b\b\b\b\b\b\b\b\b\b\b\b\b\b\b\b\b\b\b\b\b\b\b\b\b\b\b\b\b\b\b\b\b\b\b\b\b\b\b\b\b\b\b\b\b\b\b\b\b\b\r80/80 [==============================] - 3s 33ms/step - loss: 1.0921e-04 - masked_acc: 1.0000 - masked_loss: 1.0934e-04\n",
            "Epoch 68/100\n",
            "80/80 [==============================] - ETA: 0s - loss: 1.0282e-04 - masked_acc: 1.0000 - masked_loss: 1.0274e-04"
          ]
        },
        {
          "output_type": "stream",
          "name": "stderr",
          "text": [
            "WARNING:tensorflow:Early stopping conditioned on metric `val_loss` which is not available. Available metrics are: loss,masked_acc,masked_loss\n"
          ]
        },
        {
          "output_type": "stream",
          "name": "stdout",
          "text": [
            "\b\b\b\b\b\b\b\b\b\b\b\b\b\b\b\b\b\b\b\b\b\b\b\b\b\b\b\b\b\b\b\b\b\b\b\b\b\b\b\b\b\b\b\b\b\b\b\b\b\b\b\b\b\b\b\b\b\b\b\b\b\b\b\b\b\b\b\b\b\b\b\b\b\b\b\b\b\b\b\b\b\b\b\b\b\b\b\b\b\b\b\b\b\b\b\b\b\b\b\b\b\b\b\b\b\b\b\b\b\b\b\b\b\b\r80/80 [==============================] - 4s 40ms/step - loss: 1.0282e-04 - masked_acc: 1.0000 - masked_loss: 1.0274e-04\n",
            "Epoch 69/100\n",
            "80/80 [==============================] - ETA: 0s - loss: 9.7891e-05 - masked_acc: 1.0000 - masked_loss: 9.7724e-05"
          ]
        },
        {
          "output_type": "stream",
          "name": "stderr",
          "text": [
            "WARNING:tensorflow:Early stopping conditioned on metric `val_loss` which is not available. Available metrics are: loss,masked_acc,masked_loss\n"
          ]
        },
        {
          "output_type": "stream",
          "name": "stdout",
          "text": [
            "\b\b\b\b\b\b\b\b\b\b\b\b\b\b\b\b\b\b\b\b\b\b\b\b\b\b\b\b\b\b\b\b\b\b\b\b\b\b\b\b\b\b\b\b\b\b\b\b\b\b\b\b\b\b\b\b\b\b\b\b\b\b\b\b\b\b\b\b\b\b\b\b\b\b\b\b\b\b\b\b\b\b\b\b\b\b\b\b\b\b\b\b\b\b\b\b\b\b\b\b\b\b\b\b\b\b\b\b\b\b\b\b\b\b\r80/80 [==============================] - 2s 27ms/step - loss: 9.7891e-05 - masked_acc: 1.0000 - masked_loss: 9.7724e-05\n",
            "Epoch 70/100\n",
            "78/80 [============================>.] - ETA: 0s - loss: 9.2457e-05 - masked_acc: 1.0000 - masked_loss: 9.2547e-05"
          ]
        },
        {
          "output_type": "stream",
          "name": "stderr",
          "text": [
            "WARNING:tensorflow:Early stopping conditioned on metric `val_loss` which is not available. Available metrics are: loss,masked_acc,masked_loss\n"
          ]
        },
        {
          "output_type": "stream",
          "name": "stdout",
          "text": [
            "\b\b\b\b\b\b\b\b\b\b\b\b\b\b\b\b\b\b\b\b\b\b\b\b\b\b\b\b\b\b\b\b\b\b\b\b\b\b\b\b\b\b\b\b\b\b\b\b\b\b\b\b\b\b\b\b\b\b\b\b\b\b\b\b\b\b\b\b\b\b\b\b\b\b\b\b\b\b\b\b\b\b\b\b\b\b\b\b\b\b\b\b\b\b\b\b\b\b\b\b\b\b\b\b\b\b\b\b\b\b\b\b\b\b\r80/80 [==============================] - 3s 34ms/step - loss: 9.2424e-05 - masked_acc: 1.0000 - masked_loss: 9.2513e-05\n",
            "Epoch 71/100\n",
            "79/80 [============================>.] - ETA: 0s - loss: 8.7351e-05 - masked_acc: 1.0000 - masked_loss: 8.7234e-05"
          ]
        },
        {
          "output_type": "stream",
          "name": "stderr",
          "text": [
            "WARNING:tensorflow:Early stopping conditioned on metric `val_loss` which is not available. Available metrics are: loss,masked_acc,masked_loss\n"
          ]
        },
        {
          "output_type": "stream",
          "name": "stdout",
          "text": [
            "\b\b\b\b\b\b\b\b\b\b\b\b\b\b\b\b\b\b\b\b\b\b\b\b\b\b\b\b\b\b\b\b\b\b\b\b\b\b\b\b\b\b\b\b\b\b\b\b\b\b\b\b\b\b\b\b\b\b\b\b\b\b\b\b\b\b\b\b\b\b\b\b\b\b\b\b\b\b\b\b\b\b\b\b\b\b\b\b\b\b\b\b\b\b\b\b\b\b\b\b\b\b\b\b\b\b\b\b\b\b\b\b\b\b\r80/80 [==============================] - 2s 27ms/step - loss: 8.7255e-05 - masked_acc: 1.0000 - masked_loss: 8.7145e-05\n",
            "Epoch 72/100\n",
            "80/80 [==============================] - ETA: 0s - loss: 8.2869e-05 - masked_acc: 1.0000 - masked_loss: 8.3176e-05"
          ]
        },
        {
          "output_type": "stream",
          "name": "stderr",
          "text": [
            "WARNING:tensorflow:Early stopping conditioned on metric `val_loss` which is not available. Available metrics are: loss,masked_acc,masked_loss\n"
          ]
        },
        {
          "output_type": "stream",
          "name": "stdout",
          "text": [
            "\b\b\b\b\b\b\b\b\b\b\b\b\b\b\b\b\b\b\b\b\b\b\b\b\b\b\b\b\b\b\b\b\b\b\b\b\b\b\b\b\b\b\b\b\b\b\b\b\b\b\b\b\b\b\b\b\b\b\b\b\b\b\b\b\b\b\b\b\b\b\b\b\b\b\b\b\b\b\b\b\b\b\b\b\b\b\b\b\b\b\b\b\b\b\b\b\b\b\b\b\b\b\b\b\b\b\b\b\b\b\b\b\b\b\r80/80 [==============================] - 3s 35ms/step - loss: 8.2869e-05 - masked_acc: 1.0000 - masked_loss: 8.3176e-05\n",
            "Epoch 73/100\n",
            "80/80 [==============================] - ETA: 0s - loss: 7.8692e-05 - masked_acc: 1.0000 - masked_loss: 7.8713e-05"
          ]
        },
        {
          "output_type": "stream",
          "name": "stderr",
          "text": [
            "WARNING:tensorflow:Early stopping conditioned on metric `val_loss` which is not available. Available metrics are: loss,masked_acc,masked_loss\n"
          ]
        },
        {
          "output_type": "stream",
          "name": "stdout",
          "text": [
            "\b\b\b\b\b\b\b\b\b\b\b\b\b\b\b\b\b\b\b\b\b\b\b\b\b\b\b\b\b\b\b\b\b\b\b\b\b\b\b\b\b\b\b\b\b\b\b\b\b\b\b\b\b\b\b\b\b\b\b\b\b\b\b\b\b\b\b\b\b\b\b\b\b\b\b\b\b\b\b\b\b\b\b\b\b\b\b\b\b\b\b\b\b\b\b\b\b\b\b\b\b\b\b\b\b\b\b\b\b\b\b\b\b\b\r80/80 [==============================] - 3s 36ms/step - loss: 7.8692e-05 - masked_acc: 1.0000 - masked_loss: 7.8713e-05\n",
            "Epoch 74/100\n",
            "80/80 [==============================] - ETA: 0s - loss: 7.4600e-05 - masked_acc: 1.0000 - masked_loss: 7.4412e-05"
          ]
        },
        {
          "output_type": "stream",
          "name": "stderr",
          "text": [
            "WARNING:tensorflow:Early stopping conditioned on metric `val_loss` which is not available. Available metrics are: loss,masked_acc,masked_loss\n"
          ]
        },
        {
          "output_type": "stream",
          "name": "stdout",
          "text": [
            "\b\b\b\b\b\b\b\b\b\b\b\b\b\b\b\b\b\b\b\b\b\b\b\b\b\b\b\b\b\b\b\b\b\b\b\b\b\b\b\b\b\b\b\b\b\b\b\b\b\b\b\b\b\b\b\b\b\b\b\b\b\b\b\b\b\b\b\b\b\b\b\b\b\b\b\b\b\b\b\b\b\b\b\b\b\b\b\b\b\b\b\b\b\b\b\b\b\b\b\b\b\b\b\b\b\b\b\b\b\b\b\b\b\b\r80/80 [==============================] - 2s 26ms/step - loss: 7.4600e-05 - masked_acc: 1.0000 - masked_loss: 7.4412e-05\n",
            "Epoch 75/100\n",
            "80/80 [==============================] - ETA: 0s - loss: 7.0817e-05 - masked_acc: 1.0000 - masked_loss: 7.0583e-05"
          ]
        },
        {
          "output_type": "stream",
          "name": "stderr",
          "text": [
            "WARNING:tensorflow:Early stopping conditioned on metric `val_loss` which is not available. Available metrics are: loss,masked_acc,masked_loss\n"
          ]
        },
        {
          "output_type": "stream",
          "name": "stdout",
          "text": [
            "\b\b\b\b\b\b\b\b\b\b\b\b\b\b\b\b\b\b\b\b\b\b\b\b\b\b\b\b\b\b\b\b\b\b\b\b\b\b\b\b\b\b\b\b\b\b\b\b\b\b\b\b\b\b\b\b\b\b\b\b\b\b\b\b\b\b\b\b\b\b\b\b\b\b\b\b\b\b\b\b\b\b\b\b\b\b\b\b\b\b\b\b\b\b\b\b\b\b\b\b\b\b\b\b\b\b\b\b\b\b\b\b\b\b\r80/80 [==============================] - 2s 26ms/step - loss: 7.0817e-05 - masked_acc: 1.0000 - masked_loss: 7.0583e-05\n",
            "Epoch 76/100\n",
            "79/80 [============================>.] - ETA: 0s - loss: 6.7156e-05 - masked_acc: 1.0000 - masked_loss: 6.7037e-05"
          ]
        },
        {
          "output_type": "stream",
          "name": "stderr",
          "text": [
            "WARNING:tensorflow:Early stopping conditioned on metric `val_loss` which is not available. Available metrics are: loss,masked_acc,masked_loss\n"
          ]
        },
        {
          "output_type": "stream",
          "name": "stdout",
          "text": [
            "\b\b\b\b\b\b\b\b\b\b\b\b\b\b\b\b\b\b\b\b\b\b\b\b\b\b\b\b\b\b\b\b\b\b\b\b\b\b\b\b\b\b\b\b\b\b\b\b\b\b\b\b\b\b\b\b\b\b\b\b\b\b\b\b\b\b\b\b\b\b\b\b\b\b\b\b\b\b\b\b\b\b\b\b\b\b\b\b\b\b\b\b\b\b\b\b\b\b\b\b\b\b\b\b\b\b\b\b\b\b\b\b\b\b\r80/80 [==============================] - 2s 26ms/step - loss: 6.7123e-05 - masked_acc: 1.0000 - masked_loss: 6.7007e-05\n",
            "Epoch 77/100\n",
            "80/80 [==============================] - ETA: 0s - loss: 6.3883e-05 - masked_acc: 1.0000 - masked_loss: 6.3832e-05"
          ]
        },
        {
          "output_type": "stream",
          "name": "stderr",
          "text": [
            "WARNING:tensorflow:Early stopping conditioned on metric `val_loss` which is not available. Available metrics are: loss,masked_acc,masked_loss\n"
          ]
        },
        {
          "output_type": "stream",
          "name": "stdout",
          "text": [
            "\b\b\b\b\b\b\b\b\b\b\b\b\b\b\b\b\b\b\b\b\b\b\b\b\b\b\b\b\b\b\b\b\b\b\b\b\b\b\b\b\b\b\b\b\b\b\b\b\b\b\b\b\b\b\b\b\b\b\b\b\b\b\b\b\b\b\b\b\b\b\b\b\b\b\b\b\b\b\b\b\b\b\b\b\b\b\b\b\b\b\b\b\b\b\b\b\b\b\b\b\b\b\b\b\b\b\b\b\b\b\b\b\b\b\r80/80 [==============================] - 2s 26ms/step - loss: 6.3883e-05 - masked_acc: 1.0000 - masked_loss: 6.3832e-05\n",
            "Epoch 78/100\n",
            "79/80 [============================>.] - ETA: 0s - loss: 6.0791e-05 - masked_acc: 1.0000 - masked_loss: 6.0947e-05"
          ]
        },
        {
          "output_type": "stream",
          "name": "stderr",
          "text": [
            "WARNING:tensorflow:Early stopping conditioned on metric `val_loss` which is not available. Available metrics are: loss,masked_acc,masked_loss\n"
          ]
        },
        {
          "output_type": "stream",
          "name": "stdout",
          "text": [
            "\b\b\b\b\b\b\b\b\b\b\b\b\b\b\b\b\b\b\b\b\b\b\b\b\b\b\b\b\b\b\b\b\b\b\b\b\b\b\b\b\b\b\b\b\b\b\b\b\b\b\b\b\b\b\b\b\b\b\b\b\b\b\b\b\b\b\b\b\b\b\b\b\b\b\b\b\b\b\b\b\b\b\b\b\b\b\b\b\b\b\b\b\b\b\b\b\b\b\b\b\b\b\b\b\b\b\b\b\b\b\b\b\b\b\r80/80 [==============================] - 3s 41ms/step - loss: 6.0750e-05 - masked_acc: 1.0000 - masked_loss: 6.0803e-05\n",
            "Epoch 79/100\n",
            "79/80 [============================>.] - ETA: 0s - loss: 5.7729e-05 - masked_acc: 1.0000 - masked_loss: 5.7443e-05"
          ]
        },
        {
          "output_type": "stream",
          "name": "stderr",
          "text": [
            "WARNING:tensorflow:Early stopping conditioned on metric `val_loss` which is not available. Available metrics are: loss,masked_acc,masked_loss\n"
          ]
        },
        {
          "output_type": "stream",
          "name": "stdout",
          "text": [
            "\b\b\b\b\b\b\b\b\b\b\b\b\b\b\b\b\b\b\b\b\b\b\b\b\b\b\b\b\b\b\b\b\b\b\b\b\b\b\b\b\b\b\b\b\b\b\b\b\b\b\b\b\b\b\b\b\b\b\b\b\b\b\b\b\b\b\b\b\b\b\b\b\b\b\b\b\b\b\b\b\b\b\b\b\b\b\b\b\b\b\b\b\b\b\b\b\b\b\b\b\b\b\b\b\b\b\b\b\b\b\b\b\b\b\r80/80 [==============================] - 2s 26ms/step - loss: 5.7705e-05 - masked_acc: 1.0000 - masked_loss: 5.7424e-05\n",
            "Epoch 80/100\n",
            "80/80 [==============================] - ETA: 0s - loss: 5.5098e-05 - masked_acc: 1.0000 - masked_loss: 5.5277e-05"
          ]
        },
        {
          "output_type": "stream",
          "name": "stderr",
          "text": [
            "WARNING:tensorflow:Early stopping conditioned on metric `val_loss` which is not available. Available metrics are: loss,masked_acc,masked_loss\n"
          ]
        },
        {
          "output_type": "stream",
          "name": "stdout",
          "text": [
            "\b\b\b\b\b\b\b\b\b\b\b\b\b\b\b\b\b\b\b\b\b\b\b\b\b\b\b\b\b\b\b\b\b\b\b\b\b\b\b\b\b\b\b\b\b\b\b\b\b\b\b\b\b\b\b\b\b\b\b\b\b\b\b\b\b\b\b\b\b\b\b\b\b\b\b\b\b\b\b\b\b\b\b\b\b\b\b\b\b\b\b\b\b\b\b\b\b\b\b\b\b\b\b\b\b\b\b\b\b\b\b\b\b\b\r80/80 [==============================] - 2s 27ms/step - loss: 5.5098e-05 - masked_acc: 1.0000 - masked_loss: 5.5277e-05\n",
            "Epoch 81/100\n",
            "79/80 [============================>.] - ETA: 0s - loss: 5.2217e-05 - masked_acc: 1.0000 - masked_loss: 5.2212e-05"
          ]
        },
        {
          "output_type": "stream",
          "name": "stderr",
          "text": [
            "WARNING:tensorflow:Early stopping conditioned on metric `val_loss` which is not available. Available metrics are: loss,masked_acc,masked_loss\n"
          ]
        },
        {
          "output_type": "stream",
          "name": "stdout",
          "text": [
            "\b\b\b\b\b\b\b\b\b\b\b\b\b\b\b\b\b\b\b\b\b\b\b\b\b\b\b\b\b\b\b\b\b\b\b\b\b\b\b\b\b\b\b\b\b\b\b\b\b\b\b\b\b\b\b\b\b\b\b\b\b\b\b\b\b\b\b\b\b\b\b\b\b\b\b\b\b\b\b\b\b\b\b\b\b\b\b\b\b\b\b\b\b\b\b\b\b\b\b\b\b\b\b\b\b\b\b\b\b\b\b\b\b\b\r80/80 [==============================] - 2s 26ms/step - loss: 5.2229e-05 - masked_acc: 1.0000 - masked_loss: 5.2223e-05\n",
            "Epoch 82/100\n",
            "80/80 [==============================] - ETA: 0s - loss: 4.9780e-05 - masked_acc: 1.0000 - masked_loss: 4.9807e-05"
          ]
        },
        {
          "output_type": "stream",
          "name": "stderr",
          "text": [
            "WARNING:tensorflow:Early stopping conditioned on metric `val_loss` which is not available. Available metrics are: loss,masked_acc,masked_loss\n"
          ]
        },
        {
          "output_type": "stream",
          "name": "stdout",
          "text": [
            "\b\b\b\b\b\b\b\b\b\b\b\b\b\b\b\b\b\b\b\b\b\b\b\b\b\b\b\b\b\b\b\b\b\b\b\b\b\b\b\b\b\b\b\b\b\b\b\b\b\b\b\b\b\b\b\b\b\b\b\b\b\b\b\b\b\b\b\b\b\b\b\b\b\b\b\b\b\b\b\b\b\b\b\b\b\b\b\b\b\b\b\b\b\b\b\b\b\b\b\b\b\b\b\b\b\b\b\b\b\b\b\b\b\b\r80/80 [==============================] - 3s 32ms/step - loss: 4.9780e-05 - masked_acc: 1.0000 - masked_loss: 4.9807e-05\n",
            "Epoch 83/100\n",
            "79/80 [============================>.] - ETA: 0s - loss: 4.7393e-05 - masked_acc: 1.0000 - masked_loss: 4.7146e-05"
          ]
        },
        {
          "output_type": "stream",
          "name": "stderr",
          "text": [
            "WARNING:tensorflow:Early stopping conditioned on metric `val_loss` which is not available. Available metrics are: loss,masked_acc,masked_loss\n"
          ]
        },
        {
          "output_type": "stream",
          "name": "stdout",
          "text": [
            "\b\b\b\b\b\b\b\b\b\b\b\b\b\b\b\b\b\b\b\b\b\b\b\b\b\b\b\b\b\b\b\b\b\b\b\b\b\b\b\b\b\b\b\b\b\b\b\b\b\b\b\b\b\b\b\b\b\b\b\b\b\b\b\b\b\b\b\b\b\b\b\b\b\b\b\b\b\b\b\b\b\b\b\b\b\b\b\b\b\b\b\b\b\b\b\b\b\b\b\b\b\b\b\b\b\b\b\b\b\b\b\b\b\b\r80/80 [==============================] - 4s 44ms/step - loss: 4.7326e-05 - masked_acc: 1.0000 - masked_loss: 4.7085e-05\n",
            "Epoch 84/100\n",
            "80/80 [==============================] - ETA: 0s - loss: 4.5164e-05 - masked_acc: 1.0000 - masked_loss: 4.5349e-05"
          ]
        },
        {
          "output_type": "stream",
          "name": "stderr",
          "text": [
            "WARNING:tensorflow:Early stopping conditioned on metric `val_loss` which is not available. Available metrics are: loss,masked_acc,masked_loss\n"
          ]
        },
        {
          "output_type": "stream",
          "name": "stdout",
          "text": [
            "\b\b\b\b\b\b\b\b\b\b\b\b\b\b\b\b\b\b\b\b\b\b\b\b\b\b\b\b\b\b\b\b\b\b\b\b\b\b\b\b\b\b\b\b\b\b\b\b\b\b\b\b\b\b\b\b\b\b\b\b\b\b\b\b\b\b\b\b\b\b\b\b\b\b\b\b\b\b\b\b\b\b\b\b\b\b\b\b\b\b\b\b\b\b\b\b\b\b\b\b\b\b\b\b\b\b\b\b\b\b\b\b\b\b\r80/80 [==============================] - 2s 26ms/step - loss: 4.5164e-05 - masked_acc: 1.0000 - masked_loss: 4.5349e-05\n",
            "Epoch 85/100\n",
            "79/80 [============================>.] - ETA: 0s - loss: 4.3048e-05 - masked_acc: 1.0000 - masked_loss: 4.3021e-05"
          ]
        },
        {
          "output_type": "stream",
          "name": "stderr",
          "text": [
            "WARNING:tensorflow:Early stopping conditioned on metric `val_loss` which is not available. Available metrics are: loss,masked_acc,masked_loss\n"
          ]
        },
        {
          "output_type": "stream",
          "name": "stdout",
          "text": [
            "\b\b\b\b\b\b\b\b\b\b\b\b\b\b\b\b\b\b\b\b\b\b\b\b\b\b\b\b\b\b\b\b\b\b\b\b\b\b\b\b\b\b\b\b\b\b\b\b\b\b\b\b\b\b\b\b\b\b\b\b\b\b\b\b\b\b\b\b\b\b\b\b\b\b\b\b\b\b\b\b\b\b\b\b\b\b\b\b\b\b\b\b\b\b\b\b\b\b\b\b\b\b\b\b\b\b\b\b\b\b\b\b\b\b\r80/80 [==============================] - 2s 26ms/step - loss: 4.3071e-05 - masked_acc: 1.0000 - masked_loss: 4.3042e-05\n",
            "Epoch 86/100\n",
            "80/80 [==============================] - ETA: 0s - loss: 4.1009e-05 - masked_acc: 1.0000 - masked_loss: 4.0893e-05"
          ]
        },
        {
          "output_type": "stream",
          "name": "stderr",
          "text": [
            "WARNING:tensorflow:Early stopping conditioned on metric `val_loss` which is not available. Available metrics are: loss,masked_acc,masked_loss\n"
          ]
        },
        {
          "output_type": "stream",
          "name": "stdout",
          "text": [
            "\b\b\b\b\b\b\b\b\b\b\b\b\b\b\b\b\b\b\b\b\b\b\b\b\b\b\b\b\b\b\b\b\b\b\b\b\b\b\b\b\b\b\b\b\b\b\b\b\b\b\b\b\b\b\b\b\b\b\b\b\b\b\b\b\b\b\b\b\b\b\b\b\b\b\b\b\b\b\b\b\b\b\b\b\b\b\b\b\b\b\b\b\b\b\b\b\b\b\b\b\b\b\b\b\b\b\b\b\b\b\b\b\b\b\r80/80 [==============================] - 2s 29ms/step - loss: 4.1009e-05 - masked_acc: 1.0000 - masked_loss: 4.0893e-05\n",
            "Epoch 87/100\n",
            "80/80 [==============================] - ETA: 0s - loss: 3.9122e-05 - masked_acc: 1.0000 - masked_loss: 3.9188e-05"
          ]
        },
        {
          "output_type": "stream",
          "name": "stderr",
          "text": [
            "WARNING:tensorflow:Early stopping conditioned on metric `val_loss` which is not available. Available metrics are: loss,masked_acc,masked_loss\n"
          ]
        },
        {
          "output_type": "stream",
          "name": "stdout",
          "text": [
            "\b\b\b\b\b\b\b\b\b\b\b\b\b\b\b\b\b\b\b\b\b\b\b\b\b\b\b\b\b\b\b\b\b\b\b\b\b\b\b\b\b\b\b\b\b\b\b\b\b\b\b\b\b\b\b\b\b\b\b\b\b\b\b\b\b\b\b\b\b\b\b\b\b\b\b\b\b\b\b\b\b\b\b\b\b\b\b\b\b\b\b\b\b\b\b\b\b\b\b\b\b\b\b\b\b\b\b\b\b\b\b\b\b\b\r80/80 [==============================] - 3s 32ms/step - loss: 3.9122e-05 - masked_acc: 1.0000 - masked_loss: 3.9188e-05\n",
            "Epoch 88/100\n",
            "79/80 [============================>.] - ETA: 0s - loss: 3.7202e-05 - masked_acc: 1.0000 - masked_loss: 3.7114e-05"
          ]
        },
        {
          "output_type": "stream",
          "name": "stderr",
          "text": [
            "WARNING:tensorflow:Early stopping conditioned on metric `val_loss` which is not available. Available metrics are: loss,masked_acc,masked_loss\n"
          ]
        },
        {
          "output_type": "stream",
          "name": "stdout",
          "text": [
            "\b\b\b\b\b\b\b\b\b\b\b\b\b\b\b\b\b\b\b\b\b\b\b\b\b\b\b\b\b\b\b\b\b\b\b\b\b\b\b\b\b\b\b\b\b\b\b\b\b\b\b\b\b\b\b\b\b\b\b\b\b\b\b\b\b\b\b\b\b\b\b\b\b\b\b\b\b\b\b\b\b\b\b\b\b\b\b\b\b\b\b\b\b\b\b\b\b\b\b\b\b\b\b\b\b\b\b\b\b\b\b\b\b\b\r80/80 [==============================] - 3s 42ms/step - loss: 3.7238e-05 - masked_acc: 1.0000 - masked_loss: 3.7149e-05\n",
            "Epoch 89/100\n",
            "80/80 [==============================] - ETA: 0s - loss: 3.5507e-05 - masked_acc: 1.0000 - masked_loss: 3.5536e-05"
          ]
        },
        {
          "output_type": "stream",
          "name": "stderr",
          "text": [
            "WARNING:tensorflow:Early stopping conditioned on metric `val_loss` which is not available. Available metrics are: loss,masked_acc,masked_loss\n"
          ]
        },
        {
          "output_type": "stream",
          "name": "stdout",
          "text": [
            "\b\b\b\b\b\b\b\b\b\b\b\b\b\b\b\b\b\b\b\b\b\b\b\b\b\b\b\b\b\b\b\b\b\b\b\b\b\b\b\b\b\b\b\b\b\b\b\b\b\b\b\b\b\b\b\b\b\b\b\b\b\b\b\b\b\b\b\b\b\b\b\b\b\b\b\b\b\b\b\b\b\b\b\b\b\b\b\b\b\b\b\b\b\b\b\b\b\b\b\b\b\b\b\b\b\b\b\b\b\b\b\b\b\b\r80/80 [==============================] - 2s 29ms/step - loss: 3.5507e-05 - masked_acc: 1.0000 - masked_loss: 3.5536e-05\n",
            "Epoch 90/100\n",
            "78/80 [============================>.] - ETA: 0s - loss: 3.3940e-05 - masked_acc: 1.0000 - masked_loss: 3.3847e-05"
          ]
        },
        {
          "output_type": "stream",
          "name": "stderr",
          "text": [
            "WARNING:tensorflow:Early stopping conditioned on metric `val_loss` which is not available. Available metrics are: loss,masked_acc,masked_loss\n"
          ]
        },
        {
          "output_type": "stream",
          "name": "stdout",
          "text": [
            "\b\b\b\b\b\b\b\b\b\b\b\b\b\b\b\b\b\b\b\b\b\b\b\b\b\b\b\b\b\b\b\b\b\b\b\b\b\b\b\b\b\b\b\b\b\b\b\b\b\b\b\b\b\b\b\b\b\b\b\b\b\b\b\b\b\b\b\b\b\b\b\b\b\b\b\b\b\b\b\b\b\b\b\b\b\b\b\b\b\b\b\b\b\b\b\b\b\b\b\b\b\b\b\b\b\b\b\b\b\b\b\b\b\b\r80/80 [==============================] - 2s 26ms/step - loss: 3.3892e-05 - masked_acc: 1.0000 - masked_loss: 3.3803e-05\n",
            "Epoch 91/100\n",
            "79/80 [============================>.] - ETA: 0s - loss: 3.2424e-05 - masked_acc: 1.0000 - masked_loss: 3.2567e-05"
          ]
        },
        {
          "output_type": "stream",
          "name": "stderr",
          "text": [
            "WARNING:tensorflow:Early stopping conditioned on metric `val_loss` which is not available. Available metrics are: loss,masked_acc,masked_loss\n"
          ]
        },
        {
          "output_type": "stream",
          "name": "stdout",
          "text": [
            "\b\b\b\b\b\b\b\b\b\b\b\b\b\b\b\b\b\b\b\b\b\b\b\b\b\b\b\b\b\b\b\b\b\b\b\b\b\b\b\b\b\b\b\b\b\b\b\b\b\b\b\b\b\b\b\b\b\b\b\b\b\b\b\b\b\b\b\b\b\b\b\b\b\b\b\b\b\b\b\b\b\b\b\b\b\b\b\b\b\b\b\b\b\b\b\b\b\b\b\b\b\b\b\b\b\b\b\b\b\b\b\b\b\b\r80/80 [==============================] - 2s 26ms/step - loss: 3.2392e-05 - masked_acc: 1.0000 - masked_loss: 3.2452e-05\n",
            "Epoch 92/100\n",
            "79/80 [============================>.] - ETA: 0s - loss: 3.0857e-05 - masked_acc: 1.0000 - masked_loss: 3.0889e-05"
          ]
        },
        {
          "output_type": "stream",
          "name": "stderr",
          "text": [
            "WARNING:tensorflow:Early stopping conditioned on metric `val_loss` which is not available. Available metrics are: loss,masked_acc,masked_loss\n"
          ]
        },
        {
          "output_type": "stream",
          "name": "stdout",
          "text": [
            "\b\b\b\b\b\b\b\b\b\b\b\b\b\b\b\b\b\b\b\b\b\b\b\b\b\b\b\b\b\b\b\b\b\b\b\b\b\b\b\b\b\b\b\b\b\b\b\b\b\b\b\b\b\b\b\b\b\b\b\b\b\b\b\b\b\b\b\b\b\b\b\b\b\b\b\b\b\b\b\b\b\b\b\b\b\b\b\b\b\b\b\b\b\b\b\b\b\b\b\b\b\b\b\b\b\b\b\b\b\b\b\b\b\b\r80/80 [==============================] - 2s 26ms/step - loss: 3.0842e-05 - masked_acc: 1.0000 - masked_loss: 3.0874e-05\n",
            "Epoch 93/100\n",
            "80/80 [==============================] - ETA: 0s - loss: 2.9501e-05 - masked_acc: 1.0000 - masked_loss: 2.9436e-05"
          ]
        },
        {
          "output_type": "stream",
          "name": "stderr",
          "text": [
            "WARNING:tensorflow:Early stopping conditioned on metric `val_loss` which is not available. Available metrics are: loss,masked_acc,masked_loss\n"
          ]
        },
        {
          "output_type": "stream",
          "name": "stdout",
          "text": [
            "\b\b\b\b\b\b\b\b\b\b\b\b\b\b\b\b\b\b\b\b\b\b\b\b\b\b\b\b\b\b\b\b\b\b\b\b\b\b\b\b\b\b\b\b\b\b\b\b\b\b\b\b\b\b\b\b\b\b\b\b\b\b\b\b\b\b\b\b\b\b\b\b\b\b\b\b\b\b\b\b\b\b\b\b\b\b\b\b\b\b\b\b\b\b\b\b\b\b\b\b\b\b\b\b\b\b\b\b\b\b\b\b\b\b\r80/80 [==============================] - 3s 33ms/step - loss: 2.9501e-05 - masked_acc: 1.0000 - masked_loss: 2.9436e-05\n",
            "Epoch 94/100\n",
            "79/80 [============================>.] - ETA: 0s - loss: 2.8170e-05 - masked_acc: 1.0000 - masked_loss: 2.8066e-05"
          ]
        },
        {
          "output_type": "stream",
          "name": "stderr",
          "text": [
            "WARNING:tensorflow:Early stopping conditioned on metric `val_loss` which is not available. Available metrics are: loss,masked_acc,masked_loss\n"
          ]
        },
        {
          "output_type": "stream",
          "name": "stdout",
          "text": [
            "\b\b\b\b\b\b\b\b\b\b\b\b\b\b\b\b\b\b\b\b\b\b\b\b\b\b\b\b\b\b\b\b\b\b\b\b\b\b\b\b\b\b\b\b\b\b\b\b\b\b\b\b\b\b\b\b\b\b\b\b\b\b\b\b\b\b\b\b\b\b\b\b\b\b\b\b\b\b\b\b\b\b\b\b\b\b\b\b\b\b\b\b\b\b\b\b\b\b\b\b\b\b\b\b\b\b\b\b\b\b\b\b\b\b\r80/80 [==============================] - 3s 33ms/step - loss: 2.8155e-05 - masked_acc: 1.0000 - masked_loss: 2.8054e-05\n",
            "Epoch 95/100\n",
            "80/80 [==============================] - ETA: 0s - loss: 2.6929e-05 - masked_acc: 1.0000 - masked_loss: 2.6969e-05"
          ]
        },
        {
          "output_type": "stream",
          "name": "stderr",
          "text": [
            "WARNING:tensorflow:Early stopping conditioned on metric `val_loss` which is not available. Available metrics are: loss,masked_acc,masked_loss\n"
          ]
        },
        {
          "output_type": "stream",
          "name": "stdout",
          "text": [
            "\b\b\b\b\b\b\b\b\b\b\b\b\b\b\b\b\b\b\b\b\b\b\b\b\b\b\b\b\b\b\b\b\b\b\b\b\b\b\b\b\b\b\b\b\b\b\b\b\b\b\b\b\b\b\b\b\b\b\b\b\b\b\b\b\b\b\b\b\b\b\b\b\b\b\b\b\b\b\b\b\b\b\b\b\b\b\b\b\b\b\b\b\b\b\b\b\b\b\b\b\b\b\b\b\b\b\b\b\b\b\b\b\b\b\r80/80 [==============================] - 2s 27ms/step - loss: 2.6929e-05 - masked_acc: 1.0000 - masked_loss: 2.6969e-05\n",
            "Epoch 96/100\n",
            "80/80 [==============================] - ETA: 0s - loss: 2.5628e-05 - masked_acc: 1.0000 - masked_loss: 2.5562e-05"
          ]
        },
        {
          "output_type": "stream",
          "name": "stderr",
          "text": [
            "WARNING:tensorflow:Early stopping conditioned on metric `val_loss` which is not available. Available metrics are: loss,masked_acc,masked_loss\n"
          ]
        },
        {
          "output_type": "stream",
          "name": "stdout",
          "text": [
            "\b\b\b\b\b\b\b\b\b\b\b\b\b\b\b\b\b\b\b\b\b\b\b\b\b\b\b\b\b\b\b\b\b\b\b\b\b\b\b\b\b\b\b\b\b\b\b\b\b\b\b\b\b\b\b\b\b\b\b\b\b\b\b\b\b\b\b\b\b\b\b\b\b\b\b\b\b\b\b\b\b\b\b\b\b\b\b\b\b\b\b\b\b\b\b\b\b\b\b\b\b\b\b\b\b\b\b\b\b\b\b\b\b\b\r80/80 [==============================] - 2s 29ms/step - loss: 2.5628e-05 - masked_acc: 1.0000 - masked_loss: 2.5562e-05\n",
            "Epoch 97/100\n",
            "79/80 [============================>.] - ETA: 0s - loss: 2.4567e-05 - masked_acc: 1.0000 - masked_loss: 2.4570e-05"
          ]
        },
        {
          "output_type": "stream",
          "name": "stderr",
          "text": [
            "WARNING:tensorflow:Early stopping conditioned on metric `val_loss` which is not available. Available metrics are: loss,masked_acc,masked_loss\n"
          ]
        },
        {
          "output_type": "stream",
          "name": "stdout",
          "text": [
            "\b\b\b\b\b\b\b\b\b\b\b\b\b\b\b\b\b\b\b\b\b\b\b\b\b\b\b\b\b\b\b\b\b\b\b\b\b\b\b\b\b\b\b\b\b\b\b\b\b\b\b\b\b\b\b\b\b\b\b\b\b\b\b\b\b\b\b\b\b\b\b\b\b\b\b\b\b\b\b\b\b\b\b\b\b\b\b\b\b\b\b\b\b\b\b\b\b\b\b\b\b\b\b\b\b\b\b\b\b\b\b\b\b\b\r80/80 [==============================] - 3s 43ms/step - loss: 2.4579e-05 - masked_acc: 1.0000 - masked_loss: 2.4581e-05\n",
            "Epoch 98/100\n",
            "80/80 [==============================] - ETA: 0s - loss: 2.3407e-05 - masked_acc: 1.0000 - masked_loss: 2.3429e-05"
          ]
        },
        {
          "output_type": "stream",
          "name": "stderr",
          "text": [
            "WARNING:tensorflow:Early stopping conditioned on metric `val_loss` which is not available. Available metrics are: loss,masked_acc,masked_loss\n"
          ]
        },
        {
          "output_type": "stream",
          "name": "stdout",
          "text": [
            "\b\b\b\b\b\b\b\b\b\b\b\b\b\b\b\b\b\b\b\b\b\b\b\b\b\b\b\b\b\b\b\b\b\b\b\b\b\b\b\b\b\b\b\b\b\b\b\b\b\b\b\b\b\b\b\b\b\b\b\b\b\b\b\b\b\b\b\b\b\b\b\b\b\b\b\b\b\b\b\b\b\b\b\b\b\b\b\b\b\b\b\b\b\b\b\b\b\b\b\b\b\b\b\b\b\b\b\b\b\b\b\b\b\b\r80/80 [==============================] - 3s 43ms/step - loss: 2.3407e-05 - masked_acc: 1.0000 - masked_loss: 2.3429e-05\n",
            "Epoch 99/100\n",
            "80/80 [==============================] - ETA: 0s - loss: 2.2431e-05 - masked_acc: 1.0000 - masked_loss: 2.2500e-05"
          ]
        },
        {
          "output_type": "stream",
          "name": "stderr",
          "text": [
            "WARNING:tensorflow:Early stopping conditioned on metric `val_loss` which is not available. Available metrics are: loss,masked_acc,masked_loss\n"
          ]
        },
        {
          "output_type": "stream",
          "name": "stdout",
          "text": [
            "\b\b\b\b\b\b\b\b\b\b\b\b\b\b\b\b\b\b\b\b\b\b\b\b\b\b\b\b\b\b\b\b\b\b\b\b\b\b\b\b\b\b\b\b\b\b\b\b\b\b\b\b\b\b\b\b\b\b\b\b\b\b\b\b\b\b\b\b\b\b\b\b\b\b\b\b\b\b\b\b\b\b\b\b\b\b\b\b\b\b\b\b\b\b\b\b\b\b\b\b\b\b\b\b\b\b\b\b\b\b\b\b\b\b\r80/80 [==============================] - 2s 28ms/step - loss: 2.2431e-05 - masked_acc: 1.0000 - masked_loss: 2.2500e-05\n",
            "Epoch 100/100\n",
            "80/80 [==============================] - ETA: 0s - loss: 2.1366e-05 - masked_acc: 1.0000 - masked_loss: 2.1381e-05"
          ]
        },
        {
          "output_type": "stream",
          "name": "stderr",
          "text": [
            "WARNING:tensorflow:Early stopping conditioned on metric `val_loss` which is not available. Available metrics are: loss,masked_acc,masked_loss\n"
          ]
        },
        {
          "output_type": "stream",
          "name": "stdout",
          "text": [
            "\b\b\b\b\b\b\b\b\b\b\b\b\b\b\b\b\b\b\b\b\b\b\b\b\b\b\b\b\b\b\b\b\b\b\b\b\b\b\b\b\b\b\b\b\b\b\b\b\b\b\b\b\b\b\b\b\b\b\b\b\b\b\b\b\b\b\b\b\b\b\b\b\b\b\b\b\b\b\b\b\b\b\b\b\b\b\b\b\b\b\b\b\b\b\b\b\b\b\b\b\b\b\b\b\b\b\b\b\b\b\b\b\b\b\r80/80 [==============================] - 2s 26ms/step - loss: 2.1366e-05 - masked_acc: 1.0000 - masked_loss: 2.1381e-05\n"
          ]
        }
      ]
    },
    {
      "cell_type": "code",
      "source": [
        "plt.plot(history.history['loss'], label='loss')\n",
        "plt.plot(history.history['val_loss'], label='val_loss')\n",
        "plt.ylim([0, max(plt.ylim())])\n",
        "plt.xlabel('Epoch #')\n",
        "plt.ylabel('CE/token')\n",
        "plt.legend()"
      ],
      "metadata": {
        "colab": {
          "base_uri": "https://localhost:8080/",
          "height": 466
        },
        "id": "8S0xQE6yz-St",
        "outputId": "235bba92-3750-42c4-e375-65b34228c5f7"
      },
      "execution_count": 79,
      "outputs": [
        {
          "output_type": "execute_result",
          "data": {
            "text/plain": [
              "<matplotlib.legend.Legend at 0x7f6b0963e200>"
            ]
          },
          "metadata": {},
          "execution_count": 79
        },
        {
          "output_type": "display_data",
          "data": {
            "text/plain": [
              "<Figure size 640x480 with 1 Axes>"
            ],
            "image/png": "[encoded data removed]"
          },
          "metadata": {}
        }
      ]
    },
    {
      "cell_type": "code",
      "source": [
        "plt.plot(history.history['masked_acc'], label='accuracy')\n",
        "plt.plot(history.history['val_masked_acc'], label='val_accuracy')\n",
        "plt.ylim([0, max(plt.ylim())])\n",
        "plt.xlabel('Epoch #')\n",
        "plt.ylabel('CE/token')\n",
        "plt.legend()"
      ],
      "metadata": {
        "colab": {
          "base_uri": "https://localhost:8080/",
          "height": 466
        },
        "id": "ua54kTWv2VGP",
        "outputId": "3ece089f-7e1d-4a23-b3fa-65b747e29f2b"
      },
      "execution_count": 80,
      "outputs": [
        {
          "output_type": "execute_result",
          "data": {
            "text/plain": [
              "<matplotlib.legend.Legend at 0x7f6b400dfb50>"
            ]
          },
          "metadata": {},
          "execution_count": 80
        },
        {
          "output_type": "display_data",
          "data": {
            "text/plain": [
              "<Figure size 640x480 with 1 Axes>"
            ],
            "image/png": "[encoded data removed]"
          },
          "metadata": {}
        }
      ]
    },
    {
      "cell_type": "code",
      "source": [
        "@Translator.add_method\n",
        "def translate(self,\n",
        "              texts, *,\n",
        "              max_length=50,\n",
        "              temperature=0.0):\n",
        "  # Process the input texts\n",
        "  context = self.encoder.convert_input(texts)\n",
        "  batch_size = tf.shape(texts)[0]\n",
        "\n",
        "  # Setup the loop inputs\n",
        "  tokens = []\n",
        "  attention_weights = []\n",
        "  next_token, done, state = self.decoder.get_initial_state(context)\n",
        "\n",
        "  for _ in range(max_length):\n",
        "    # Generate the next token\n",
        "    next_token, done, state = self.decoder.get_next_token(\n",
        "        context, next_token, done,  state, temperature)\n",
        "\n",
        "    # Collect the generated tokens\n",
        "    tokens.append(next_token)\n",
        "    attention_weights.append(self.decoder.last_attention_weights)\n",
        "\n",
        "    if tf.executing_eagerly() and tf.reduce_all(done):\n",
        "      break\n",
        "\n",
        "  # Stack the lists of tokens and attention weights.\n",
        "  tokens = tf.concat(tokens, axis=-1)   # t*[(batch 1)] -> (batch, t)\n",
        "  self.last_attention_weights = tf.concat(attention_weights, axis=1)  # t*[(batch 1 s)] -> (batch, t s)\n",
        "\n",
        "  result = self.decoder.tokens_to_text(tokens)\n",
        "  return result"
      ],
      "metadata": {
        "id": "ZR6zvt5f2Y7J"
      },
      "execution_count": 81,
      "outputs": []
    },
    {
      "cell_type": "code",
      "source": [
        "result = model.translate(['i am grateful for all your speeches .'])\n",
        "result[0].numpy().decode()"
      ],
      "metadata": {
        "colab": {
          "base_uri": "https://localhost:8080/",
          "height": 36
        },
        "id": "RElUuSIk2gMy",
        "outputId": "1a8c7149-e67d-4a92-d5e2-c717fc9f30a9"
      },
      "execution_count": 85,
      "outputs": [
        {
          "output_type": "execute_result",
          "data": {
            "text/plain": [
              "'i be grateful for all you speech . '"
            ],
            "application/vnd.google.colaboratory.intrinsic+json": {
              "type": "string"
            }
          },
          "metadata": {},
          "execution_count": 85
        }
      ]
    },
    {
      "cell_type": "code",
      "source": [
        "import random"
      ],
      "metadata": {
        "id": "Yl96H4nb3cyr"
      },
      "execution_count": 88,
      "outputs": []
    },
    {
      "cell_type": "code",
      "source": [
        "random.choice(list(data_raw.items()))"
      ],
      "metadata": {
        "colab": {
          "base_uri": "https://localhost:8080/"
        },
        "id": "USKMIKcJ2pwS",
        "outputId": "0613939e-74b7-4f71-9485-77a090fc3b4e"
      },
      "execution_count": 91,
      "outputs": [
        {
          "output_type": "execute_result",
          "data": {
            "text/plain": [
              "(\"i voted in favour of the motion for a european parliament resolution on turkey's progress report 200the report unfortunately comprises both serious lacks and misdirected demands .\",\n",
              " 'i vote in favor motion for european parliament resolution on turkey poss progress report 200 report unfortunately comprise both serious lack and misdirect demand .')"
            ]
          },
          "metadata": {},
          "execution_count": 91
        }
      ]
    },
    {
      "cell_type": "code",
      "source": [
        "model.translate([\"i voted in favour of the motion for a european parliament resolution on turkey's progress report 200the report unfortunately comprises both serious lacks and misdirected demands .\"])[0].numpy().decode()"
      ],
      "metadata": {
        "colab": {
          "base_uri": "https://localhost:8080/",
          "height": 36
        },
        "id": "DUTRs7Iy2zZg",
        "outputId": "d531fe97-2e26-4d18-ff27-57064ac81cad"
      },
      "execution_count": 94,
      "outputs": [
        {
          "output_type": "execute_result",
          "data": {
            "text/plain": [
              "'i vote in favor motion for european parliament resolution on turkey poss progress report 200 report unfortunately comprise both serious lack and misdirect demand . '"
            ],
            "application/vnd.google.colaboratory.intrinsic+json": {
              "type": "string"
            }
          },
          "metadata": {},
          "execution_count": 94
        }
      ]
    },
    {
      "cell_type": "code",
      "source": [
        "\"america\" in unique_words"
      ],
      "metadata": {
        "colab": {
          "base_uri": "https://localhost:8080/"
        },
        "id": "T3-ikTva3xpk",
        "outputId": "455ce638-2e72-4490-eea0-5ab0da408143"
      },
      "execution_count": 131,
      "outputs": [
        {
          "output_type": "execute_result",
          "data": {
            "text/plain": [
              "True"
            ]
          },
          "metadata": {},
          "execution_count": 131
        }
      ]
    },
    {
      "cell_type": "code",
      "source": [
        "def translate(text):\n",
        "  return model.translate([text])[0].numpy().decode()"
      ],
      "metadata": {
        "id": "7liIUiy-4UFs"
      },
      "execution_count": 97,
      "outputs": []
    },
    {
      "cell_type": "code",
      "source": [
        "translate(\"i like parliament .\")"
      ],
      "metadata": {
        "colab": {
          "base_uri": "https://localhost:8080/",
          "height": 36
        },
        "id": "UTiMAWFq4pmn",
        "outputId": "6454f364-f0a1-4263-dca3-f208965ceb26"
      },
      "execution_count": 138,
      "outputs": [
        {
          "output_type": "execute_result",
          "data": {
            "text/plain": [
              "'i like to parliament . '"
            ],
            "application/vnd.google.colaboratory.intrinsic+json": {
              "type": "string"
            }
          },
          "metadata": {},
          "execution_count": 138
        }
      ]
    },
    {
      "cell_type": "code",
      "source": [
        "freq = {}\n",
        "for word in ' '.join(english_raw).split(' '):\n",
        "  if word in freq:\n",
        "    freq[word] += 1\n",
        "  else:\n",
        "    freq[word] = 0"
      ],
      "metadata": {
        "id": "s4wk_M4P6RHm"
      },
      "execution_count": 141,
      "outputs": []
    },
    {
      "cell_type": "code",
      "source": [
        "freq"
      ],
      "metadata": {
        "colab": {
          "base_uri": "https://localhost:8080/"
        },
        "id": "Eks3fEy7AWif",
        "outputId": "150232a0-8ba8-4de1-8c50-38b5981dc35b"
      },
      "execution_count": 142,
      "outputs": [
        {
          "output_type": "execute_result",
          "data": {
            "text/plain": [
              "{'the': 810,\n",
              " 'date': 1,\n",
              " 'is': 297,\n",
              " 'not': 103,\n",
              " 'a': 208,\n",
              " 'fetish': 0,\n",
              " '.': 866,\n",
              " 'results': 1,\n",
              " 'speak': 2,\n",
              " 'for': 140,\n",
              " 'themselves': 3,\n",
              " 'it': 137,\n",
              " 'should': 36,\n",
              " 'mean': 3,\n",
              " 'that': 211,\n",
              " 'everyone': 5,\n",
              " 'given': 4,\n",
              " 'an': 40,\n",
              " 'equal': 1,\n",
              " 'opportunity': 3,\n",
              " 'europe': 26,\n",
              " 'has': 61,\n",
              " 'done': 6,\n",
              " 'very': 38,\n",
              " 'great': 12,\n",
              " 'deal': 3,\n",
              " 'of': 377,\n",
              " 'work': 16,\n",
              " 'in': 243,\n",
              " 'this': 214,\n",
              " 'field': 0,\n",
              " ',': 417,\n",
              " 'which': 27,\n",
              " 'to': 355,\n",
              " 'be': 110,\n",
              " 'welcomed': 0,\n",
              " 'we': 192,\n",
              " 'simply': 5,\n",
              " 'have': 89,\n",
              " 'build': 1,\n",
              " 'stage': 2,\n",
              " 'by': 42,\n",
              " 'issue': 13,\n",
              " 'proportionality': 0,\n",
              " 'are': 104,\n",
              " 'talking': 3,\n",
              " 'about': 33,\n",
              " 'rights': 9,\n",
              " 'plurality': 0,\n",
              " 'and': 246,\n",
              " 'freedom': 1,\n",
              " 'attempt': 0,\n",
              " 'did': 6,\n",
              " 'succeed': 1,\n",
              " 'but': 19,\n",
              " 'does': 15,\n",
              " 'represent': 0,\n",
              " 'precedent': 0,\n",
              " 'kind': 2,\n",
              " 'gathering': 0,\n",
              " 'green': 1,\n",
              " 'paper': 1,\n",
              " 'important': 34,\n",
              " 'seeing': 1,\n",
              " 'as': 58,\n",
              " 'concerns': 6,\n",
              " 'matter': 6,\n",
              " 'needs': 14,\n",
              " 'dealt': 3,\n",
              " 'with': 57,\n",
              " 'mr': 27,\n",
              " 'audy': 0,\n",
              " 'asked': 5,\n",
              " 'following': 4,\n",
              " 'question': 15,\n",
              " 'your': 17,\n",
              " 'samples': 0,\n",
              " 'sufficient': 2,\n",
              " 'size': 0,\n",
              " '?': 38,\n",
              " 'up': 17,\n",
              " 'you': 54,\n",
              " 'consider': 4,\n",
              " 'choose': 0,\n",
              " 'outcome': 2,\n",
              " 'want': 8,\n",
              " 'see': 39,\n",
              " 'what': 29,\n",
              " 'can': 31,\n",
              " 'expect': 2,\n",
              " 'from': 29,\n",
              " 'china': 3,\n",
              " 'must': 51,\n",
              " 'pay': 1,\n",
              " 'giving': 3,\n",
              " 'financial': 16,\n",
              " 'support': 17,\n",
              " 'developing': 2,\n",
              " 'countries': 9,\n",
              " 'i': 108,\n",
              " 'will': 80,\n",
              " 'however': 28,\n",
              " 'refer': 2,\n",
              " 'request': 2,\n",
              " 'conference': 0,\n",
              " 'presidents': 0,\n",
              " 'meet': 2,\n",
              " 'later': 0,\n",
              " 'afternoon': 0,\n",
              " 'says': 2,\n",
              " 'act': 3,\n",
              " 'also': 52,\n",
              " 'complies': 1,\n",
              " 'international': 7,\n",
              " 'standards': 6,\n",
              " 'pursues': 0,\n",
              " 'legitimate': 0,\n",
              " 'goal': 1,\n",
              " 'dates': 1,\n",
              " 'forthcoming': 1,\n",
              " 'sittings': 1,\n",
              " 'minutes': 34,\n",
              " 'there': 42,\n",
              " 'particularly': 4,\n",
              " 'close': 3,\n",
              " 'bond': 0,\n",
              " 'between': 10,\n",
              " 'all': 34,\n",
              " 'these': 36,\n",
              " 'links': 0,\n",
              " 'along': 1,\n",
              " 'open': 3,\n",
              " 'communication': 1,\n",
              " 'establishment': 2,\n",
              " 'evaluation': 1,\n",
              " 'mechanism': 3,\n",
              " 'member': 18,\n",
              " 'states': 21,\n",
              " 'focus': 4,\n",
              " 'on': 90,\n",
              " 'real': 4,\n",
              " 'solutions': 1,\n",
              " 'de': 2,\n",
              " 'madam': 7,\n",
              " 'president': 35,\n",
              " 'commissioner': 10,\n",
              " 'ladies': 3,\n",
              " 'gentlemen': 3,\n",
              " 'housing': 2,\n",
              " 'situation': 19,\n",
              " 'eu': 22,\n",
              " 'critical': 0,\n",
              " 'last': 10,\n",
              " 'speech': 2,\n",
              " 'parliament': 30,\n",
              " 'I': 55,\n",
              " 'more': 16,\n",
              " 'decisiveness': 0,\n",
              " 'house': 8,\n",
              " 'written': 8,\n",
              " 'statements': 8,\n",
              " 'rule': 12,\n",
              " '149': 4,\n",
              " '': 47,\n",
              " 'temptation': 0,\n",
              " 'use': 7,\n",
              " 'state': 6,\n",
              " 'aid': 4,\n",
              " 'different': 2,\n",
              " 'situations': 0,\n",
              " 'aware': 4,\n",
              " 'otherwise': 2,\n",
              " 'vote': 25,\n",
              " 'corresponding': 0,\n",
              " 'part': 7,\n",
              " 'amendment': 1,\n",
              " 'thank': 19,\n",
              " 'mrs': 6,\n",
              " 'ţicău': 1,\n",
              " 'take': 24,\n",
              " 'due': 2,\n",
              " 'note': 3,\n",
              " 'observation': 0,\n",
              " 'spain': 0,\n",
              " 'now': 17,\n",
              " 'greece': 1,\n",
              " 'deficit': 0,\n",
              " '11': 0,\n",
              " '%': 2,\n",
              " 'gdp': 0,\n",
              " 'ravalomanana': 0,\n",
              " 'lost': 1,\n",
              " 'he': 9,\n",
              " 'stood': 0,\n",
              " 'down': 6,\n",
              " '17': 1,\n",
              " 'march': 1,\n",
              " '200power': 0,\n",
              " 'was': 28,\n",
              " 'seized': 0,\n",
              " 'rajoelina': 0,\n",
              " 'who': 6,\n",
              " 'designated': 0,\n",
              " 'army': 0,\n",
              " 'plant': 1,\n",
              " 'protection': 7,\n",
              " 'products': 6,\n",
              " 'fact': 3,\n",
              " 'medicine': 0,\n",
              " 'plants': 0,\n",
              " 'resolution': 9,\n",
              " 'target': 3,\n",
              " 'questions': 12,\n",
              " 'document': 2,\n",
              " 'management': 6,\n",
              " 'common': 7,\n",
              " 'portal': 0,\n",
              " 'trans': 1,\n",
              " 'jai': 0,\n",
              " 'project': 4,\n",
              " 'reason': 2,\n",
              " 'cannot': 11,\n",
              " 'reports': 3,\n",
              " 'put': 3,\n",
              " 'forward': 3,\n",
              " 'information': 6,\n",
              " 'shows': 1,\n",
              " 'european': 68,\n",
              " \"union's\": 2,\n",
              " 'efforts': 2,\n",
              " 'concentrate': 0,\n",
              " 'two': 12,\n",
              " 'areas': 7,\n",
              " 'at': 38,\n",
              " 'same': 10,\n",
              " 'time': 17,\n",
              " 'proposed': 2,\n",
              " 'any': 20,\n",
              " 'financing': 1,\n",
              " 'strategy': 5,\n",
              " 'violence': 5,\n",
              " 'southern': 1,\n",
              " 'serbia': 1,\n",
              " 'particular': 5,\n",
              " 'requires': 3,\n",
              " 'solidarity': 6,\n",
              " \"europe's\": 3,\n",
              " 'institutions': 5,\n",
              " 'regional': 2,\n",
              " 'dimension': 0,\n",
              " 'course': 4,\n",
              " 'fully': 2,\n",
              " 'taken': 6,\n",
              " 'into': 9,\n",
              " 'account': 2,\n",
              " 'context': 5,\n",
              " 'only': 14,\n",
              " 'need': 19,\n",
              " 'harmonisation': 0,\n",
              " 'law': 6,\n",
              " 'clearly': 5,\n",
              " 'defined': 0,\n",
              " 'limited': 1,\n",
              " 'cohesion': 3,\n",
              " 'policy': 19,\n",
              " 'both': 6,\n",
              " 'urban': 0,\n",
              " 'rural': 0,\n",
              " 'do': 29,\n",
              " '1': 1,\n",
              " 'january': 0,\n",
              " 'its': 18,\n",
              " 'own': 5,\n",
              " 'sake': 1,\n",
              " 'ec': 1,\n",
              " 'côte': 0,\n",
              " 'd': 0,\n",
              " 'ivoire': 0,\n",
              " 'fisheries': 0,\n",
              " 'partnership': 7,\n",
              " 'agreement': 12,\n",
              " 'would': 37,\n",
              " 'much': 9,\n",
              " 'welcome': 5,\n",
              " 'if': 22,\n",
              " 'one': 21,\n",
              " 'those': 6,\n",
              " 'top': 2,\n",
              " 'jobs': 3,\n",
              " 'could': 4,\n",
              " 'go': 5,\n",
              " 'woman': 0,\n",
              " 'after': 6,\n",
              " 'signing': 0,\n",
              " 'intergovernmental': 0,\n",
              " 'nabucco': 0,\n",
              " 'union': 12,\n",
              " 'action': 10,\n",
              " 'staff': 1,\n",
              " 'working': 3,\n",
              " 'cross': 0,\n",
              " 'border': 3,\n",
              " 'e': 0,\n",
              " 'commerce': 0,\n",
              " 'initiative': 6,\n",
              " 'my': 16,\n",
              " 'colleague': 0,\n",
              " 'meglena': 0,\n",
              " 'kuneva': 0,\n",
              " 'therefore': 36,\n",
              " 'necessary': 4,\n",
              " 'preparations': 0,\n",
              " 'being': 9,\n",
              " 'continued': 4,\n",
              " 'rigour': 0,\n",
              " 'fault': 0,\n",
              " 'french': 1,\n",
              " 'translated': 0,\n",
              " 'asderegulation.': 0,\n",
              " 'concern': 2,\n",
              " 'eur': 7,\n",
              " '1.1': 0,\n",
              " 'million': 6,\n",
              " 'almost': 2,\n",
              " '000': 1,\n",
              " 'workers': 0,\n",
              " 'highly': 1,\n",
              " 'sensitive': 0,\n",
              " 'hard': 0,\n",
              " 'hit': 1,\n",
              " 'sector': 2,\n",
              " 'opposed': 0,\n",
              " 'non': 1,\n",
              " 'mandatory': 0,\n",
              " 'code': 1,\n",
              " 'conduct': 0,\n",
              " 'favour': 10,\n",
              " 'efficient': 1,\n",
              " 'enforcement': 0,\n",
              " 'applause': 4,\n",
              " 'firstly': 4,\n",
              " 'appointments': 0,\n",
              " 'straight': 1,\n",
              " 'clarification': 2,\n",
              " 'reads': 0,\n",
              " 'follows': 4,\n",
              " 'english': 0,\n",
              " 'start': 6,\n",
              " 'constitutional': 0,\n",
              " 'process': 4,\n",
              " 'rules': 11,\n",
              " 'were': 16,\n",
              " 'every': 5,\n",
              " 'country': 3,\n",
              " 'had': 8,\n",
              " 'ratify': 0,\n",
              " 'or': 10,\n",
              " 'fell': 0,\n",
              " 'our': 43,\n",
              " 'wishes': 5,\n",
              " 'become': 4,\n",
              " 'reality': 3,\n",
              " 'assist': 0,\n",
              " 'cooperate': 1,\n",
              " 'croatia': 1,\n",
              " 'anxious': 0,\n",
              " 'foreign': 0,\n",
              " 'security': 5,\n",
              " 'unfortunately': 3,\n",
              " 'case': 8,\n",
              " 'suffered': 0,\n",
              " 'fate': 0,\n",
              " 'his': 5,\n",
              " 'predecessor': 0,\n",
              " 'reaching': 0,\n",
              " 'us': 27,\n",
              " 'haiti': 1,\n",
              " 'shocking': 1,\n",
              " 'approach': 10,\n",
              " 'sense': 0,\n",
              " 'responsibility': 4,\n",
              " 'realism': 0,\n",
              " 'major': 4,\n",
              " 'role': 8,\n",
              " 'play': 2,\n",
              " 'immeasurable': 0,\n",
              " 'how': 12,\n",
              " 'when': 8,\n",
              " 'provided': 2,\n",
              " 'seems': 3,\n",
              " 'no': 21,\n",
              " 'political': 13,\n",
              " 'especially': 3,\n",
              " 'true': 8,\n",
              " 'uniform': 1,\n",
              " 'balanced': 0,\n",
              " 'enlargement': 1,\n",
              " 'turning': 0,\n",
              " 'individual': 3,\n",
              " 'detail': 0,\n",
              " 'essentially': 0,\n",
              " 'agrees': 0,\n",
              " 'principle': 8,\n",
              " 'paying': 0,\n",
              " 'costs': 2,\n",
              " 'doubt': 1,\n",
              " 'direct': 2,\n",
              " 'bokros': 0,\n",
              " 'informed': 3,\n",
              " 'early': 0,\n",
              " 'staffing': 0,\n",
              " 'changes': 2,\n",
              " 'commission': 36,\n",
              " 'believe': 14,\n",
              " 'remain': 7,\n",
              " 'idle': 0,\n",
              " 'transit': 0,\n",
              " 'think': 18,\n",
              " 'three': 2,\n",
              " 'made': 8,\n",
              " 'their': 17,\n",
              " 'viewpoint': 0,\n",
              " 'debate': 15,\n",
              " 'clear': 6,\n",
              " 'choice': 1,\n",
              " 'hands': 0,\n",
              " 'companies': 0,\n",
              " 'citizens': 8,\n",
              " 'like': 22,\n",
              " 'politicians': 1,\n",
              " 'able': 2,\n",
              " 'travel': 2,\n",
              " 'freely': 0,\n",
              " 'colleagues': 0,\n",
              " 'spoken': 0,\n",
              " 'unprecedented': 0,\n",
              " 'flooding': 0,\n",
              " 'took': 1,\n",
              " 'place': 8,\n",
              " 'ireland': 3,\n",
              " 'weekend': 0,\n",
              " 'council': 16,\n",
              " 'envisage': 0,\n",
              " 'coordinated': 2,\n",
              " 'alleviating': 0,\n",
              " 'burden': 0,\n",
              " 'patients': 0,\n",
              " 'families': 1,\n",
              " 'carers': 0,\n",
              " 'fuelled': 0,\n",
              " 'war': 3,\n",
              " 'cambodia': 0,\n",
              " '1990s': 0,\n",
              " 'enemy': 0,\n",
              " 'democracy': 5,\n",
              " 'budget': 7,\n",
              " '2': 0,\n",
              " '200': 1,\n",
              " 'allocated': 0,\n",
              " '2008': 1,\n",
              " 'alone': 2,\n",
              " 'improvements': 1,\n",
              " '2009': 7,\n",
              " 'regard': 3,\n",
              " 'democratic': 2,\n",
              " 'procedure': 1,\n",
              " 'ending': 0,\n",
              " 'reference': 0,\n",
              " 'romania': 6,\n",
              " 'bulgaria': 3,\n",
              " 'used': 5,\n",
              " 'without': 7,\n",
              " 'taking': 4,\n",
              " 'consideration': 2,\n",
              " 'entire': 1,\n",
              " 'listening': 0,\n",
              " 'iran': 4,\n",
              " 'shirin': 0,\n",
              " 'ebadi': 0,\n",
              " 'indeed': 3,\n",
              " 'actually': 4,\n",
              " 'best': 7,\n",
              " 'instrument': 6,\n",
              " 'mobilising': 0,\n",
              " 'investment': 3,\n",
              " 'growth': 4,\n",
              " 'employment': 1,\n",
              " 'look': 1,\n",
              " 'closely': 1,\n",
              " 'new': 12,\n",
              " 'coming': 1,\n",
              " 'moreover': 1,\n",
              " 'imperial': 0,\n",
              " 'conception': 0,\n",
              " 'evident': 0,\n",
              " 'speaking': 1,\n",
              " 'free': 6,\n",
              " 'addition': 1,\n",
              " 'secretariat': 0,\n",
              " 'regarding': 2,\n",
              " 'reception': 0,\n",
              " 'appear': 1,\n",
              " 'completely': 2,\n",
              " 'ineffective': 1,\n",
              " 'strengthens': 0,\n",
              " 'fight': 3,\n",
              " 'against': 9,\n",
              " 'climate': 2,\n",
              " 'change': 10,\n",
              " 'day': 1,\n",
              " 'memorial': 0,\n",
              " 'never': 5,\n",
              " 'forget': 1,\n",
              " 'experienced': 1,\n",
              " 'just': 10,\n",
              " 'move': 2,\n",
              " 'present': 7,\n",
              " 'differences': 0,\n",
              " 'government': 7,\n",
              " 'many': 16,\n",
              " 'some': 10,\n",
              " 'serious': 7,\n",
              " 'conditions': 4,\n",
              " 'led': 2,\n",
              " 'crisis': 17,\n",
              " 'job': 4,\n",
              " 'seekers': 0,\n",
              " 'submitted': 3,\n",
              " 'number': 6,\n",
              " 'amendments': 3,\n",
              " 'committee': 1,\n",
              " 'relatively': 1,\n",
              " 'benevolently': 0,\n",
              " 'rapporteur': 5,\n",
              " 'years': 7,\n",
              " 'difficult': 5,\n",
              " 'abuse': 0,\n",
              " 'power': 3,\n",
              " 'wherever': 0,\n",
              " 'might': 1,\n",
              " 'condemned': 0,\n",
              " 'combine': 0,\n",
              " 'pieces': 0,\n",
              " 'meat': 2,\n",
              " 'together': 4,\n",
              " 'single': 4,\n",
              " 'product': 1,\n",
              " 'manage': 1,\n",
              " 'millennium': 0,\n",
              " 'development': 7,\n",
              " 'goals': 1,\n",
              " 'everything': 1,\n",
              " 'itemised': 0,\n",
              " 'voting': 7,\n",
              " 'list': 1,\n",
              " 'am': 21,\n",
              " 'well': 7,\n",
              " '40': 2,\n",
              " 'members': 7,\n",
              " 'before': 2,\n",
              " 'quorum': 0,\n",
              " 'may': 8,\n",
              " 'requested': 1,\n",
              " 'let': 7,\n",
              " 'waste': 0,\n",
              " 'concerning': 4,\n",
              " 'mediterranean': 1,\n",
              " 'objected': 0,\n",
              " 'reductionist': 0,\n",
              " 'approximation': 0,\n",
              " 'talks': 1,\n",
              " 'complexity': 0,\n",
              " 'kelly': 0,\n",
              " 'crucial': 1,\n",
              " 'defend': 0,\n",
              " 'why': 13,\n",
              " 'sorry': 0,\n",
              " 'yulia': 1,\n",
              " 'tymoshenko': 1,\n",
              " 'elections': 4,\n",
              " 'they': 28,\n",
              " 'so': 21,\n",
              " 'dictate': 0,\n",
              " 'them': 11,\n",
              " 'future': 10,\n",
              " 'enlargements': 0,\n",
              " 'reflect': 1,\n",
              " 'prevailing': 0,\n",
              " 'opinion': 3,\n",
              " 'deposit': 0,\n",
              " 'guarantee': 2,\n",
              " 'schemes': 1,\n",
              " 'regards': 3,\n",
              " 'coverage': 0,\n",
              " 'level': 11,\n",
              " 'payout': 0,\n",
              " 'delay': 1,\n",
              " 'lastly': 0,\n",
              " 'complaints': 0,\n",
              " 'better': 6,\n",
              " 'organised': 0,\n",
              " 'make': 11,\n",
              " 'assessment': 3,\n",
              " 'say': 9,\n",
              " 'few': 6,\n",
              " 'words': 6,\n",
              " 'legislation': 6,\n",
              " 'sign': 0,\n",
              " 'today': 16,\n",
              " 'such': 11,\n",
              " 'orientation': 0,\n",
              " 'integrated': 1,\n",
              " 'guidelines': 1,\n",
              " 'adopted': 8,\n",
              " 'priorities': 1,\n",
              " 'third': 1,\n",
              " 'timeframe': 0,\n",
              " 'relaxing': 0,\n",
              " 'visa': 2,\n",
              " 'restrictions': 0,\n",
              " 'congratulate': 3,\n",
              " 'since': 4,\n",
              " 'meeting': 1,\n",
              " 'unimportant': 0,\n",
              " 'element': 0,\n",
              " 'swedish': 2,\n",
              " 'presidency': 7,\n",
              " 'seeking': 0,\n",
              " 'speed': 0,\n",
              " 'capitalist': 0,\n",
              " 'restructurings': 0,\n",
              " 'within': 7,\n",
              " 'framework': 1,\n",
              " 'lisbon': 9,\n",
              " 'belgian': 0,\n",
              " 'authorities': 6,\n",
              " '9.2': 0,\n",
              " 'fund': 6,\n",
              " 'patriots': 0,\n",
              " 'ofataka,': 0,\n",
              " 'energy': 6,\n",
              " 'independence': 3,\n",
              " 'priority': 3,\n",
              " 'lt': 0,\n",
              " 'human': 4,\n",
              " 'deteriorating': 0,\n",
              " 'achieve': 4,\n",
              " 'objective': 2,\n",
              " 'involved': 3,\n",
              " 'most': 5,\n",
              " 'task': 4,\n",
              " 'resolve': 2,\n",
              " 'economic': 18,\n",
              " 'social': 9,\n",
              " 'problems': 5,\n",
              " 'compliance': 0,\n",
              " 'flag': 0,\n",
              " 'requirements': 2,\n",
              " 'transfers': 3,\n",
              " 'appropriations': 3,\n",
              " 'el': 0,\n",
              " 'reply': 0,\n",
              " 'come': 6,\n",
              " 'armed': 0,\n",
              " 'ambitious': 1,\n",
              " 'projects': 0,\n",
              " 'presence': 0,\n",
              " 'first': 8,\n",
              " 'indication': 0,\n",
              " 'something': 8,\n",
              " 'changing': 0,\n",
              " 'willing': 1,\n",
              " 'ready': 3,\n",
              " 'contribute': 1,\n",
              " 'tec': 0,\n",
              " 'processes': 0,\n",
              " 'fair': 2,\n",
              " 'trade': 8,\n",
              " 'merely': 1,\n",
              " 'imagine': 0,\n",
              " 'been': 27,\n",
              " 'negotiating': 3,\n",
              " 'partners': 0,\n",
              " 'other': 12,\n",
              " 'side': 1,\n",
              " 'back': 1,\n",
              " 'burner': 0,\n",
              " 'long': 9,\n",
              " 'while': 2,\n",
              " 'final': 2,\n",
              " 'diet': 0,\n",
              " 'assistance': 3,\n",
              " 'national': 8,\n",
              " 'governments': 1,\n",
              " 'transposing': 0,\n",
              " 'directive': 8,\n",
              " 'neither': 3,\n",
              " 'unnecessarily': 0,\n",
              " 'restrict': 0,\n",
              " 'insight': 0,\n",
              " 'respect': 6,\n",
              " 'peace': 4,\n",
              " 'obstacles': 1,\n",
              " 'bureaucratic': 0,\n",
              " 'difficulties': 2,\n",
              " 'complex': 1,\n",
              " 'vague': 0,\n",
              " 'procedures': 2,\n",
              " 'lead': 5,\n",
              " 'mistakes': 0,\n",
              " 'already': 8,\n",
              " 'preparing': 0,\n",
              " 'negotiations': 3,\n",
              " 'expected': 1,\n",
              " 'next': 7,\n",
              " 'months': 2,\n",
              " 'tunisia': 0,\n",
              " 'rightly': 1,\n",
              " 'takes': 0,\n",
              " 'uncompromising': 0,\n",
              " 'islamist': 0,\n",
              " 'jihadi': 0,\n",
              " 'extremism': 0,\n",
              " 'israel': 1,\n",
              " 'mighty': 0,\n",
              " 'allies': 0,\n",
              " 'outside': 2,\n",
              " 'too': 6,\n",
              " 'attention': 3,\n",
              " 'benefit': 3,\n",
              " 'infringement': 0,\n",
              " 'proceedings': 0,\n",
              " 'area': 6,\n",
              " 'nicaragua': 0,\n",
              " 'warning': 1,\n",
              " 'example': 3,\n",
              " 'kinds': 0,\n",
              " 'rulers': 0,\n",
              " 'agenda': 2,\n",
              " 'sitting': 12,\n",
              " 'tuesday': 0,\n",
              " '18': 1,\n",
              " '20written': 0,\n",
              " 'wonder': 3,\n",
              " 'report': 28,\n",
              " 'read': 0,\n",
              " 'avoid': 0,\n",
              " 'watering': 0,\n",
              " 'accession': 2,\n",
              " 'erecting': 0,\n",
              " 'extra': 0,\n",
              " 'times': 3,\n",
              " 'arrives': 0,\n",
              " 'unobtrusively': 0,\n",
              " 'children': 3,\n",
              " 'chance': 2,\n",
              " 'life': 4,\n",
              " 'mdg': 0,\n",
              " 'van': 1,\n",
              " 'nistelrooij': 0,\n",
              " 'stressed': 0,\n",
              " 'expression': 1,\n",
              " 'bosnia': 0,\n",
              " 'herzegovina': 0,\n",
              " 'albania': 0,\n",
              " 'kosovo': 4,\n",
              " 'subject': 7,\n",
              " 'asylum': 1,\n",
              " 'call': 3,\n",
              " 'genuine': 1,\n",
              " 'wait': 0,\n",
              " '!': 6,\n",
              " 'contribution': 1,\n",
              " 'several': 1,\n",
              " 'fronts': 0,\n",
              " 'measures': 12,\n",
              " 'promotion': 0,\n",
              " 'services': 3,\n",
              " 'help': 6,\n",
              " 'increase': 2,\n",
              " 'efficiency': 1,\n",
              " 'promote': 1,\n",
              " 'renewable': 0,\n",
              " 'energies': 0,\n",
              " 'community': 4,\n",
              " 'specifically': 1,\n",
              " 'once': 1,\n",
              " 'again': 5,\n",
              " 'wall': 3,\n",
              " 'rising': 0,\n",
              " 'higher': 2,\n",
              " 'than': 7,\n",
              " 'berlin': 0,\n",
              " 'give': 7,\n",
              " 'another': 4,\n",
              " 'bring': 5,\n",
              " 'bear': 2,\n",
              " 'collective': 0,\n",
              " 'experience': 1,\n",
              " 'step': 5,\n",
              " 'affirming': 0,\n",
              " 'individuals': 0,\n",
              " 'guaranteeing': 1,\n",
              " 'prerequisite': 0,\n",
              " 'legislative': 1,\n",
              " 'maintain': 0,\n",
              " 'until': 4,\n",
              " 'recovery': 1,\n",
              " 'consolidated': 0,\n",
              " 'parties': 1,\n",
              " 'text': 1,\n",
              " 'plenary': 0,\n",
              " 'offer': 1,\n",
              " 'guarantees': 0,\n",
              " 'effect': 1,\n",
              " 'importance': 5,\n",
              " 'draft': 4,\n",
              " 'treaty': 13,\n",
              " \"commission's\": 2,\n",
              " 'discharge': 1,\n",
              " 'agree': 8,\n",
              " 'applaud': 1,\n",
              " 'whole': 3,\n",
              " 'content': 1,\n",
              " 'prevention': 1,\n",
              " 'alongside': 0,\n",
              " 'providing': 0,\n",
              " 'possible': 3,\n",
              " 'care': 1,\n",
              " 'affected': 1,\n",
              " 'stop': 1,\n",
              " 'pointing': 0,\n",
              " 'out': 10,\n",
              " 'way': 10,\n",
              " 'ukraine': 0,\n",
              " 'diversity': 1,\n",
              " 'characterises': 0,\n",
              " 'europeans': 1,\n",
              " 'decisive': 1,\n",
              " 'factor': 0,\n",
              " 'lives': 2,\n",
              " 'required': 0,\n",
              " 'harmonise': 0,\n",
              " 'regulations': 3,\n",
              " 'lacking': 2,\n",
              " 'approval': 1,\n",
              " 'previous': 2,\n",
              " 'improving': 1,\n",
              " 'legal': 1,\n",
              " 'strengthening': 3,\n",
              " 'add': 0,\n",
              " 'further': 5,\n",
              " 'exceptions': 0,\n",
              " 'exist': 2,\n",
              " 'office': 3,\n",
              " 'know': 12,\n",
              " 'located': 0,\n",
              " 'valletta': 0,\n",
              " 'global': 2,\n",
              " 'problem': 5,\n",
              " 'elsewhere': 0,\n",
              " 'right': 9,\n",
              " 'entirely': 2,\n",
              " 'irony': 0,\n",
              " 'nevertheless': 2,\n",
              " 'six': 2,\n",
              " 'discuss': 2,\n",
              " 'investments': 0,\n",
              " 'occur': 0,\n",
              " 'finance': 0,\n",
              " 'agricultural': 2,\n",
              " 'ever': 2,\n",
              " 'played': 0,\n",
              " 'russian': 1,\n",
              " 'roulette': 0,\n",
              " 'yet': 9,\n",
              " 'even': 6,\n",
              " 'solution': 3,\n",
              " 'farm': 0,\n",
              " 'women': 8,\n",
              " 'protesting': 0,\n",
              " 'difficulty': 0,\n",
              " 'transatlantic': 0,\n",
              " 'relations': 1,\n",
              " 'aftermath': 0,\n",
              " 'get': 3,\n",
              " 'fewer': 0,\n",
              " 'initiatives': 3,\n",
              " 'necessarily': 0,\n",
              " 'submission': 1,\n",
              " 'concrete': 2,\n",
              " 'proposals': 3,\n",
              " 'electorate': 0,\n",
              " 'decides': 0,\n",
              " 'included': 1,\n",
              " 'press': 0,\n",
              " 'releases': 0,\n",
              " 'order': 5,\n",
              " 'pushing': 0,\n",
              " 'others': 3,\n",
              " 'burma': 0,\n",
              " 'detention': 0,\n",
              " 'prisoners': 2,\n",
              " 'direction': 4,\n",
              " 'gratitude': 0,\n",
              " 'goes': 1,\n",
              " 'demetriou': 0,\n",
              " 'whose': 1,\n",
              " 'excellent': 1,\n",
              " 'recommendation': 0,\n",
              " 'starting': 1,\n",
              " 'point': 10,\n",
              " 'controls': 2,\n",
              " 'voiced': 0,\n",
              " 'proposal': 12,\n",
              " 'raising': 0,\n",
              " 'issues': 5,\n",
              " 'forums': 0,\n",
              " 'attends': 0,\n",
              " 'closed': 5,\n",
              " 'reigned': 0,\n",
              " 'among': 2,\n",
              " 'nations': 1,\n",
              " 'eastern': 3,\n",
              " 'bloc': 0,\n",
              " 'prison': 0,\n",
              " 'courtyard': 0,\n",
              " 'closure': 1,\n",
              " 'platform': 0,\n",
              " 'called': 1,\n",
              " 'coordination': 1,\n",
              " 'arrangements': 0,\n",
              " 'cca': 0,\n",
              " 'significant': 1,\n",
              " 'disparity': 1,\n",
              " 'agriculture': 1,\n",
              " 'certain': 1,\n",
              " 'extent': 0,\n",
              " 're': 1,\n",
              " 'nationalised': 0,\n",
              " 'keep': 3,\n",
              " 'channels': 0,\n",
              " 'world': 3,\n",
              " 'economy': 3,\n",
              " 'over': 8,\n",
              " \"people's\": 1,\n",
              " 'safety': 4,\n",
              " 'seven': 0,\n",
              " 'belarus': 0,\n",
              " 'planning': 0,\n",
              " 'nuclear': 1,\n",
              " 'quite': 4,\n",
              " 'lithuanian': 0,\n",
              " 'olejniczak': 0,\n",
              " 'series': 1,\n",
              " 'inequality': 0,\n",
              " 'indecent': 0,\n",
              " 'obstacle': 0,\n",
              " 'shall': 2,\n",
              " 'deplorable': 0,\n",
              " 'child': 1,\n",
              " 'labour': 1,\n",
              " 'slave': 0,\n",
              " 'still': 6,\n",
              " 'hope': 10,\n",
              " 'emanating': 0,\n",
              " 'united': 4,\n",
              " 'end': 2,\n",
              " 'mandate': 2,\n",
              " 'czech': 0,\n",
              " 'decided': 1,\n",
              " '30': 2,\n",
              " 'ago': 1,\n",
              " 'accept': 3,\n",
              " 'negotiated': 0,\n",
              " 'trialogue': 1,\n",
              " 'nearing': 0,\n",
              " 'finishing': 0,\n",
              " 'line': 2,\n",
              " 'four': 1,\n",
              " 'intense': 0,\n",
              " 'people': 14,\n",
              " 'enough': 5,\n",
              " 'blame': 2,\n",
              " 'newspapers': 0,\n",
              " 'including': 1,\n",
              " 'magazine': 0,\n",
              " 'le': 0,\n",
              " 'nouvel': 0,\n",
              " 'observateur': 0,\n",
              " 'threatened': 1,\n",
              " 'stateless': 0,\n",
              " 'chaos': 0,\n",
              " 'known': 1,\n",
              " 'somalia': 0,\n",
              " 'main': 2,\n",
              " 'challenge': 1,\n",
              " 'involves': 1,\n",
              " 'helping': 1,\n",
              " 'territories': 0,\n",
              " ...}"
            ]
          },
          "metadata": {},
          "execution_count": 142
        }
      ]
    },
    {
      "cell_type": "code",
      "source": [],
      "metadata": {
        "id": "PfehGfogAXfK"
      },
      "execution_count": null,
      "outputs": []
    }
  ]
}